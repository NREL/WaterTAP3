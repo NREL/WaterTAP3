{
 "cells": [
  {
   "cell_type": "code",
   "execution_count": 2,
   "metadata": {},
   "outputs": [],
   "source": [
    "import pandas as pd\n",
    "import numpy as np\n",
    "import plotly.express as px"
   ]
  },
  {
   "cell_type": "code",
   "execution_count": 3,
   "metadata": {},
   "outputs": [],
   "source": [
    "source_water = \"brackish\"\n",
    "#cases = [\"ashkelon\", \"carlsbad\", \"tampa_bay\", \"santa_barbara\"]\n",
    "cases = [\"kbhdp\", \"emwd\", \"irwin\"]"
   ]
  },
  {
   "cell_type": "code",
   "execution_count": 4,
   "metadata": {},
   "outputs": [],
   "source": [
    "# combine baseline results and clean\n",
    "df = pd.DataFrame()\n",
    "df1 = pd.read_csv((\"results/case_studies/%s_baseline.csv\" % cases[0]), index_col=False)\n",
    "df2 = pd.read_csv((\"results/case_studies/%s_baseline.csv\" % cases[1]), index_col=False)\n",
    "df3 = pd.read_csv((\"results/case_studies/%s_baseline.csv\" % cases[2]), index_col=False)\n",
    "#df4 = pd.read_csv((\"results/case_studies/%s_baseline.csv\" % cases[3]), index_col=False)\n",
    "df = pd.concat([df1, df2, df3]) #df4"
   ]
  },
  {
   "cell_type": "code",
   "execution_count": 5,
   "metadata": {
    "scrolled": true
   },
   "outputs": [],
   "source": [
    "# delete unwanted variables\n",
    "d_vars = ['Land', 'Working Capital', 'Fixed Capital Investment (FCI)', \n",
    "         'Employee Salaries', 'Benefits', 'Maintenance', 'Laboratory', 'Insurance and Taxes', \n",
    "         'Base Employee Salary', 'System Total Operating', 'System Fixed Operating',\n",
    "         'System Other Variable Operating', 'System Total Operating', \"Electricity Fraction of LCOW\"]\n",
    "\n",
    "for d_var in d_vars:\n",
    "    df = df[df.Variable != d_var]\n",
    "    \n",
    "df = df.drop_duplicates()\n",
    "\n",
    "df.Variable = np.where(df.Variable == 'Other Operating', \"Other Variable Operating\", df.Variable)\n",
    "df.Variable = np.where(df.Variable == 'Total Fixed Operating ', 'Fixed Operating', df.Variable)\n",
    "\n",
    "df.to_csv(\"results/case_studies/%s_baseline.csv\" % source_water)"
   ]
  },
  {
   "cell_type": "code",
   "execution_count": 3,
   "metadata": {},
   "outputs": [],
   "source": [
    "df = pd.read_csv('./seawater_baseline.csv')"
   ]
  },
  {
   "cell_type": "code",
   "execution_count": 10,
   "metadata": {},
   "outputs": [
    {
     "output_type": "execute_result",
     "data": {
      "text/plain": [
       "      Unit Process Name                        Variable   Value  \\\n",
       "0     sw_onshore_intake           Electricity Intensity   0.102   \n",
       "1     sw_onshore_intake  Total Capital Investment (TCI)  10.217   \n",
       "2     sw_onshore_intake         Catalysts and Chemicals   0.000   \n",
       "3     sw_onshore_intake                     Electricity   0.477   \n",
       "4     sw_onshore_intake        Other Variable Operating   0.000   \n",
       "...                 ...                             ...     ...   \n",
       "1437             System              System Electricity   2.509   \n",
       "1438             System     System Total Operating Cost   3.761   \n",
       "1439             System           System Levelized Cost   1.414   \n",
       "1440             System           Electricity Intensity   3.841   \n",
       "1441             System                  Water Recovery  50.000   \n",
       "\n",
       "              Metric    Unit     Case Study  Scenario  \n",
       "0        Electricity  kwh/m3      tampa_bay  baseline  \n",
       "1               Cost     $MM      tampa_bay  baseline  \n",
       "2        Annual Cost  $MM/yr      tampa_bay  baseline  \n",
       "3        Annual Cost  $MM/yr      tampa_bay  baseline  \n",
       "4        Annual Cost  $MM/yr      tampa_bay  baseline  \n",
       "...              ...     ...            ...       ...  \n",
       "1437     Annual Cost  $MM/yr  santa_barbara  baseline  \n",
       "1438     Annual Cost  $MM/yr  santa_barbara  baseline  \n",
       "1439            LCOW    $/m3  santa_barbara  baseline  \n",
       "1440     Electricity  kwh/m3  santa_barbara  baseline  \n",
       "1441  Water Recovery       %  santa_barbara  baseline  \n",
       "\n",
       "[1442 rows x 7 columns]"
      ],
      "text/html": "<div>\n<style scoped>\n    .dataframe tbody tr th:only-of-type {\n        vertical-align: middle;\n    }\n\n    .dataframe tbody tr th {\n        vertical-align: top;\n    }\n\n    .dataframe thead th {\n        text-align: right;\n    }\n</style>\n<table border=\"1\" class=\"dataframe\">\n  <thead>\n    <tr style=\"text-align: right;\">\n      <th></th>\n      <th>Unit Process Name</th>\n      <th>Variable</th>\n      <th>Value</th>\n      <th>Metric</th>\n      <th>Unit</th>\n      <th>Case Study</th>\n      <th>Scenario</th>\n    </tr>\n  </thead>\n  <tbody>\n    <tr>\n      <th>0</th>\n      <td>sw_onshore_intake</td>\n      <td>Electricity Intensity</td>\n      <td>0.102</td>\n      <td>Electricity</td>\n      <td>kwh/m3</td>\n      <td>tampa_bay</td>\n      <td>baseline</td>\n    </tr>\n    <tr>\n      <th>1</th>\n      <td>sw_onshore_intake</td>\n      <td>Total Capital Investment (TCI)</td>\n      <td>10.217</td>\n      <td>Cost</td>\n      <td>$MM</td>\n      <td>tampa_bay</td>\n      <td>baseline</td>\n    </tr>\n    <tr>\n      <th>2</th>\n      <td>sw_onshore_intake</td>\n      <td>Catalysts and Chemicals</td>\n      <td>0.000</td>\n      <td>Annual Cost</td>\n      <td>$MM/yr</td>\n      <td>tampa_bay</td>\n      <td>baseline</td>\n    </tr>\n    <tr>\n      <th>3</th>\n      <td>sw_onshore_intake</td>\n      <td>Electricity</td>\n      <td>0.477</td>\n      <td>Annual Cost</td>\n      <td>$MM/yr</td>\n      <td>tampa_bay</td>\n      <td>baseline</td>\n    </tr>\n    <tr>\n      <th>4</th>\n      <td>sw_onshore_intake</td>\n      <td>Other Variable Operating</td>\n      <td>0.000</td>\n      <td>Annual Cost</td>\n      <td>$MM/yr</td>\n      <td>tampa_bay</td>\n      <td>baseline</td>\n    </tr>\n    <tr>\n      <th>...</th>\n      <td>...</td>\n      <td>...</td>\n      <td>...</td>\n      <td>...</td>\n      <td>...</td>\n      <td>...</td>\n      <td>...</td>\n    </tr>\n    <tr>\n      <th>1437</th>\n      <td>System</td>\n      <td>System Electricity</td>\n      <td>2.509</td>\n      <td>Annual Cost</td>\n      <td>$MM/yr</td>\n      <td>santa_barbara</td>\n      <td>baseline</td>\n    </tr>\n    <tr>\n      <th>1438</th>\n      <td>System</td>\n      <td>System Total Operating Cost</td>\n      <td>3.761</td>\n      <td>Annual Cost</td>\n      <td>$MM/yr</td>\n      <td>santa_barbara</td>\n      <td>baseline</td>\n    </tr>\n    <tr>\n      <th>1439</th>\n      <td>System</td>\n      <td>System Levelized Cost</td>\n      <td>1.414</td>\n      <td>LCOW</td>\n      <td>$/m3</td>\n      <td>santa_barbara</td>\n      <td>baseline</td>\n    </tr>\n    <tr>\n      <th>1440</th>\n      <td>System</td>\n      <td>Electricity Intensity</td>\n      <td>3.841</td>\n      <td>Electricity</td>\n      <td>kwh/m3</td>\n      <td>santa_barbara</td>\n      <td>baseline</td>\n    </tr>\n    <tr>\n      <th>1441</th>\n      <td>System</td>\n      <td>Water Recovery</td>\n      <td>50.000</td>\n      <td>Water Recovery</td>\n      <td>%</td>\n      <td>santa_barbara</td>\n      <td>baseline</td>\n    </tr>\n  </tbody>\n</table>\n<p>1442 rows × 7 columns</p>\n</div>"
     },
     "metadata": {},
     "execution_count": 10
    }
   ],
   "source": [
    "df"
   ]
  },
  {
   "cell_type": "code",
   "execution_count": 13,
   "metadata": {},
   "outputs": [],
   "source": [
    "sys_df = df[df[\"Unit Process Name\"] == \"System\"]\n",
    "sys_df = sys_df[sys_df[\"Metric\"] == \"LCOW\"]"
   ]
  },
  {
   "cell_type": "code",
   "execution_count": 14,
   "metadata": {},
   "outputs": [
    {
     "output_type": "execute_result",
     "data": {
      "text/plain": [
       "     Unit Process Name               Variable  Value Metric  Unit  \\\n",
       "278             System  System Levelized Cost  1.219   LCOW  $/m3   \n",
       "1439            System  System Levelized Cost  1.414   LCOW  $/m3   \n",
       "\n",
       "         Case Study  Scenario  \n",
       "278       tampa_bay  baseline  \n",
       "1439  santa_barbara  baseline  "
      ],
      "text/html": "<div>\n<style scoped>\n    .dataframe tbody tr th:only-of-type {\n        vertical-align: middle;\n    }\n\n    .dataframe tbody tr th {\n        vertical-align: top;\n    }\n\n    .dataframe thead th {\n        text-align: right;\n    }\n</style>\n<table border=\"1\" class=\"dataframe\">\n  <thead>\n    <tr style=\"text-align: right;\">\n      <th></th>\n      <th>Unit Process Name</th>\n      <th>Variable</th>\n      <th>Value</th>\n      <th>Metric</th>\n      <th>Unit</th>\n      <th>Case Study</th>\n      <th>Scenario</th>\n    </tr>\n  </thead>\n  <tbody>\n    <tr>\n      <th>278</th>\n      <td>System</td>\n      <td>System Levelized Cost</td>\n      <td>1.219</td>\n      <td>LCOW</td>\n      <td>$/m3</td>\n      <td>tampa_bay</td>\n      <td>baseline</td>\n    </tr>\n    <tr>\n      <th>1439</th>\n      <td>System</td>\n      <td>System Levelized Cost</td>\n      <td>1.414</td>\n      <td>LCOW</td>\n      <td>$/m3</td>\n      <td>santa_barbara</td>\n      <td>baseline</td>\n    </tr>\n  </tbody>\n</table>\n</div>"
     },
     "metadata": {},
     "execution_count": 14
    }
   ],
   "source": [
    "sys_df"
   ]
  },
  {
   "cell_type": "code",
   "execution_count": 15,
   "metadata": {},
   "outputs": [
    {
     "output_type": "display_data",
     "data": {
      "application/vnd.plotly.v1+json": {
       "config": {
        "plotlyServerURL": "https://plot.ly"
       },
       "data": [
        {
         "alignmentgroup": "True",
         "hovertemplate": "Variable=System Levelized Cost<br>Case Study=%{x}<br>Levelized Cost of Water ($/m3)=%{y}<extra></extra>",
         "legendgroup": "System Levelized Cost",
         "marker": {
          "color": "#1F77B4"
         },
         "name": "System Levelized Cost",
         "offsetgroup": "System Levelized Cost",
         "orientation": "v",
         "showlegend": true,
         "textposition": "auto",
         "type": "bar",
         "x": [
          "tampa_bay",
          "santa_barbara"
         ],
         "xaxis": "x",
         "y": [
          1.219,
          1.414
         ],
         "yaxis": "y"
        }
       ],
       "layout": {
        "barmode": "relative",
        "legend": {
         "title": {
          "text": "Variable"
         },
         "tracegroupgap": 0
        },
        "margin": {
         "t": 60
        },
        "template": {
         "data": {
          "bar": [
           {
            "error_x": {
             "color": "rgb(36,36,36)"
            },
            "error_y": {
             "color": "rgb(36,36,36)"
            },
            "marker": {
             "line": {
              "color": "white",
              "width": 0.5
             }
            },
            "type": "bar"
           }
          ],
          "barpolar": [
           {
            "marker": {
             "line": {
              "color": "white",
              "width": 0.5
             }
            },
            "type": "barpolar"
           }
          ],
          "carpet": [
           {
            "aaxis": {
             "endlinecolor": "rgb(36,36,36)",
             "gridcolor": "white",
             "linecolor": "white",
             "minorgridcolor": "white",
             "startlinecolor": "rgb(36,36,36)"
            },
            "baxis": {
             "endlinecolor": "rgb(36,36,36)",
             "gridcolor": "white",
             "linecolor": "white",
             "minorgridcolor": "white",
             "startlinecolor": "rgb(36,36,36)"
            },
            "type": "carpet"
           }
          ],
          "choropleth": [
           {
            "colorbar": {
             "outlinewidth": 1,
             "tickcolor": "rgb(36,36,36)",
             "ticks": "outside"
            },
            "type": "choropleth"
           }
          ],
          "contour": [
           {
            "colorbar": {
             "outlinewidth": 1,
             "tickcolor": "rgb(36,36,36)",
             "ticks": "outside"
            },
            "colorscale": [
             [
              0,
              "#440154"
             ],
             [
              0.1111111111111111,
              "#482878"
             ],
             [
              0.2222222222222222,
              "#3e4989"
             ],
             [
              0.3333333333333333,
              "#31688e"
             ],
             [
              0.4444444444444444,
              "#26828e"
             ],
             [
              0.5555555555555556,
              "#1f9e89"
             ],
             [
              0.6666666666666666,
              "#35b779"
             ],
             [
              0.7777777777777778,
              "#6ece58"
             ],
             [
              0.8888888888888888,
              "#b5de2b"
             ],
             [
              1,
              "#fde725"
             ]
            ],
            "type": "contour"
           }
          ],
          "contourcarpet": [
           {
            "colorbar": {
             "outlinewidth": 1,
             "tickcolor": "rgb(36,36,36)",
             "ticks": "outside"
            },
            "type": "contourcarpet"
           }
          ],
          "heatmap": [
           {
            "colorbar": {
             "outlinewidth": 1,
             "tickcolor": "rgb(36,36,36)",
             "ticks": "outside"
            },
            "colorscale": [
             [
              0,
              "#440154"
             ],
             [
              0.1111111111111111,
              "#482878"
             ],
             [
              0.2222222222222222,
              "#3e4989"
             ],
             [
              0.3333333333333333,
              "#31688e"
             ],
             [
              0.4444444444444444,
              "#26828e"
             ],
             [
              0.5555555555555556,
              "#1f9e89"
             ],
             [
              0.6666666666666666,
              "#35b779"
             ],
             [
              0.7777777777777778,
              "#6ece58"
             ],
             [
              0.8888888888888888,
              "#b5de2b"
             ],
             [
              1,
              "#fde725"
             ]
            ],
            "type": "heatmap"
           }
          ],
          "heatmapgl": [
           {
            "colorbar": {
             "outlinewidth": 1,
             "tickcolor": "rgb(36,36,36)",
             "ticks": "outside"
            },
            "colorscale": [
             [
              0,
              "#440154"
             ],
             [
              0.1111111111111111,
              "#482878"
             ],
             [
              0.2222222222222222,
              "#3e4989"
             ],
             [
              0.3333333333333333,
              "#31688e"
             ],
             [
              0.4444444444444444,
              "#26828e"
             ],
             [
              0.5555555555555556,
              "#1f9e89"
             ],
             [
              0.6666666666666666,
              "#35b779"
             ],
             [
              0.7777777777777778,
              "#6ece58"
             ],
             [
              0.8888888888888888,
              "#b5de2b"
             ],
             [
              1,
              "#fde725"
             ]
            ],
            "type": "heatmapgl"
           }
          ],
          "histogram": [
           {
            "marker": {
             "line": {
              "color": "white",
              "width": 0.6
             }
            },
            "type": "histogram"
           }
          ],
          "histogram2d": [
           {
            "colorbar": {
             "outlinewidth": 1,
             "tickcolor": "rgb(36,36,36)",
             "ticks": "outside"
            },
            "colorscale": [
             [
              0,
              "#440154"
             ],
             [
              0.1111111111111111,
              "#482878"
             ],
             [
              0.2222222222222222,
              "#3e4989"
             ],
             [
              0.3333333333333333,
              "#31688e"
             ],
             [
              0.4444444444444444,
              "#26828e"
             ],
             [
              0.5555555555555556,
              "#1f9e89"
             ],
             [
              0.6666666666666666,
              "#35b779"
             ],
             [
              0.7777777777777778,
              "#6ece58"
             ],
             [
              0.8888888888888888,
              "#b5de2b"
             ],
             [
              1,
              "#fde725"
             ]
            ],
            "type": "histogram2d"
           }
          ],
          "histogram2dcontour": [
           {
            "colorbar": {
             "outlinewidth": 1,
             "tickcolor": "rgb(36,36,36)",
             "ticks": "outside"
            },
            "colorscale": [
             [
              0,
              "#440154"
             ],
             [
              0.1111111111111111,
              "#482878"
             ],
             [
              0.2222222222222222,
              "#3e4989"
             ],
             [
              0.3333333333333333,
              "#31688e"
             ],
             [
              0.4444444444444444,
              "#26828e"
             ],
             [
              0.5555555555555556,
              "#1f9e89"
             ],
             [
              0.6666666666666666,
              "#35b779"
             ],
             [
              0.7777777777777778,
              "#6ece58"
             ],
             [
              0.8888888888888888,
              "#b5de2b"
             ],
             [
              1,
              "#fde725"
             ]
            ],
            "type": "histogram2dcontour"
           }
          ],
          "mesh3d": [
           {
            "colorbar": {
             "outlinewidth": 1,
             "tickcolor": "rgb(36,36,36)",
             "ticks": "outside"
            },
            "type": "mesh3d"
           }
          ],
          "parcoords": [
           {
            "line": {
             "colorbar": {
              "outlinewidth": 1,
              "tickcolor": "rgb(36,36,36)",
              "ticks": "outside"
             }
            },
            "type": "parcoords"
           }
          ],
          "pie": [
           {
            "automargin": true,
            "type": "pie"
           }
          ],
          "scatter": [
           {
            "marker": {
             "colorbar": {
              "outlinewidth": 1,
              "tickcolor": "rgb(36,36,36)",
              "ticks": "outside"
             }
            },
            "type": "scatter"
           }
          ],
          "scatter3d": [
           {
            "line": {
             "colorbar": {
              "outlinewidth": 1,
              "tickcolor": "rgb(36,36,36)",
              "ticks": "outside"
             }
            },
            "marker": {
             "colorbar": {
              "outlinewidth": 1,
              "tickcolor": "rgb(36,36,36)",
              "ticks": "outside"
             }
            },
            "type": "scatter3d"
           }
          ],
          "scattercarpet": [
           {
            "marker": {
             "colorbar": {
              "outlinewidth": 1,
              "tickcolor": "rgb(36,36,36)",
              "ticks": "outside"
             }
            },
            "type": "scattercarpet"
           }
          ],
          "scattergeo": [
           {
            "marker": {
             "colorbar": {
              "outlinewidth": 1,
              "tickcolor": "rgb(36,36,36)",
              "ticks": "outside"
             }
            },
            "type": "scattergeo"
           }
          ],
          "scattergl": [
           {
            "marker": {
             "colorbar": {
              "outlinewidth": 1,
              "tickcolor": "rgb(36,36,36)",
              "ticks": "outside"
             }
            },
            "type": "scattergl"
           }
          ],
          "scattermapbox": [
           {
            "marker": {
             "colorbar": {
              "outlinewidth": 1,
              "tickcolor": "rgb(36,36,36)",
              "ticks": "outside"
             }
            },
            "type": "scattermapbox"
           }
          ],
          "scatterpolar": [
           {
            "marker": {
             "colorbar": {
              "outlinewidth": 1,
              "tickcolor": "rgb(36,36,36)",
              "ticks": "outside"
             }
            },
            "type": "scatterpolar"
           }
          ],
          "scatterpolargl": [
           {
            "marker": {
             "colorbar": {
              "outlinewidth": 1,
              "tickcolor": "rgb(36,36,36)",
              "ticks": "outside"
             }
            },
            "type": "scatterpolargl"
           }
          ],
          "scatterternary": [
           {
            "marker": {
             "colorbar": {
              "outlinewidth": 1,
              "tickcolor": "rgb(36,36,36)",
              "ticks": "outside"
             }
            },
            "type": "scatterternary"
           }
          ],
          "surface": [
           {
            "colorbar": {
             "outlinewidth": 1,
             "tickcolor": "rgb(36,36,36)",
             "ticks": "outside"
            },
            "colorscale": [
             [
              0,
              "#440154"
             ],
             [
              0.1111111111111111,
              "#482878"
             ],
             [
              0.2222222222222222,
              "#3e4989"
             ],
             [
              0.3333333333333333,
              "#31688e"
             ],
             [
              0.4444444444444444,
              "#26828e"
             ],
             [
              0.5555555555555556,
              "#1f9e89"
             ],
             [
              0.6666666666666666,
              "#35b779"
             ],
             [
              0.7777777777777778,
              "#6ece58"
             ],
             [
              0.8888888888888888,
              "#b5de2b"
             ],
             [
              1,
              "#fde725"
             ]
            ],
            "type": "surface"
           }
          ],
          "table": [
           {
            "cells": {
             "fill": {
              "color": "rgb(237,237,237)"
             },
             "line": {
              "color": "white"
             }
            },
            "header": {
             "fill": {
              "color": "rgb(217,217,217)"
             },
             "line": {
              "color": "white"
             }
            },
            "type": "table"
           }
          ]
         },
         "layout": {
          "annotationdefaults": {
           "arrowhead": 0,
           "arrowwidth": 1
          },
          "autotypenumbers": "strict",
          "coloraxis": {
           "colorbar": {
            "outlinewidth": 1,
            "tickcolor": "rgb(36,36,36)",
            "ticks": "outside"
           }
          },
          "colorscale": {
           "diverging": [
            [
             0,
             "rgb(103,0,31)"
            ],
            [
             0.1,
             "rgb(178,24,43)"
            ],
            [
             0.2,
             "rgb(214,96,77)"
            ],
            [
             0.3,
             "rgb(244,165,130)"
            ],
            [
             0.4,
             "rgb(253,219,199)"
            ],
            [
             0.5,
             "rgb(247,247,247)"
            ],
            [
             0.6,
             "rgb(209,229,240)"
            ],
            [
             0.7,
             "rgb(146,197,222)"
            ],
            [
             0.8,
             "rgb(67,147,195)"
            ],
            [
             0.9,
             "rgb(33,102,172)"
            ],
            [
             1,
             "rgb(5,48,97)"
            ]
           ],
           "sequential": [
            [
             0,
             "#440154"
            ],
            [
             0.1111111111111111,
             "#482878"
            ],
            [
             0.2222222222222222,
             "#3e4989"
            ],
            [
             0.3333333333333333,
             "#31688e"
            ],
            [
             0.4444444444444444,
             "#26828e"
            ],
            [
             0.5555555555555556,
             "#1f9e89"
            ],
            [
             0.6666666666666666,
             "#35b779"
            ],
            [
             0.7777777777777778,
             "#6ece58"
            ],
            [
             0.8888888888888888,
             "#b5de2b"
            ],
            [
             1,
             "#fde725"
            ]
           ],
           "sequentialminus": [
            [
             0,
             "#440154"
            ],
            [
             0.1111111111111111,
             "#482878"
            ],
            [
             0.2222222222222222,
             "#3e4989"
            ],
            [
             0.3333333333333333,
             "#31688e"
            ],
            [
             0.4444444444444444,
             "#26828e"
            ],
            [
             0.5555555555555556,
             "#1f9e89"
            ],
            [
             0.6666666666666666,
             "#35b779"
            ],
            [
             0.7777777777777778,
             "#6ece58"
            ],
            [
             0.8888888888888888,
             "#b5de2b"
            ],
            [
             1,
             "#fde725"
            ]
           ]
          },
          "colorway": [
           "#1F77B4",
           "#FF7F0E",
           "#2CA02C",
           "#D62728",
           "#9467BD",
           "#8C564B",
           "#E377C2",
           "#7F7F7F",
           "#BCBD22",
           "#17BECF"
          ],
          "font": {
           "color": "rgb(36,36,36)"
          },
          "geo": {
           "bgcolor": "white",
           "lakecolor": "white",
           "landcolor": "white",
           "showlakes": true,
           "showland": true,
           "subunitcolor": "white"
          },
          "hoverlabel": {
           "align": "left"
          },
          "hovermode": "closest",
          "mapbox": {
           "style": "light"
          },
          "paper_bgcolor": "white",
          "plot_bgcolor": "white",
          "polar": {
           "angularaxis": {
            "gridcolor": "rgb(232,232,232)",
            "linecolor": "rgb(36,36,36)",
            "showgrid": false,
            "showline": true,
            "ticks": "outside"
           },
           "bgcolor": "white",
           "radialaxis": {
            "gridcolor": "rgb(232,232,232)",
            "linecolor": "rgb(36,36,36)",
            "showgrid": false,
            "showline": true,
            "ticks": "outside"
           }
          },
          "scene": {
           "xaxis": {
            "backgroundcolor": "white",
            "gridcolor": "rgb(232,232,232)",
            "gridwidth": 2,
            "linecolor": "rgb(36,36,36)",
            "showbackground": true,
            "showgrid": false,
            "showline": true,
            "ticks": "outside",
            "zeroline": false,
            "zerolinecolor": "rgb(36,36,36)"
           },
           "yaxis": {
            "backgroundcolor": "white",
            "gridcolor": "rgb(232,232,232)",
            "gridwidth": 2,
            "linecolor": "rgb(36,36,36)",
            "showbackground": true,
            "showgrid": false,
            "showline": true,
            "ticks": "outside",
            "zeroline": false,
            "zerolinecolor": "rgb(36,36,36)"
           },
           "zaxis": {
            "backgroundcolor": "white",
            "gridcolor": "rgb(232,232,232)",
            "gridwidth": 2,
            "linecolor": "rgb(36,36,36)",
            "showbackground": true,
            "showgrid": false,
            "showline": true,
            "ticks": "outside",
            "zeroline": false,
            "zerolinecolor": "rgb(36,36,36)"
           }
          },
          "shapedefaults": {
           "fillcolor": "black",
           "line": {
            "width": 0
           },
           "opacity": 0.3
          },
          "ternary": {
           "aaxis": {
            "gridcolor": "rgb(232,232,232)",
            "linecolor": "rgb(36,36,36)",
            "showgrid": false,
            "showline": true,
            "ticks": "outside"
           },
           "baxis": {
            "gridcolor": "rgb(232,232,232)",
            "linecolor": "rgb(36,36,36)",
            "showgrid": false,
            "showline": true,
            "ticks": "outside"
           },
           "bgcolor": "white",
           "caxis": {
            "gridcolor": "rgb(232,232,232)",
            "linecolor": "rgb(36,36,36)",
            "showgrid": false,
            "showline": true,
            "ticks": "outside"
           }
          },
          "title": {
           "x": 0.05
          },
          "xaxis": {
           "automargin": true,
           "gridcolor": "rgb(232,232,232)",
           "linecolor": "rgb(36,36,36)",
           "showgrid": false,
           "showline": true,
           "ticks": "outside",
           "title": {
            "standoff": 15
           },
           "zeroline": false,
           "zerolinecolor": "rgb(36,36,36)"
          },
          "yaxis": {
           "automargin": true,
           "gridcolor": "rgb(232,232,232)",
           "linecolor": "rgb(36,36,36)",
           "showgrid": false,
           "showline": true,
           "ticks": "outside",
           "title": {
            "standoff": 15
           },
           "zeroline": false,
           "zerolinecolor": "rgb(36,36,36)"
          }
         }
        },
        "xaxis": {
         "anchor": "y",
         "domain": [
          0,
          1
         ],
         "title": {
          "text": "Case Study"
         }
        },
        "yaxis": {
         "anchor": "x",
         "domain": [
          0,
          1
         ],
         "title": {
          "text": "Levelized Cost of Water ($/m3)"
         }
        }
       }
      }
     },
     "metadata": {}
    }
   ],
   "source": [
    "fig = px.bar(sys_df, x=\"Case Study\", y=\"Value\", color=\"Variable\",\n",
    "              labels={\"Value\": \"Levelized Cost of Water ($/m3)\"},\n",
    "            template=\"simple_white\")\n",
    "fig.show()"
   ]
  },
  {
   "cell_type": "code",
   "execution_count": 19,
   "metadata": {},
   "outputs": [],
   "source": [
    "sys_df = df[df[\"Unit Process Name\"] != \"System\"]\n",
    "sys_df = sys_df[sys_df[\"Variable\"] == \"Total Capital Investment (TCI)\"]"
   ]
  },
  {
   "cell_type": "code",
   "execution_count": 21,
   "metadata": {},
   "outputs": [
    {
     "output_type": "display_data",
     "data": {
      "application/vnd.plotly.v1+json": {
       "config": {
        "plotlyServerURL": "https://plot.ly"
       },
       "data": [
        {
         "alignmentgroup": "True",
         "hovertemplate": "Unit Process Name=sw_onshore_intake<br>Case Study=%{x}<br>Total Capital Investment ($MM)=%{y}<extra></extra>",
         "legendgroup": "sw_onshore_intake",
         "marker": {
          "color": "#1F77B4"
         },
         "name": "sw_onshore_intake",
         "offsetgroup": "sw_onshore_intake",
         "orientation": "v",
         "showlegend": true,
         "textposition": "auto",
         "type": "bar",
         "x": [
          "tampa_bay",
          "santa_barbara"
         ],
         "xaxis": "x",
         "y": [
          10.217,
          2.009
         ],
         "yaxis": "y"
        },
        {
         "alignmentgroup": "True",
         "hovertemplate": "Unit Process Name=sulfuric_acid_addition<br>Case Study=%{x}<br>Total Capital Investment ($MM)=%{y}<extra></extra>",
         "legendgroup": "sulfuric_acid_addition",
         "marker": {
          "color": "#FF7F0E"
         },
         "name": "sulfuric_acid_addition",
         "offsetgroup": "sulfuric_acid_addition",
         "orientation": "v",
         "showlegend": true,
         "textposition": "auto",
         "type": "bar",
         "x": [
          "tampa_bay"
         ],
         "xaxis": "x",
         "y": [
          0.231
         ],
         "yaxis": "y"
        },
        {
         "alignmentgroup": "True",
         "hovertemplate": "Unit Process Name=ferric_chloride_addition<br>Case Study=%{x}<br>Total Capital Investment ($MM)=%{y}<extra></extra>",
         "legendgroup": "ferric_chloride_addition",
         "marker": {
          "color": "#2CA02C"
         },
         "name": "ferric_chloride_addition",
         "offsetgroup": "ferric_chloride_addition",
         "orientation": "v",
         "showlegend": true,
         "textposition": "auto",
         "type": "bar",
         "x": [
          "tampa_bay",
          "santa_barbara"
         ],
         "xaxis": "x",
         "y": [
          2.954,
          1.648
         ],
         "yaxis": "y"
        },
        {
         "alignmentgroup": "True",
         "hovertemplate": "Unit Process Name=chlorination<br>Case Study=%{x}<br>Total Capital Investment ($MM)=%{y}<extra></extra>",
         "legendgroup": "chlorination",
         "marker": {
          "color": "#D62728"
         },
         "name": "chlorination",
         "offsetgroup": "chlorination",
         "orientation": "v",
         "showlegend": true,
         "textposition": "auto",
         "type": "bar",
         "x": [
          "tampa_bay",
          "santa_barbara"
         ],
         "xaxis": "x",
         "y": [
          9.266,
          5.206
         ],
         "yaxis": "y"
        },
        {
         "alignmentgroup": "True",
         "hovertemplate": "Unit Process Name=static_mixer<br>Case Study=%{x}<br>Total Capital Investment ($MM)=%{y}<extra></extra>",
         "legendgroup": "static_mixer",
         "marker": {
          "color": "#9467BD"
         },
         "name": "static_mixer",
         "offsetgroup": "static_mixer",
         "orientation": "v",
         "showlegend": true,
         "textposition": "auto",
         "type": "bar",
         "x": [
          "tampa_bay",
          "santa_barbara"
         ],
         "xaxis": "x",
         "y": [
          0.116,
          0.116
         ],
         "yaxis": "y"
        },
        {
         "alignmentgroup": "True",
         "hovertemplate": "Unit Process Name=tri_media_filtration<br>Case Study=%{x}<br>Total Capital Investment ($MM)=%{y}<extra></extra>",
         "legendgroup": "tri_media_filtration",
         "marker": {
          "color": "#8C564B"
         },
         "name": "tri_media_filtration",
         "offsetgroup": "tri_media_filtration",
         "orientation": "v",
         "showlegend": true,
         "textposition": "auto",
         "type": "bar",
         "x": [
          "tampa_bay"
         ],
         "xaxis": "x",
         "y": [
          8.068
         ],
         "yaxis": "y"
        },
        {
         "alignmentgroup": "True",
         "hovertemplate": "Unit Process Name=cartridge_filtration<br>Case Study=%{x}<br>Total Capital Investment ($MM)=%{y}<extra></extra>",
         "legendgroup": "cartridge_filtration",
         "marker": {
          "color": "#E377C2"
         },
         "name": "cartridge_filtration",
         "offsetgroup": "cartridge_filtration",
         "orientation": "v",
         "showlegend": true,
         "textposition": "auto",
         "type": "bar",
         "x": [
          "tampa_bay",
          "santa_barbara"
         ],
         "xaxis": "x",
         "y": [
          7.585,
          2.603
         ],
         "yaxis": "y"
        },
        {
         "alignmentgroup": "True",
         "hovertemplate": "Unit Process Name=ro_first_pass<br>Case Study=%{x}<br>Total Capital Investment ($MM)=%{y}<extra></extra>",
         "legendgroup": "ro_first_pass",
         "marker": {
          "color": "#7F7F7F"
         },
         "name": "ro_first_pass",
         "offsetgroup": "ro_first_pass",
         "orientation": "v",
         "showlegend": true,
         "textposition": "auto",
         "type": "bar",
         "x": [
          "tampa_bay"
         ],
         "xaxis": "x",
         "y": [
          56.742
         ],
         "yaxis": "y"
        },
        {
         "alignmentgroup": "True",
         "hovertemplate": "Unit Process Name=ro_second_pass<br>Case Study=%{x}<br>Total Capital Investment ($MM)=%{y}<extra></extra>",
         "legendgroup": "ro_second_pass",
         "marker": {
          "color": "#BCBD22"
         },
         "name": "ro_second_pass",
         "offsetgroup": "ro_second_pass",
         "orientation": "v",
         "showlegend": true,
         "textposition": "auto",
         "type": "bar",
         "x": [
          "tampa_bay"
         ],
         "xaxis": "x",
         "y": [
          12.901
         ],
         "yaxis": "y"
        },
        {
         "alignmentgroup": "True",
         "hovertemplate": "Unit Process Name=lime_softening<br>Case Study=%{x}<br>Total Capital Investment ($MM)=%{y}<extra></extra>",
         "legendgroup": "lime_softening",
         "marker": {
          "color": "#17BECF"
         },
         "name": "lime_softening",
         "offsetgroup": "lime_softening",
         "orientation": "v",
         "showlegend": true,
         "textposition": "auto",
         "type": "bar",
         "x": [
          "tampa_bay"
         ],
         "xaxis": "x",
         "y": [
          30.646
         ],
         "yaxis": "y"
        },
        {
         "alignmentgroup": "True",
         "hovertemplate": "Unit Process Name=chlorination_b<br>Case Study=%{x}<br>Total Capital Investment ($MM)=%{y}<extra></extra>",
         "legendgroup": "chlorination_b",
         "marker": {
          "color": "#1F77B4"
         },
         "name": "chlorination_b",
         "offsetgroup": "chlorination_b",
         "orientation": "v",
         "showlegend": true,
         "textposition": "auto",
         "type": "bar",
         "x": [
          "tampa_bay"
         ],
         "xaxis": "x",
         "y": [
          7.677
         ],
         "yaxis": "y"
        },
        {
         "alignmentgroup": "True",
         "hovertemplate": "Unit Process Name=caustic_soda_addition<br>Case Study=%{x}<br>Total Capital Investment ($MM)=%{y}<extra></extra>",
         "legendgroup": "caustic_soda_addition",
         "marker": {
          "color": "#FF7F0E"
         },
         "name": "caustic_soda_addition",
         "offsetgroup": "caustic_soda_addition",
         "orientation": "v",
         "showlegend": true,
         "textposition": "auto",
         "type": "bar",
         "x": [
          "tampa_bay"
         ],
         "xaxis": "x",
         "y": [
          1.341
         ],
         "yaxis": "y"
        },
        {
         "alignmentgroup": "True",
         "hovertemplate": "Unit Process Name=ammonia_addition<br>Case Study=%{x}<br>Total Capital Investment ($MM)=%{y}<extra></extra>",
         "legendgroup": "ammonia_addition",
         "marker": {
          "color": "#2CA02C"
         },
         "name": "ammonia_addition",
         "offsetgroup": "ammonia_addition",
         "orientation": "v",
         "showlegend": true,
         "textposition": "auto",
         "type": "bar",
         "x": [
          "tampa_bay"
         ],
         "xaxis": "x",
         "y": [
          0.604
         ],
         "yaxis": "y"
        },
        {
         "alignmentgroup": "True",
         "hovertemplate": "Unit Process Name=treated_storage<br>Case Study=%{x}<br>Total Capital Investment ($MM)=%{y}<extra></extra>",
         "legendgroup": "treated_storage",
         "marker": {
          "color": "#D62728"
         },
         "name": "treated_storage",
         "offsetgroup": "treated_storage",
         "orientation": "v",
         "showlegend": true,
         "textposition": "auto",
         "type": "bar",
         "x": [
          "tampa_bay",
          "santa_barbara"
         ],
         "xaxis": "x",
         "y": [
          7.951,
          0.545
         ],
         "yaxis": "y"
        },
        {
         "alignmentgroup": "True",
         "hovertemplate": "Unit Process Name=backwash_solids_handling<br>Case Study=%{x}<br>Total Capital Investment ($MM)=%{y}<extra></extra>",
         "legendgroup": "backwash_solids_handling",
         "marker": {
          "color": "#9467BD"
         },
         "name": "backwash_solids_handling",
         "offsetgroup": "backwash_solids_handling",
         "orientation": "v",
         "showlegend": true,
         "textposition": "auto",
         "type": "bar",
         "x": [
          "tampa_bay",
          "santa_barbara"
         ],
         "xaxis": "x",
         "y": [
          6.285,
          0.002
         ],
         "yaxis": "y"
        },
        {
         "alignmentgroup": "True",
         "hovertemplate": "Unit Process Name=municipal_drinking<br>Case Study=%{x}<br>Total Capital Investment ($MM)=%{y}<extra></extra>",
         "legendgroup": "municipal_drinking",
         "marker": {
          "color": "#8C564B"
         },
         "name": "municipal_drinking",
         "offsetgroup": "municipal_drinking",
         "orientation": "v",
         "showlegend": true,
         "textposition": "auto",
         "type": "bar",
         "x": [
          "tampa_bay",
          "santa_barbara"
         ],
         "xaxis": "x",
         "y": [
          2.273,
          0.429
         ],
         "yaxis": "y"
        },
        {
         "alignmentgroup": "True",
         "hovertemplate": "Unit Process Name=surface_discharge<br>Case Study=%{x}<br>Total Capital Investment ($MM)=%{y}<extra></extra>",
         "legendgroup": "surface_discharge",
         "marker": {
          "color": "#E377C2"
         },
         "name": "surface_discharge",
         "offsetgroup": "surface_discharge",
         "orientation": "v",
         "showlegend": true,
         "textposition": "auto",
         "type": "bar",
         "x": [
          "tampa_bay",
          "santa_barbara"
         ],
         "xaxis": "x",
         "y": [
          13.365,
          3.07
         ],
         "yaxis": "y"
        },
        {
         "alignmentgroup": "True",
         "hovertemplate": "Unit Process Name=holding_tank<br>Case Study=%{x}<br>Total Capital Investment ($MM)=%{y}<extra></extra>",
         "legendgroup": "holding_tank",
         "marker": {
          "color": "#7F7F7F"
         },
         "name": "holding_tank",
         "offsetgroup": "holding_tank",
         "orientation": "v",
         "showlegend": true,
         "textposition": "auto",
         "type": "bar",
         "x": [
          "santa_barbara"
         ],
         "xaxis": "x",
         "y": [
          1.481
         ],
         "yaxis": "y"
        },
        {
         "alignmentgroup": "True",
         "hovertemplate": "Unit Process Name=media_filtration<br>Case Study=%{x}<br>Total Capital Investment ($MM)=%{y}<extra></extra>",
         "legendgroup": "media_filtration",
         "marker": {
          "color": "#BCBD22"
         },
         "name": "media_filtration",
         "offsetgroup": "media_filtration",
         "orientation": "v",
         "showlegend": true,
         "textposition": "auto",
         "type": "bar",
         "x": [
          "santa_barbara"
         ],
         "xaxis": "x",
         "y": [
          2.687
         ],
         "yaxis": "y"
        },
        {
         "alignmentgroup": "True",
         "hovertemplate": "Unit Process Name=anti_scalant_addition<br>Case Study=%{x}<br>Total Capital Investment ($MM)=%{y}<extra></extra>",
         "legendgroup": "anti_scalant_addition",
         "marker": {
          "color": "#17BECF"
         },
         "name": "anti_scalant_addition",
         "offsetgroup": "anti_scalant_addition",
         "orientation": "v",
         "showlegend": true,
         "textposition": "auto",
         "type": "bar",
         "x": [
          "santa_barbara"
         ],
         "xaxis": "x",
         "y": [
          0.068
         ],
         "yaxis": "y"
        },
        {
         "alignmentgroup": "True",
         "hovertemplate": "Unit Process Name=reverse_osmosis<br>Case Study=%{x}<br>Total Capital Investment ($MM)=%{y}<extra></extra>",
         "legendgroup": "reverse_osmosis",
         "marker": {
          "color": "#1F77B4"
         },
         "name": "reverse_osmosis",
         "offsetgroup": "reverse_osmosis",
         "orientation": "v",
         "showlegend": true,
         "textposition": "auto",
         "type": "bar",
         "x": [
          "santa_barbara"
         ],
         "xaxis": "x",
         "y": [
          11.156
         ],
         "yaxis": "y"
        },
        {
         "alignmentgroup": "True",
         "hovertemplate": "Unit Process Name=holding_tank_b<br>Case Study=%{x}<br>Total Capital Investment ($MM)=%{y}<extra></extra>",
         "legendgroup": "holding_tank_b",
         "marker": {
          "color": "#FF7F0E"
         },
         "name": "holding_tank_b",
         "offsetgroup": "holding_tank_b",
         "orientation": "v",
         "showlegend": true,
         "textposition": "auto",
         "type": "bar",
         "x": [
          "santa_barbara"
         ],
         "xaxis": "x",
         "y": [
          0.545
         ],
         "yaxis": "y"
        },
        {
         "alignmentgroup": "True",
         "hovertemplate": "Unit Process Name=uv_aop<br>Case Study=%{x}<br>Total Capital Investment ($MM)=%{y}<extra></extra>",
         "legendgroup": "uv_aop",
         "marker": {
          "color": "#2CA02C"
         },
         "name": "uv_aop",
         "offsetgroup": "uv_aop",
         "orientation": "v",
         "showlegend": true,
         "textposition": "auto",
         "type": "bar",
         "x": [
          "santa_barbara"
         ],
         "xaxis": "x",
         "y": [
          4.976
         ],
         "yaxis": "y"
        },
        {
         "alignmentgroup": "True",
         "hovertemplate": "Unit Process Name=co2_addition<br>Case Study=%{x}<br>Total Capital Investment ($MM)=%{y}<extra></extra>",
         "legendgroup": "co2_addition",
         "marker": {
          "color": "#D62728"
         },
         "name": "co2_addition",
         "offsetgroup": "co2_addition",
         "orientation": "v",
         "showlegend": true,
         "textposition": "auto",
         "type": "bar",
         "x": [
          "santa_barbara"
         ],
         "xaxis": "x",
         "y": [
          1.199
         ],
         "yaxis": "y"
        },
        {
         "alignmentgroup": "True",
         "hovertemplate": "Unit Process Name=lime_addition<br>Case Study=%{x}<br>Total Capital Investment ($MM)=%{y}<extra></extra>",
         "legendgroup": "lime_addition",
         "marker": {
          "color": "#9467BD"
         },
         "name": "lime_addition",
         "offsetgroup": "lime_addition",
         "orientation": "v",
         "showlegend": true,
         "textposition": "auto",
         "type": "bar",
         "x": [
          "santa_barbara"
         ],
         "xaxis": "x",
         "y": [
          1.326
         ],
         "yaxis": "y"
        },
        {
         "alignmentgroup": "True",
         "hovertemplate": "Unit Process Name=landfill<br>Case Study=%{x}<br>Total Capital Investment ($MM)=%{y}<extra></extra>",
         "legendgroup": "landfill",
         "marker": {
          "color": "#8C564B"
         },
         "name": "landfill",
         "offsetgroup": "landfill",
         "orientation": "v",
         "showlegend": true,
         "textposition": "auto",
         "type": "bar",
         "x": [
          "santa_barbara"
         ],
         "xaxis": "x",
         "y": [
          0
         ],
         "yaxis": "y"
        }
       ],
       "layout": {
        "barmode": "relative",
        "legend": {
         "title": {
          "text": "Unit Process Name"
         },
         "tracegroupgap": 0
        },
        "margin": {
         "t": 60
        },
        "template": {
         "data": {
          "bar": [
           {
            "error_x": {
             "color": "rgb(36,36,36)"
            },
            "error_y": {
             "color": "rgb(36,36,36)"
            },
            "marker": {
             "line": {
              "color": "white",
              "width": 0.5
             }
            },
            "type": "bar"
           }
          ],
          "barpolar": [
           {
            "marker": {
             "line": {
              "color": "white",
              "width": 0.5
             }
            },
            "type": "barpolar"
           }
          ],
          "carpet": [
           {
            "aaxis": {
             "endlinecolor": "rgb(36,36,36)",
             "gridcolor": "white",
             "linecolor": "white",
             "minorgridcolor": "white",
             "startlinecolor": "rgb(36,36,36)"
            },
            "baxis": {
             "endlinecolor": "rgb(36,36,36)",
             "gridcolor": "white",
             "linecolor": "white",
             "minorgridcolor": "white",
             "startlinecolor": "rgb(36,36,36)"
            },
            "type": "carpet"
           }
          ],
          "choropleth": [
           {
            "colorbar": {
             "outlinewidth": 1,
             "tickcolor": "rgb(36,36,36)",
             "ticks": "outside"
            },
            "type": "choropleth"
           }
          ],
          "contour": [
           {
            "colorbar": {
             "outlinewidth": 1,
             "tickcolor": "rgb(36,36,36)",
             "ticks": "outside"
            },
            "colorscale": [
             [
              0,
              "#440154"
             ],
             [
              0.1111111111111111,
              "#482878"
             ],
             [
              0.2222222222222222,
              "#3e4989"
             ],
             [
              0.3333333333333333,
              "#31688e"
             ],
             [
              0.4444444444444444,
              "#26828e"
             ],
             [
              0.5555555555555556,
              "#1f9e89"
             ],
             [
              0.6666666666666666,
              "#35b779"
             ],
             [
              0.7777777777777778,
              "#6ece58"
             ],
             [
              0.8888888888888888,
              "#b5de2b"
             ],
             [
              1,
              "#fde725"
             ]
            ],
            "type": "contour"
           }
          ],
          "contourcarpet": [
           {
            "colorbar": {
             "outlinewidth": 1,
             "tickcolor": "rgb(36,36,36)",
             "ticks": "outside"
            },
            "type": "contourcarpet"
           }
          ],
          "heatmap": [
           {
            "colorbar": {
             "outlinewidth": 1,
             "tickcolor": "rgb(36,36,36)",
             "ticks": "outside"
            },
            "colorscale": [
             [
              0,
              "#440154"
             ],
             [
              0.1111111111111111,
              "#482878"
             ],
             [
              0.2222222222222222,
              "#3e4989"
             ],
             [
              0.3333333333333333,
              "#31688e"
             ],
             [
              0.4444444444444444,
              "#26828e"
             ],
             [
              0.5555555555555556,
              "#1f9e89"
             ],
             [
              0.6666666666666666,
              "#35b779"
             ],
             [
              0.7777777777777778,
              "#6ece58"
             ],
             [
              0.8888888888888888,
              "#b5de2b"
             ],
             [
              1,
              "#fde725"
             ]
            ],
            "type": "heatmap"
           }
          ],
          "heatmapgl": [
           {
            "colorbar": {
             "outlinewidth": 1,
             "tickcolor": "rgb(36,36,36)",
             "ticks": "outside"
            },
            "colorscale": [
             [
              0,
              "#440154"
             ],
             [
              0.1111111111111111,
              "#482878"
             ],
             [
              0.2222222222222222,
              "#3e4989"
             ],
             [
              0.3333333333333333,
              "#31688e"
             ],
             [
              0.4444444444444444,
              "#26828e"
             ],
             [
              0.5555555555555556,
              "#1f9e89"
             ],
             [
              0.6666666666666666,
              "#35b779"
             ],
             [
              0.7777777777777778,
              "#6ece58"
             ],
             [
              0.8888888888888888,
              "#b5de2b"
             ],
             [
              1,
              "#fde725"
             ]
            ],
            "type": "heatmapgl"
           }
          ],
          "histogram": [
           {
            "marker": {
             "line": {
              "color": "white",
              "width": 0.6
             }
            },
            "type": "histogram"
           }
          ],
          "histogram2d": [
           {
            "colorbar": {
             "outlinewidth": 1,
             "tickcolor": "rgb(36,36,36)",
             "ticks": "outside"
            },
            "colorscale": [
             [
              0,
              "#440154"
             ],
             [
              0.1111111111111111,
              "#482878"
             ],
             [
              0.2222222222222222,
              "#3e4989"
             ],
             [
              0.3333333333333333,
              "#31688e"
             ],
             [
              0.4444444444444444,
              "#26828e"
             ],
             [
              0.5555555555555556,
              "#1f9e89"
             ],
             [
              0.6666666666666666,
              "#35b779"
             ],
             [
              0.7777777777777778,
              "#6ece58"
             ],
             [
              0.8888888888888888,
              "#b5de2b"
             ],
             [
              1,
              "#fde725"
             ]
            ],
            "type": "histogram2d"
           }
          ],
          "histogram2dcontour": [
           {
            "colorbar": {
             "outlinewidth": 1,
             "tickcolor": "rgb(36,36,36)",
             "ticks": "outside"
            },
            "colorscale": [
             [
              0,
              "#440154"
             ],
             [
              0.1111111111111111,
              "#482878"
             ],
             [
              0.2222222222222222,
              "#3e4989"
             ],
             [
              0.3333333333333333,
              "#31688e"
             ],
             [
              0.4444444444444444,
              "#26828e"
             ],
             [
              0.5555555555555556,
              "#1f9e89"
             ],
             [
              0.6666666666666666,
              "#35b779"
             ],
             [
              0.7777777777777778,
              "#6ece58"
             ],
             [
              0.8888888888888888,
              "#b5de2b"
             ],
             [
              1,
              "#fde725"
             ]
            ],
            "type": "histogram2dcontour"
           }
          ],
          "mesh3d": [
           {
            "colorbar": {
             "outlinewidth": 1,
             "tickcolor": "rgb(36,36,36)",
             "ticks": "outside"
            },
            "type": "mesh3d"
           }
          ],
          "parcoords": [
           {
            "line": {
             "colorbar": {
              "outlinewidth": 1,
              "tickcolor": "rgb(36,36,36)",
              "ticks": "outside"
             }
            },
            "type": "parcoords"
           }
          ],
          "pie": [
           {
            "automargin": true,
            "type": "pie"
           }
          ],
          "scatter": [
           {
            "marker": {
             "colorbar": {
              "outlinewidth": 1,
              "tickcolor": "rgb(36,36,36)",
              "ticks": "outside"
             }
            },
            "type": "scatter"
           }
          ],
          "scatter3d": [
           {
            "line": {
             "colorbar": {
              "outlinewidth": 1,
              "tickcolor": "rgb(36,36,36)",
              "ticks": "outside"
             }
            },
            "marker": {
             "colorbar": {
              "outlinewidth": 1,
              "tickcolor": "rgb(36,36,36)",
              "ticks": "outside"
             }
            },
            "type": "scatter3d"
           }
          ],
          "scattercarpet": [
           {
            "marker": {
             "colorbar": {
              "outlinewidth": 1,
              "tickcolor": "rgb(36,36,36)",
              "ticks": "outside"
             }
            },
            "type": "scattercarpet"
           }
          ],
          "scattergeo": [
           {
            "marker": {
             "colorbar": {
              "outlinewidth": 1,
              "tickcolor": "rgb(36,36,36)",
              "ticks": "outside"
             }
            },
            "type": "scattergeo"
           }
          ],
          "scattergl": [
           {
            "marker": {
             "colorbar": {
              "outlinewidth": 1,
              "tickcolor": "rgb(36,36,36)",
              "ticks": "outside"
             }
            },
            "type": "scattergl"
           }
          ],
          "scattermapbox": [
           {
            "marker": {
             "colorbar": {
              "outlinewidth": 1,
              "tickcolor": "rgb(36,36,36)",
              "ticks": "outside"
             }
            },
            "type": "scattermapbox"
           }
          ],
          "scatterpolar": [
           {
            "marker": {
             "colorbar": {
              "outlinewidth": 1,
              "tickcolor": "rgb(36,36,36)",
              "ticks": "outside"
             }
            },
            "type": "scatterpolar"
           }
          ],
          "scatterpolargl": [
           {
            "marker": {
             "colorbar": {
              "outlinewidth": 1,
              "tickcolor": "rgb(36,36,36)",
              "ticks": "outside"
             }
            },
            "type": "scatterpolargl"
           }
          ],
          "scatterternary": [
           {
            "marker": {
             "colorbar": {
              "outlinewidth": 1,
              "tickcolor": "rgb(36,36,36)",
              "ticks": "outside"
             }
            },
            "type": "scatterternary"
           }
          ],
          "surface": [
           {
            "colorbar": {
             "outlinewidth": 1,
             "tickcolor": "rgb(36,36,36)",
             "ticks": "outside"
            },
            "colorscale": [
             [
              0,
              "#440154"
             ],
             [
              0.1111111111111111,
              "#482878"
             ],
             [
              0.2222222222222222,
              "#3e4989"
             ],
             [
              0.3333333333333333,
              "#31688e"
             ],
             [
              0.4444444444444444,
              "#26828e"
             ],
             [
              0.5555555555555556,
              "#1f9e89"
             ],
             [
              0.6666666666666666,
              "#35b779"
             ],
             [
              0.7777777777777778,
              "#6ece58"
             ],
             [
              0.8888888888888888,
              "#b5de2b"
             ],
             [
              1,
              "#fde725"
             ]
            ],
            "type": "surface"
           }
          ],
          "table": [
           {
            "cells": {
             "fill": {
              "color": "rgb(237,237,237)"
             },
             "line": {
              "color": "white"
             }
            },
            "header": {
             "fill": {
              "color": "rgb(217,217,217)"
             },
             "line": {
              "color": "white"
             }
            },
            "type": "table"
           }
          ]
         },
         "layout": {
          "annotationdefaults": {
           "arrowhead": 0,
           "arrowwidth": 1
          },
          "autotypenumbers": "strict",
          "coloraxis": {
           "colorbar": {
            "outlinewidth": 1,
            "tickcolor": "rgb(36,36,36)",
            "ticks": "outside"
           }
          },
          "colorscale": {
           "diverging": [
            [
             0,
             "rgb(103,0,31)"
            ],
            [
             0.1,
             "rgb(178,24,43)"
            ],
            [
             0.2,
             "rgb(214,96,77)"
            ],
            [
             0.3,
             "rgb(244,165,130)"
            ],
            [
             0.4,
             "rgb(253,219,199)"
            ],
            [
             0.5,
             "rgb(247,247,247)"
            ],
            [
             0.6,
             "rgb(209,229,240)"
            ],
            [
             0.7,
             "rgb(146,197,222)"
            ],
            [
             0.8,
             "rgb(67,147,195)"
            ],
            [
             0.9,
             "rgb(33,102,172)"
            ],
            [
             1,
             "rgb(5,48,97)"
            ]
           ],
           "sequential": [
            [
             0,
             "#440154"
            ],
            [
             0.1111111111111111,
             "#482878"
            ],
            [
             0.2222222222222222,
             "#3e4989"
            ],
            [
             0.3333333333333333,
             "#31688e"
            ],
            [
             0.4444444444444444,
             "#26828e"
            ],
            [
             0.5555555555555556,
             "#1f9e89"
            ],
            [
             0.6666666666666666,
             "#35b779"
            ],
            [
             0.7777777777777778,
             "#6ece58"
            ],
            [
             0.8888888888888888,
             "#b5de2b"
            ],
            [
             1,
             "#fde725"
            ]
           ],
           "sequentialminus": [
            [
             0,
             "#440154"
            ],
            [
             0.1111111111111111,
             "#482878"
            ],
            [
             0.2222222222222222,
             "#3e4989"
            ],
            [
             0.3333333333333333,
             "#31688e"
            ],
            [
             0.4444444444444444,
             "#26828e"
            ],
            [
             0.5555555555555556,
             "#1f9e89"
            ],
            [
             0.6666666666666666,
             "#35b779"
            ],
            [
             0.7777777777777778,
             "#6ece58"
            ],
            [
             0.8888888888888888,
             "#b5de2b"
            ],
            [
             1,
             "#fde725"
            ]
           ]
          },
          "colorway": [
           "#1F77B4",
           "#FF7F0E",
           "#2CA02C",
           "#D62728",
           "#9467BD",
           "#8C564B",
           "#E377C2",
           "#7F7F7F",
           "#BCBD22",
           "#17BECF"
          ],
          "font": {
           "color": "rgb(36,36,36)"
          },
          "geo": {
           "bgcolor": "white",
           "lakecolor": "white",
           "landcolor": "white",
           "showlakes": true,
           "showland": true,
           "subunitcolor": "white"
          },
          "hoverlabel": {
           "align": "left"
          },
          "hovermode": "closest",
          "mapbox": {
           "style": "light"
          },
          "paper_bgcolor": "white",
          "plot_bgcolor": "white",
          "polar": {
           "angularaxis": {
            "gridcolor": "rgb(232,232,232)",
            "linecolor": "rgb(36,36,36)",
            "showgrid": false,
            "showline": true,
            "ticks": "outside"
           },
           "bgcolor": "white",
           "radialaxis": {
            "gridcolor": "rgb(232,232,232)",
            "linecolor": "rgb(36,36,36)",
            "showgrid": false,
            "showline": true,
            "ticks": "outside"
           }
          },
          "scene": {
           "xaxis": {
            "backgroundcolor": "white",
            "gridcolor": "rgb(232,232,232)",
            "gridwidth": 2,
            "linecolor": "rgb(36,36,36)",
            "showbackground": true,
            "showgrid": false,
            "showline": true,
            "ticks": "outside",
            "zeroline": false,
            "zerolinecolor": "rgb(36,36,36)"
           },
           "yaxis": {
            "backgroundcolor": "white",
            "gridcolor": "rgb(232,232,232)",
            "gridwidth": 2,
            "linecolor": "rgb(36,36,36)",
            "showbackground": true,
            "showgrid": false,
            "showline": true,
            "ticks": "outside",
            "zeroline": false,
            "zerolinecolor": "rgb(36,36,36)"
           },
           "zaxis": {
            "backgroundcolor": "white",
            "gridcolor": "rgb(232,232,232)",
            "gridwidth": 2,
            "linecolor": "rgb(36,36,36)",
            "showbackground": true,
            "showgrid": false,
            "showline": true,
            "ticks": "outside",
            "zeroline": false,
            "zerolinecolor": "rgb(36,36,36)"
           }
          },
          "shapedefaults": {
           "fillcolor": "black",
           "line": {
            "width": 0
           },
           "opacity": 0.3
          },
          "ternary": {
           "aaxis": {
            "gridcolor": "rgb(232,232,232)",
            "linecolor": "rgb(36,36,36)",
            "showgrid": false,
            "showline": true,
            "ticks": "outside"
           },
           "baxis": {
            "gridcolor": "rgb(232,232,232)",
            "linecolor": "rgb(36,36,36)",
            "showgrid": false,
            "showline": true,
            "ticks": "outside"
           },
           "bgcolor": "white",
           "caxis": {
            "gridcolor": "rgb(232,232,232)",
            "linecolor": "rgb(36,36,36)",
            "showgrid": false,
            "showline": true,
            "ticks": "outside"
           }
          },
          "title": {
           "x": 0.05
          },
          "xaxis": {
           "automargin": true,
           "gridcolor": "rgb(232,232,232)",
           "linecolor": "rgb(36,36,36)",
           "showgrid": false,
           "showline": true,
           "ticks": "outside",
           "title": {
            "standoff": 15
           },
           "zeroline": false,
           "zerolinecolor": "rgb(36,36,36)"
          },
          "yaxis": {
           "automargin": true,
           "gridcolor": "rgb(232,232,232)",
           "linecolor": "rgb(36,36,36)",
           "showgrid": false,
           "showline": true,
           "ticks": "outside",
           "title": {
            "standoff": 15
           },
           "zeroline": false,
           "zerolinecolor": "rgb(36,36,36)"
          }
         }
        },
        "xaxis": {
         "anchor": "y",
         "domain": [
          0,
          1
         ],
         "title": {
          "text": "Case Study"
         }
        },
        "yaxis": {
         "anchor": "x",
         "domain": [
          0,
          1
         ],
         "title": {
          "text": "Total Capital Investment ($MM)"
         }
        }
       }
      }
     },
     "metadata": {}
    }
   ],
   "source": [
    "fig = px.bar(sys_df, x=\"Case Study\", y=\"Value\", color=\"Unit Process Name\",\n",
    "              labels={\"Value\": \"Total Capital Investment ($MM)\"},\n",
    "            template=\"simple_white\")\n",
    "fig.show()"
   ]
  },
  {
   "cell_type": "code",
   "execution_count": null,
   "metadata": {},
   "outputs": [],
   "source": [
    "palette = [\"#090364\", \"#091e75\", \"#093885\", \"#085396\", \"#086da6\", \n",
    "           \"#0888b7\", \"#08a2c7\", \"#07bdd8\", \"#07d7e8\", \"#07f2f9\", \n",
    "           \"#f9ac07\", \"#c77406\", \"#963b04\", \"#640303\"]\n",
    "test = old[:5][['up_name','tc_code','value']]\n",
    "test = test.pivot(index='tc_code', columns='up_name', values='value')\n",
    "test.plot(kind='bar', stacked=True, color=palette)"
   ]
  },
  {
   "cell_type": "code",
   "execution_count": null,
   "metadata": {},
   "outputs": [],
   "source": [
    "12"
   ]
  },
  {
   "cell_type": "code",
   "execution_count": null,
   "metadata": {},
   "outputs": [],
   "source": []
  },
  {
   "cell_type": "code",
   "execution_count": null,
   "metadata": {},
   "outputs": [],
   "source": []
  },
  {
   "cell_type": "code",
   "execution_count": null,
   "metadata": {},
   "outputs": [],
   "source": []
  },
  {
   "cell_type": "code",
   "execution_count": null,
   "metadata": {},
   "outputs": [],
   "source": []
  },
  {
   "cell_type": "code",
   "execution_count": 21,
   "metadata": {},
   "outputs": [],
   "source": [
    "sys_df = df[df[\"Unit Process Name\"] != \"System\"]\n",
    "sys_df = sys_df[sys_df[\"Variable\"] == \"Annual O&M Costs\"]"
   ]
  },
  {
   "cell_type": "code",
   "execution_count": 22,
   "metadata": {},
   "outputs": [
    {
     "data": {
      "application/vnd.plotly.v1+json": {
       "config": {
        "plotlyServerURL": "https://plot.ly"
       },
       "data": [
        {
         "alignmentgroup": "True",
         "hovertemplate": "Unit Process Name=well_field<br>Case Study=%{x}<br>Annual O&M Costs ($MM/yr)=%{y}<extra></extra>",
         "legendgroup": "well_field",
         "marker": {
          "color": "#1F77B4"
         },
         "name": "well_field",
         "offsetgroup": "well_field",
         "orientation": "v",
         "showlegend": true,
         "textposition": "auto",
         "type": "bar",
         "x": [
          "kbhdp",
          "emwd",
          "irwin"
         ],
         "xaxis": "x",
         "y": [
          0.160595260663124,
          0.0506496697602107,
          0.0387926668522852
         ],
         "yaxis": "y"
        },
        {
         "alignmentgroup": "True",
         "hovertemplate": "Unit Process Name=media_filtration<br>Case Study=%{x}<br>Annual O&M Costs ($MM/yr)=%{y}<extra></extra>",
         "legendgroup": "media_filtration",
         "marker": {
          "color": "#FF7F0E"
         },
         "name": "media_filtration",
         "offsetgroup": "media_filtration",
         "orientation": "v",
         "showlegend": true,
         "textposition": "auto",
         "type": "bar",
         "x": [
          "kbhdp",
          "irwin"
         ],
         "xaxis": "x",
         "y": [
          0.0310362027774257,
          0.0341180342170085
         ],
         "yaxis": "y"
        },
        {
         "alignmentgroup": "True",
         "hovertemplate": "Unit Process Name=anti_scalant_addition<br>Case Study=%{x}<br>Annual O&M Costs ($MM/yr)=%{y}<extra></extra>",
         "legendgroup": "anti_scalant_addition",
         "marker": {
          "color": "#2CA02C"
         },
         "name": "anti_scalant_addition",
         "offsetgroup": "anti_scalant_addition",
         "orientation": "v",
         "showlegend": true,
         "textposition": "auto",
         "type": "bar",
         "x": [
          "kbhdp",
          "irwin"
         ],
         "xaxis": "x",
         "y": [
          0.6491215306326036,
          0.2283784811494554
         ],
         "yaxis": "y"
        },
        {
         "alignmentgroup": "True",
         "hovertemplate": "Unit Process Name=RO1<br>Case Study=%{x}<br>Annual O&M Costs ($MM/yr)=%{y}<extra></extra>",
         "legendgroup": "RO1",
         "marker": {
          "color": "#D62728"
         },
         "name": "RO1",
         "offsetgroup": "RO1",
         "orientation": "v",
         "showlegend": true,
         "textposition": "auto",
         "type": "bar",
         "x": [
          "kbhdp"
         ],
         "xaxis": "x",
         "y": [
          0.6835803862888916
         ],
         "yaxis": "y"
        },
        {
         "alignmentgroup": "True",
         "hovertemplate": "Unit Process Name=RO2<br>Case Study=%{x}<br>Annual O&M Costs ($MM/yr)=%{y}<extra></extra>",
         "legendgroup": "RO2",
         "marker": {
          "color": "#9467BD"
         },
         "name": "RO2",
         "offsetgroup": "RO2",
         "orientation": "v",
         "showlegend": true,
         "textposition": "auto",
         "type": "bar",
         "x": [
          "kbhdp"
         ],
         "xaxis": "x",
         "y": [
          0.0000723190704232227
         ],
         "yaxis": "y"
        },
        {
         "alignmentgroup": "True",
         "hovertemplate": "Unit Process Name=caustic_soda_addition<br>Case Study=%{x}<br>Annual O&M Costs ($MM/yr)=%{y}<extra></extra>",
         "legendgroup": "caustic_soda_addition",
         "marker": {
          "color": "#8C564B"
         },
         "name": "caustic_soda_addition",
         "offsetgroup": "caustic_soda_addition",
         "orientation": "v",
         "showlegend": true,
         "textposition": "auto",
         "type": "bar",
         "x": [
          "kbhdp"
         ],
         "xaxis": "x",
         "y": [
          0.1858881664014133
         ],
         "yaxis": "y"
        },
        {
         "alignmentgroup": "True",
         "hovertemplate": "Unit Process Name=chlorination<br>Case Study=%{x}<br>Annual O&M Costs ($MM/yr)=%{y}<extra></extra>",
         "legendgroup": "chlorination",
         "marker": {
          "color": "#E377C2"
         },
         "name": "chlorination",
         "offsetgroup": "chlorination",
         "orientation": "v",
         "showlegend": true,
         "textposition": "auto",
         "type": "bar",
         "x": [
          "kbhdp",
          "emwd"
         ],
         "xaxis": "x",
         "y": [
          0.2275122393008544,
          0.1116715074209556
         ],
         "yaxis": "y"
        },
        {
         "alignmentgroup": "True",
         "hovertemplate": "Unit Process Name=treated_storage<br>Case Study=%{x}<br>Annual O&M Costs ($MM/yr)=%{y}<extra></extra>",
         "legendgroup": "treated_storage",
         "marker": {
          "color": "#7F7F7F"
         },
         "name": "treated_storage",
         "offsetgroup": "treated_storage",
         "orientation": "v",
         "showlegend": true,
         "textposition": "auto",
         "type": "bar",
         "x": [
          "kbhdp",
          "emwd",
          "irwin"
         ],
         "xaxis": "x",
         "y": [
          0.1779451671521369,
          0.028681695560659,
          0.0381972863426309
         ],
         "yaxis": "y"
        },
        {
         "alignmentgroup": "True",
         "hovertemplate": "Unit Process Name=deep_well_injection<br>Case Study=%{x}<br>Annual O&M Costs ($MM/yr)=%{y}<extra></extra>",
         "legendgroup": "deep_well_injection",
         "marker": {
          "color": "#BCBD22"
         },
         "name": "deep_well_injection",
         "offsetgroup": "deep_well_injection",
         "orientation": "v",
         "showlegend": true,
         "textposition": "auto",
         "type": "bar",
         "x": [
          "kbhdp"
         ],
         "xaxis": "x",
         "y": [
          0.6227461609765153
         ],
         "yaxis": "y"
        },
        {
         "alignmentgroup": "True",
         "hovertemplate": "Unit Process Name=municipal_drinking<br>Case Study=%{x}<br>Annual O&M Costs ($MM/yr)=%{y}<extra></extra>",
         "legendgroup": "municipal_drinking",
         "marker": {
          "color": "#17BECF"
         },
         "name": "municipal_drinking",
         "offsetgroup": "municipal_drinking",
         "orientation": "v",
         "showlegend": true,
         "textposition": "auto",
         "type": "bar",
         "x": [
          "kbhdp",
          "emwd",
          "irwin"
         ],
         "xaxis": "x",
         "y": [
          0.617403875707896,
          0.469959733350483,
          0.3680718811933168
         ],
         "yaxis": "y"
        },
        {
         "alignmentgroup": "True",
         "hovertemplate": "Unit Process Name=surface_discharge<br>Case Study=%{x}<br>Annual O&M Costs ($MM/yr)=%{y}<extra></extra>",
         "legendgroup": "surface_discharge",
         "marker": {
          "color": "#1F77B4"
         },
         "name": "surface_discharge",
         "offsetgroup": "surface_discharge",
         "orientation": "v",
         "showlegend": true,
         "textposition": "auto",
         "type": "bar",
         "x": [
          "kbhdp",
          "emwd"
         ],
         "xaxis": "x",
         "y": [
          0.0004031233129876,
          0.0212062759653951
         ],
         "yaxis": "y"
        },
        {
         "alignmentgroup": "True",
         "hovertemplate": "Unit Process Name=iron_and_manganese_removal<br>Case Study=%{x}<br>Annual O&M Costs ($MM/yr)=%{y}<extra></extra>",
         "legendgroup": "iron_and_manganese_removal",
         "marker": {
          "color": "#FF7F0E"
         },
         "name": "iron_and_manganese_removal",
         "offsetgroup": "iron_and_manganese_removal",
         "orientation": "v",
         "showlegend": true,
         "textposition": "auto",
         "type": "bar",
         "x": [
          "emwd"
         ],
         "xaxis": "x",
         "y": [
          0.6529105471463185
         ],
         "yaxis": "y"
        },
        {
         "alignmentgroup": "True",
         "hovertemplate": "Unit Process Name=cartridge_filtration_a<br>Case Study=%{x}<br>Annual O&M Costs ($MM/yr)=%{y}<extra></extra>",
         "legendgroup": "cartridge_filtration_a",
         "marker": {
          "color": "#2CA02C"
         },
         "name": "cartridge_filtration_a",
         "offsetgroup": "cartridge_filtration_a",
         "orientation": "v",
         "showlegend": true,
         "textposition": "auto",
         "type": "bar",
         "x": [
          "emwd"
         ],
         "xaxis": "x",
         "y": [
          0.0053036637916908
         ],
         "yaxis": "y"
        },
        {
         "alignmentgroup": "True",
         "hovertemplate": "Unit Process Name=ro_a1<br>Case Study=%{x}<br>Annual O&M Costs ($MM/yr)=%{y}<extra></extra>",
         "legendgroup": "ro_a1",
         "marker": {
          "color": "#D62728"
         },
         "name": "ro_a1",
         "offsetgroup": "ro_a1",
         "orientation": "v",
         "showlegend": true,
         "textposition": "auto",
         "type": "bar",
         "x": [
          "emwd"
         ],
         "xaxis": "x",
         "y": [
          0.0262057475454784
         ],
         "yaxis": "y"
        },
        {
         "alignmentgroup": "True",
         "hovertemplate": "Unit Process Name=ro_a2<br>Case Study=%{x}<br>Annual O&M Costs ($MM/yr)=%{y}<extra></extra>",
         "legendgroup": "ro_a2",
         "marker": {
          "color": "#9467BD"
         },
         "name": "ro_a2",
         "offsetgroup": "ro_a2",
         "orientation": "v",
         "showlegend": true,
         "textposition": "auto",
         "type": "bar",
         "x": [
          "emwd"
         ],
         "xaxis": "x",
         "y": [
          0.0262057475454784
         ],
         "yaxis": "y"
        },
        {
         "alignmentgroup": "True",
         "hovertemplate": "Unit Process Name=decarbonator_a<br>Case Study=%{x}<br>Annual O&M Costs ($MM/yr)=%{y}<extra></extra>",
         "legendgroup": "decarbonator_a",
         "marker": {
          "color": "#8C564B"
         },
         "name": "decarbonator_a",
         "offsetgroup": "decarbonator_a",
         "orientation": "v",
         "showlegend": true,
         "textposition": "auto",
         "type": "bar",
         "x": [
          "emwd"
         ],
         "xaxis": "x",
         "y": [
          0.0003133064861727
         ],
         "yaxis": "y"
        },
        {
         "alignmentgroup": "True",
         "hovertemplate": "Unit Process Name=cartridge_filtration_b<br>Case Study=%{x}<br>Annual O&M Costs ($MM/yr)=%{y}<extra></extra>",
         "legendgroup": "cartridge_filtration_b",
         "marker": {
          "color": "#E377C2"
         },
         "name": "cartridge_filtration_b",
         "offsetgroup": "cartridge_filtration_b",
         "orientation": "v",
         "showlegend": true,
         "textposition": "auto",
         "type": "bar",
         "x": [
          "emwd"
         ],
         "xaxis": "x",
         "y": [
          0.025071289366405
         ],
         "yaxis": "y"
        },
        {
         "alignmentgroup": "True",
         "hovertemplate": "Unit Process Name=ro_b1<br>Case Study=%{x}<br>Annual O&M Costs ($MM/yr)=%{y}<extra></extra>",
         "legendgroup": "ro_b1",
         "marker": {
          "color": "#7F7F7F"
         },
         "name": "ro_b1",
         "offsetgroup": "ro_b1",
         "orientation": "v",
         "showlegend": true,
         "textposition": "auto",
         "type": "bar",
         "x": [
          "emwd"
         ],
         "xaxis": "x",
         "y": [
          0.3709743629564376
         ],
         "yaxis": "y"
        },
        {
         "alignmentgroup": "True",
         "hovertemplate": "Unit Process Name=ro_b2<br>Case Study=%{x}<br>Annual O&M Costs ($MM/yr)=%{y}<extra></extra>",
         "legendgroup": "ro_b2",
         "marker": {
          "color": "#BCBD22"
         },
         "name": "ro_b2",
         "offsetgroup": "ro_b2",
         "orientation": "v",
         "showlegend": true,
         "textposition": "auto",
         "type": "bar",
         "x": [
          "emwd"
         ],
         "xaxis": "x",
         "y": [
          0.3709743629564376
         ],
         "yaxis": "y"
        },
        {
         "alignmentgroup": "True",
         "hovertemplate": "Unit Process Name=decarbonator_b<br>Case Study=%{x}<br>Annual O&M Costs ($MM/yr)=%{y}<extra></extra>",
         "legendgroup": "decarbonator_b",
         "marker": {
          "color": "#17BECF"
         },
         "name": "decarbonator_b",
         "offsetgroup": "decarbonator_b",
         "orientation": "v",
         "showlegend": true,
         "textposition": "auto",
         "type": "bar",
         "x": [
          "emwd"
         ],
         "xaxis": "x",
         "y": [
          0.0011790975929467
         ],
         "yaxis": "y"
        },
        {
         "alignmentgroup": "True",
         "hovertemplate": "Unit Process Name=onsite_storage<br>Case Study=%{x}<br>Annual O&M Costs ($MM/yr)=%{y}<extra></extra>",
         "legendgroup": "onsite_storage",
         "marker": {
          "color": "#1F77B4"
         },
         "name": "onsite_storage",
         "offsetgroup": "onsite_storage",
         "orientation": "v",
         "showlegend": true,
         "textposition": "auto",
         "type": "bar",
         "x": [
          "irwin"
         ],
         "xaxis": "x",
         "y": [
          0.1284508566702211
         ],
         "yaxis": "y"
        },
        {
         "alignmentgroup": "True",
         "hovertemplate": "Unit Process Name=hydrochloric_acid_addition<br>Case Study=%{x}<br>Annual O&M Costs ($MM/yr)=%{y}<extra></extra>",
         "legendgroup": "hydrochloric_acid_addition",
         "marker": {
          "color": "#FF7F0E"
         },
         "name": "hydrochloric_acid_addition",
         "offsetgroup": "hydrochloric_acid_addition",
         "orientation": "v",
         "showlegend": true,
         "textposition": "auto",
         "type": "bar",
         "x": [
          "irwin"
         ],
         "xaxis": "x",
         "y": [
          0.0232203835714216
         ],
         "yaxis": "y"
        },
        {
         "alignmentgroup": "True",
         "hovertemplate": "Unit Process Name=sodium_bisulfite_addition<br>Case Study=%{x}<br>Annual O&M Costs ($MM/yr)=%{y}<extra></extra>",
         "legendgroup": "sodium_bisulfite_addition",
         "marker": {
          "color": "#2CA02C"
         },
         "name": "sodium_bisulfite_addition",
         "offsetgroup": "sodium_bisulfite_addition",
         "orientation": "v",
         "showlegend": true,
         "textposition": "auto",
         "type": "bar",
         "x": [
          "irwin"
         ],
         "xaxis": "x",
         "y": [
          0.0479897453057188
         ],
         "yaxis": "y"
        },
        {
         "alignmentgroup": "True",
         "hovertemplate": "Unit Process Name=electrodialysis_reversal<br>Case Study=%{x}<br>Annual O&M Costs ($MM/yr)=%{y}<extra></extra>",
         "legendgroup": "electrodialysis_reversal",
         "marker": {
          "color": "#D62728"
         },
         "name": "electrodialysis_reversal",
         "offsetgroup": "electrodialysis_reversal",
         "orientation": "v",
         "showlegend": true,
         "textposition": "auto",
         "type": "bar",
         "x": [
          "irwin"
         ],
         "xaxis": "x",
         "y": [
          0.8611715442286143
         ],
         "yaxis": "y"
        },
        {
         "alignmentgroup": "True",
         "hovertemplate": "Unit Process Name=water_pumping_station<br>Case Study=%{x}<br>Annual O&M Costs ($MM/yr)=%{y}<extra></extra>",
         "legendgroup": "water_pumping_station",
         "marker": {
          "color": "#9467BD"
         },
         "name": "water_pumping_station",
         "offsetgroup": "water_pumping_station",
         "orientation": "v",
         "showlegend": true,
         "textposition": "auto",
         "type": "bar",
         "x": [
          "irwin"
         ],
         "xaxis": "x",
         "y": [
          0.0012691549844348
         ],
         "yaxis": "y"
        },
        {
         "alignmentgroup": "True",
         "hovertemplate": "Unit Process Name=lime_softening<br>Case Study=%{x}<br>Annual O&M Costs ($MM/yr)=%{y}<extra></extra>",
         "legendgroup": "lime_softening",
         "marker": {
          "color": "#8C564B"
         },
         "name": "lime_softening",
         "offsetgroup": "lime_softening",
         "orientation": "v",
         "showlegend": true,
         "textposition": "auto",
         "type": "bar",
         "x": [
          "irwin"
         ],
         "xaxis": "x",
         "y": [
          0.0315778944981902
         ],
         "yaxis": "y"
        },
        {
         "alignmentgroup": "True",
         "hovertemplate": "Unit Process Name=microfiltration<br>Case Study=%{x}<br>Annual O&M Costs ($MM/yr)=%{y}<extra></extra>",
         "legendgroup": "microfiltration",
         "marker": {
          "color": "#E377C2"
         },
         "name": "microfiltration",
         "offsetgroup": "microfiltration",
         "orientation": "v",
         "showlegend": true,
         "textposition": "auto",
         "type": "bar",
         "x": [
          "irwin"
         ],
         "xaxis": "x",
         "y": [
          0.0582229890440754
         ],
         "yaxis": "y"
        },
        {
         "alignmentgroup": "True",
         "hovertemplate": "Unit Process Name=reverse_osmosis<br>Case Study=%{x}<br>Annual O&M Costs ($MM/yr)=%{y}<extra></extra>",
         "legendgroup": "reverse_osmosis",
         "marker": {
          "color": "#7F7F7F"
         },
         "name": "reverse_osmosis",
         "offsetgroup": "reverse_osmosis",
         "orientation": "v",
         "showlegend": true,
         "textposition": "auto",
         "type": "bar",
         "x": [
          "irwin"
         ],
         "xaxis": "x",
         "y": [
          0.094890193616943
         ],
         "yaxis": "y"
        },
        {
         "alignmentgroup": "True",
         "hovertemplate": "Unit Process Name=irwin_brine_management<br>Case Study=%{x}<br>Annual O&M Costs ($MM/yr)=%{y}<extra></extra>",
         "legendgroup": "irwin_brine_management",
         "marker": {
          "color": "#BCBD22"
         },
         "name": "irwin_brine_management",
         "offsetgroup": "irwin_brine_management",
         "orientation": "v",
         "showlegend": true,
         "textposition": "auto",
         "type": "bar",
         "x": [
          "irwin"
         ],
         "xaxis": "x",
         "y": [
          1.209867661174994
         ],
         "yaxis": "y"
        }
       ],
       "layout": {
        "barmode": "relative",
        "legend": {
         "title": {
          "text": "Unit Process Name"
         },
         "tracegroupgap": 0
        },
        "margin": {
         "t": 60
        },
        "template": {
         "data": {
          "bar": [
           {
            "error_x": {
             "color": "rgb(36,36,36)"
            },
            "error_y": {
             "color": "rgb(36,36,36)"
            },
            "marker": {
             "line": {
              "color": "white",
              "width": 0.5
             }
            },
            "type": "bar"
           }
          ],
          "barpolar": [
           {
            "marker": {
             "line": {
              "color": "white",
              "width": 0.5
             }
            },
            "type": "barpolar"
           }
          ],
          "carpet": [
           {
            "aaxis": {
             "endlinecolor": "rgb(36,36,36)",
             "gridcolor": "white",
             "linecolor": "white",
             "minorgridcolor": "white",
             "startlinecolor": "rgb(36,36,36)"
            },
            "baxis": {
             "endlinecolor": "rgb(36,36,36)",
             "gridcolor": "white",
             "linecolor": "white",
             "minorgridcolor": "white",
             "startlinecolor": "rgb(36,36,36)"
            },
            "type": "carpet"
           }
          ],
          "choropleth": [
           {
            "colorbar": {
             "outlinewidth": 1,
             "tickcolor": "rgb(36,36,36)",
             "ticks": "outside"
            },
            "type": "choropleth"
           }
          ],
          "contour": [
           {
            "colorbar": {
             "outlinewidth": 1,
             "tickcolor": "rgb(36,36,36)",
             "ticks": "outside"
            },
            "colorscale": [
             [
              0,
              "#440154"
             ],
             [
              0.1111111111111111,
              "#482878"
             ],
             [
              0.2222222222222222,
              "#3e4989"
             ],
             [
              0.3333333333333333,
              "#31688e"
             ],
             [
              0.4444444444444444,
              "#26828e"
             ],
             [
              0.5555555555555556,
              "#1f9e89"
             ],
             [
              0.6666666666666666,
              "#35b779"
             ],
             [
              0.7777777777777778,
              "#6ece58"
             ],
             [
              0.8888888888888888,
              "#b5de2b"
             ],
             [
              1,
              "#fde725"
             ]
            ],
            "type": "contour"
           }
          ],
          "contourcarpet": [
           {
            "colorbar": {
             "outlinewidth": 1,
             "tickcolor": "rgb(36,36,36)",
             "ticks": "outside"
            },
            "type": "contourcarpet"
           }
          ],
          "heatmap": [
           {
            "colorbar": {
             "outlinewidth": 1,
             "tickcolor": "rgb(36,36,36)",
             "ticks": "outside"
            },
            "colorscale": [
             [
              0,
              "#440154"
             ],
             [
              0.1111111111111111,
              "#482878"
             ],
             [
              0.2222222222222222,
              "#3e4989"
             ],
             [
              0.3333333333333333,
              "#31688e"
             ],
             [
              0.4444444444444444,
              "#26828e"
             ],
             [
              0.5555555555555556,
              "#1f9e89"
             ],
             [
              0.6666666666666666,
              "#35b779"
             ],
             [
              0.7777777777777778,
              "#6ece58"
             ],
             [
              0.8888888888888888,
              "#b5de2b"
             ],
             [
              1,
              "#fde725"
             ]
            ],
            "type": "heatmap"
           }
          ],
          "heatmapgl": [
           {
            "colorbar": {
             "outlinewidth": 1,
             "tickcolor": "rgb(36,36,36)",
             "ticks": "outside"
            },
            "colorscale": [
             [
              0,
              "#440154"
             ],
             [
              0.1111111111111111,
              "#482878"
             ],
             [
              0.2222222222222222,
              "#3e4989"
             ],
             [
              0.3333333333333333,
              "#31688e"
             ],
             [
              0.4444444444444444,
              "#26828e"
             ],
             [
              0.5555555555555556,
              "#1f9e89"
             ],
             [
              0.6666666666666666,
              "#35b779"
             ],
             [
              0.7777777777777778,
              "#6ece58"
             ],
             [
              0.8888888888888888,
              "#b5de2b"
             ],
             [
              1,
              "#fde725"
             ]
            ],
            "type": "heatmapgl"
           }
          ],
          "histogram": [
           {
            "marker": {
             "line": {
              "color": "white",
              "width": 0.6
             }
            },
            "type": "histogram"
           }
          ],
          "histogram2d": [
           {
            "colorbar": {
             "outlinewidth": 1,
             "tickcolor": "rgb(36,36,36)",
             "ticks": "outside"
            },
            "colorscale": [
             [
              0,
              "#440154"
             ],
             [
              0.1111111111111111,
              "#482878"
             ],
             [
              0.2222222222222222,
              "#3e4989"
             ],
             [
              0.3333333333333333,
              "#31688e"
             ],
             [
              0.4444444444444444,
              "#26828e"
             ],
             [
              0.5555555555555556,
              "#1f9e89"
             ],
             [
              0.6666666666666666,
              "#35b779"
             ],
             [
              0.7777777777777778,
              "#6ece58"
             ],
             [
              0.8888888888888888,
              "#b5de2b"
             ],
             [
              1,
              "#fde725"
             ]
            ],
            "type": "histogram2d"
           }
          ],
          "histogram2dcontour": [
           {
            "colorbar": {
             "outlinewidth": 1,
             "tickcolor": "rgb(36,36,36)",
             "ticks": "outside"
            },
            "colorscale": [
             [
              0,
              "#440154"
             ],
             [
              0.1111111111111111,
              "#482878"
             ],
             [
              0.2222222222222222,
              "#3e4989"
             ],
             [
              0.3333333333333333,
              "#31688e"
             ],
             [
              0.4444444444444444,
              "#26828e"
             ],
             [
              0.5555555555555556,
              "#1f9e89"
             ],
             [
              0.6666666666666666,
              "#35b779"
             ],
             [
              0.7777777777777778,
              "#6ece58"
             ],
             [
              0.8888888888888888,
              "#b5de2b"
             ],
             [
              1,
              "#fde725"
             ]
            ],
            "type": "histogram2dcontour"
           }
          ],
          "mesh3d": [
           {
            "colorbar": {
             "outlinewidth": 1,
             "tickcolor": "rgb(36,36,36)",
             "ticks": "outside"
            },
            "type": "mesh3d"
           }
          ],
          "parcoords": [
           {
            "line": {
             "colorbar": {
              "outlinewidth": 1,
              "tickcolor": "rgb(36,36,36)",
              "ticks": "outside"
             }
            },
            "type": "parcoords"
           }
          ],
          "pie": [
           {
            "automargin": true,
            "type": "pie"
           }
          ],
          "scatter": [
           {
            "marker": {
             "colorbar": {
              "outlinewidth": 1,
              "tickcolor": "rgb(36,36,36)",
              "ticks": "outside"
             }
            },
            "type": "scatter"
           }
          ],
          "scatter3d": [
           {
            "line": {
             "colorbar": {
              "outlinewidth": 1,
              "tickcolor": "rgb(36,36,36)",
              "ticks": "outside"
             }
            },
            "marker": {
             "colorbar": {
              "outlinewidth": 1,
              "tickcolor": "rgb(36,36,36)",
              "ticks": "outside"
             }
            },
            "type": "scatter3d"
           }
          ],
          "scattercarpet": [
           {
            "marker": {
             "colorbar": {
              "outlinewidth": 1,
              "tickcolor": "rgb(36,36,36)",
              "ticks": "outside"
             }
            },
            "type": "scattercarpet"
           }
          ],
          "scattergeo": [
           {
            "marker": {
             "colorbar": {
              "outlinewidth": 1,
              "tickcolor": "rgb(36,36,36)",
              "ticks": "outside"
             }
            },
            "type": "scattergeo"
           }
          ],
          "scattergl": [
           {
            "marker": {
             "colorbar": {
              "outlinewidth": 1,
              "tickcolor": "rgb(36,36,36)",
              "ticks": "outside"
             }
            },
            "type": "scattergl"
           }
          ],
          "scattermapbox": [
           {
            "marker": {
             "colorbar": {
              "outlinewidth": 1,
              "tickcolor": "rgb(36,36,36)",
              "ticks": "outside"
             }
            },
            "type": "scattermapbox"
           }
          ],
          "scatterpolar": [
           {
            "marker": {
             "colorbar": {
              "outlinewidth": 1,
              "tickcolor": "rgb(36,36,36)",
              "ticks": "outside"
             }
            },
            "type": "scatterpolar"
           }
          ],
          "scatterpolargl": [
           {
            "marker": {
             "colorbar": {
              "outlinewidth": 1,
              "tickcolor": "rgb(36,36,36)",
              "ticks": "outside"
             }
            },
            "type": "scatterpolargl"
           }
          ],
          "scatterternary": [
           {
            "marker": {
             "colorbar": {
              "outlinewidth": 1,
              "tickcolor": "rgb(36,36,36)",
              "ticks": "outside"
             }
            },
            "type": "scatterternary"
           }
          ],
          "surface": [
           {
            "colorbar": {
             "outlinewidth": 1,
             "tickcolor": "rgb(36,36,36)",
             "ticks": "outside"
            },
            "colorscale": [
             [
              0,
              "#440154"
             ],
             [
              0.1111111111111111,
              "#482878"
             ],
             [
              0.2222222222222222,
              "#3e4989"
             ],
             [
              0.3333333333333333,
              "#31688e"
             ],
             [
              0.4444444444444444,
              "#26828e"
             ],
             [
              0.5555555555555556,
              "#1f9e89"
             ],
             [
              0.6666666666666666,
              "#35b779"
             ],
             [
              0.7777777777777778,
              "#6ece58"
             ],
             [
              0.8888888888888888,
              "#b5de2b"
             ],
             [
              1,
              "#fde725"
             ]
            ],
            "type": "surface"
           }
          ],
          "table": [
           {
            "cells": {
             "fill": {
              "color": "rgb(237,237,237)"
             },
             "line": {
              "color": "white"
             }
            },
            "header": {
             "fill": {
              "color": "rgb(217,217,217)"
             },
             "line": {
              "color": "white"
             }
            },
            "type": "table"
           }
          ]
         },
         "layout": {
          "annotationdefaults": {
           "arrowhead": 0,
           "arrowwidth": 1
          },
          "autotypenumbers": "strict",
          "coloraxis": {
           "colorbar": {
            "outlinewidth": 1,
            "tickcolor": "rgb(36,36,36)",
            "ticks": "outside"
           }
          },
          "colorscale": {
           "diverging": [
            [
             0,
             "rgb(103,0,31)"
            ],
            [
             0.1,
             "rgb(178,24,43)"
            ],
            [
             0.2,
             "rgb(214,96,77)"
            ],
            [
             0.3,
             "rgb(244,165,130)"
            ],
            [
             0.4,
             "rgb(253,219,199)"
            ],
            [
             0.5,
             "rgb(247,247,247)"
            ],
            [
             0.6,
             "rgb(209,229,240)"
            ],
            [
             0.7,
             "rgb(146,197,222)"
            ],
            [
             0.8,
             "rgb(67,147,195)"
            ],
            [
             0.9,
             "rgb(33,102,172)"
            ],
            [
             1,
             "rgb(5,48,97)"
            ]
           ],
           "sequential": [
            [
             0,
             "#440154"
            ],
            [
             0.1111111111111111,
             "#482878"
            ],
            [
             0.2222222222222222,
             "#3e4989"
            ],
            [
             0.3333333333333333,
             "#31688e"
            ],
            [
             0.4444444444444444,
             "#26828e"
            ],
            [
             0.5555555555555556,
             "#1f9e89"
            ],
            [
             0.6666666666666666,
             "#35b779"
            ],
            [
             0.7777777777777778,
             "#6ece58"
            ],
            [
             0.8888888888888888,
             "#b5de2b"
            ],
            [
             1,
             "#fde725"
            ]
           ],
           "sequentialminus": [
            [
             0,
             "#440154"
            ],
            [
             0.1111111111111111,
             "#482878"
            ],
            [
             0.2222222222222222,
             "#3e4989"
            ],
            [
             0.3333333333333333,
             "#31688e"
            ],
            [
             0.4444444444444444,
             "#26828e"
            ],
            [
             0.5555555555555556,
             "#1f9e89"
            ],
            [
             0.6666666666666666,
             "#35b779"
            ],
            [
             0.7777777777777778,
             "#6ece58"
            ],
            [
             0.8888888888888888,
             "#b5de2b"
            ],
            [
             1,
             "#fde725"
            ]
           ]
          },
          "colorway": [
           "#1F77B4",
           "#FF7F0E",
           "#2CA02C",
           "#D62728",
           "#9467BD",
           "#8C564B",
           "#E377C2",
           "#7F7F7F",
           "#BCBD22",
           "#17BECF"
          ],
          "font": {
           "color": "rgb(36,36,36)"
          },
          "geo": {
           "bgcolor": "white",
           "lakecolor": "white",
           "landcolor": "white",
           "showlakes": true,
           "showland": true,
           "subunitcolor": "white"
          },
          "hoverlabel": {
           "align": "left"
          },
          "hovermode": "closest",
          "mapbox": {
           "style": "light"
          },
          "paper_bgcolor": "white",
          "plot_bgcolor": "white",
          "polar": {
           "angularaxis": {
            "gridcolor": "rgb(232,232,232)",
            "linecolor": "rgb(36,36,36)",
            "showgrid": false,
            "showline": true,
            "ticks": "outside"
           },
           "bgcolor": "white",
           "radialaxis": {
            "gridcolor": "rgb(232,232,232)",
            "linecolor": "rgb(36,36,36)",
            "showgrid": false,
            "showline": true,
            "ticks": "outside"
           }
          },
          "scene": {
           "xaxis": {
            "backgroundcolor": "white",
            "gridcolor": "rgb(232,232,232)",
            "gridwidth": 2,
            "linecolor": "rgb(36,36,36)",
            "showbackground": true,
            "showgrid": false,
            "showline": true,
            "ticks": "outside",
            "zeroline": false,
            "zerolinecolor": "rgb(36,36,36)"
           },
           "yaxis": {
            "backgroundcolor": "white",
            "gridcolor": "rgb(232,232,232)",
            "gridwidth": 2,
            "linecolor": "rgb(36,36,36)",
            "showbackground": true,
            "showgrid": false,
            "showline": true,
            "ticks": "outside",
            "zeroline": false,
            "zerolinecolor": "rgb(36,36,36)"
           },
           "zaxis": {
            "backgroundcolor": "white",
            "gridcolor": "rgb(232,232,232)",
            "gridwidth": 2,
            "linecolor": "rgb(36,36,36)",
            "showbackground": true,
            "showgrid": false,
            "showline": true,
            "ticks": "outside",
            "zeroline": false,
            "zerolinecolor": "rgb(36,36,36)"
           }
          },
          "shapedefaults": {
           "fillcolor": "black",
           "line": {
            "width": 0
           },
           "opacity": 0.3
          },
          "ternary": {
           "aaxis": {
            "gridcolor": "rgb(232,232,232)",
            "linecolor": "rgb(36,36,36)",
            "showgrid": false,
            "showline": true,
            "ticks": "outside"
           },
           "baxis": {
            "gridcolor": "rgb(232,232,232)",
            "linecolor": "rgb(36,36,36)",
            "showgrid": false,
            "showline": true,
            "ticks": "outside"
           },
           "bgcolor": "white",
           "caxis": {
            "gridcolor": "rgb(232,232,232)",
            "linecolor": "rgb(36,36,36)",
            "showgrid": false,
            "showline": true,
            "ticks": "outside"
           }
          },
          "title": {
           "x": 0.05
          },
          "xaxis": {
           "automargin": true,
           "gridcolor": "rgb(232,232,232)",
           "linecolor": "rgb(36,36,36)",
           "showgrid": false,
           "showline": true,
           "ticks": "outside",
           "title": {
            "standoff": 15
           },
           "zeroline": false,
           "zerolinecolor": "rgb(36,36,36)"
          },
          "yaxis": {
           "automargin": true,
           "gridcolor": "rgb(232,232,232)",
           "linecolor": "rgb(36,36,36)",
           "showgrid": false,
           "showline": true,
           "ticks": "outside",
           "title": {
            "standoff": 15
           },
           "zeroline": false,
           "zerolinecolor": "rgb(36,36,36)"
          }
         }
        },
        "xaxis": {
         "anchor": "y",
         "domain": [
          0,
          1
         ],
         "title": {
          "text": "Case Study"
         }
        },
        "yaxis": {
         "anchor": "x",
         "domain": [
          0,
          1
         ],
         "title": {
          "text": "Annual O&M Costs ($MM/yr)"
         }
        }
       }
      },
      "text/html": [
       "<div>                            <div id=\"494ffe29-c3b2-4609-ab0c-6e424e4a9008\" class=\"plotly-graph-div\" style=\"height:525px; width:100%;\"></div>            <script type=\"text/javascript\">                require([\"plotly\"], function(Plotly) {                    window.PLOTLYENV=window.PLOTLYENV || {};                                    if (document.getElementById(\"494ffe29-c3b2-4609-ab0c-6e424e4a9008\")) {                    Plotly.newPlot(                        \"494ffe29-c3b2-4609-ab0c-6e424e4a9008\",                        [{\"alignmentgroup\": \"True\", \"hovertemplate\": \"Unit Process Name=well_field<br>Case Study=%{x}<br>Annual O&M Costs ($MM/yr)=%{y}<extra></extra>\", \"legendgroup\": \"well_field\", \"marker\": {\"color\": \"#1F77B4\"}, \"name\": \"well_field\", \"offsetgroup\": \"well_field\", \"orientation\": \"v\", \"showlegend\": true, \"textposition\": \"auto\", \"type\": \"bar\", \"x\": [\"kbhdp\", \"emwd\", \"irwin\"], \"xaxis\": \"x\", \"y\": [0.160595260663124, 0.0506496697602107, 0.0387926668522852], \"yaxis\": \"y\"}, {\"alignmentgroup\": \"True\", \"hovertemplate\": \"Unit Process Name=media_filtration<br>Case Study=%{x}<br>Annual O&M Costs ($MM/yr)=%{y}<extra></extra>\", \"legendgroup\": \"media_filtration\", \"marker\": {\"color\": \"#FF7F0E\"}, \"name\": \"media_filtration\", \"offsetgroup\": \"media_filtration\", \"orientation\": \"v\", \"showlegend\": true, \"textposition\": \"auto\", \"type\": \"bar\", \"x\": [\"kbhdp\", \"irwin\"], \"xaxis\": \"x\", \"y\": [0.0310362027774257, 0.0341180342170085], \"yaxis\": \"y\"}, {\"alignmentgroup\": \"True\", \"hovertemplate\": \"Unit Process Name=anti_scalant_addition<br>Case Study=%{x}<br>Annual O&M Costs ($MM/yr)=%{y}<extra></extra>\", \"legendgroup\": \"anti_scalant_addition\", \"marker\": {\"color\": \"#2CA02C\"}, \"name\": \"anti_scalant_addition\", \"offsetgroup\": \"anti_scalant_addition\", \"orientation\": \"v\", \"showlegend\": true, \"textposition\": \"auto\", \"type\": \"bar\", \"x\": [\"kbhdp\", \"irwin\"], \"xaxis\": \"x\", \"y\": [0.6491215306326036, 0.2283784811494554], \"yaxis\": \"y\"}, {\"alignmentgroup\": \"True\", \"hovertemplate\": \"Unit Process Name=RO1<br>Case Study=%{x}<br>Annual O&M Costs ($MM/yr)=%{y}<extra></extra>\", \"legendgroup\": \"RO1\", \"marker\": {\"color\": \"#D62728\"}, \"name\": \"RO1\", \"offsetgroup\": \"RO1\", \"orientation\": \"v\", \"showlegend\": true, \"textposition\": \"auto\", \"type\": \"bar\", \"x\": [\"kbhdp\"], \"xaxis\": \"x\", \"y\": [0.6835803862888916], \"yaxis\": \"y\"}, {\"alignmentgroup\": \"True\", \"hovertemplate\": \"Unit Process Name=RO2<br>Case Study=%{x}<br>Annual O&M Costs ($MM/yr)=%{y}<extra></extra>\", \"legendgroup\": \"RO2\", \"marker\": {\"color\": \"#9467BD\"}, \"name\": \"RO2\", \"offsetgroup\": \"RO2\", \"orientation\": \"v\", \"showlegend\": true, \"textposition\": \"auto\", \"type\": \"bar\", \"x\": [\"kbhdp\"], \"xaxis\": \"x\", \"y\": [7.23190704232227e-05], \"yaxis\": \"y\"}, {\"alignmentgroup\": \"True\", \"hovertemplate\": \"Unit Process Name=caustic_soda_addition<br>Case Study=%{x}<br>Annual O&M Costs ($MM/yr)=%{y}<extra></extra>\", \"legendgroup\": \"caustic_soda_addition\", \"marker\": {\"color\": \"#8C564B\"}, \"name\": \"caustic_soda_addition\", \"offsetgroup\": \"caustic_soda_addition\", \"orientation\": \"v\", \"showlegend\": true, \"textposition\": \"auto\", \"type\": \"bar\", \"x\": [\"kbhdp\"], \"xaxis\": \"x\", \"y\": [0.1858881664014133], \"yaxis\": \"y\"}, {\"alignmentgroup\": \"True\", \"hovertemplate\": \"Unit Process Name=chlorination<br>Case Study=%{x}<br>Annual O&M Costs ($MM/yr)=%{y}<extra></extra>\", \"legendgroup\": \"chlorination\", \"marker\": {\"color\": \"#E377C2\"}, \"name\": \"chlorination\", \"offsetgroup\": \"chlorination\", \"orientation\": \"v\", \"showlegend\": true, \"textposition\": \"auto\", \"type\": \"bar\", \"x\": [\"kbhdp\", \"emwd\"], \"xaxis\": \"x\", \"y\": [0.2275122393008544, 0.1116715074209556], \"yaxis\": \"y\"}, {\"alignmentgroup\": \"True\", \"hovertemplate\": \"Unit Process Name=treated_storage<br>Case Study=%{x}<br>Annual O&M Costs ($MM/yr)=%{y}<extra></extra>\", \"legendgroup\": \"treated_storage\", \"marker\": {\"color\": \"#7F7F7F\"}, \"name\": \"treated_storage\", \"offsetgroup\": \"treated_storage\", \"orientation\": \"v\", \"showlegend\": true, \"textposition\": \"auto\", \"type\": \"bar\", \"x\": [\"kbhdp\", \"emwd\", \"irwin\"], \"xaxis\": \"x\", \"y\": [0.1779451671521369, 0.028681695560659, 0.0381972863426309], \"yaxis\": \"y\"}, {\"alignmentgroup\": \"True\", \"hovertemplate\": \"Unit Process Name=deep_well_injection<br>Case Study=%{x}<br>Annual O&M Costs ($MM/yr)=%{y}<extra></extra>\", \"legendgroup\": \"deep_well_injection\", \"marker\": {\"color\": \"#BCBD22\"}, \"name\": \"deep_well_injection\", \"offsetgroup\": \"deep_well_injection\", \"orientation\": \"v\", \"showlegend\": true, \"textposition\": \"auto\", \"type\": \"bar\", \"x\": [\"kbhdp\"], \"xaxis\": \"x\", \"y\": [0.6227461609765153], \"yaxis\": \"y\"}, {\"alignmentgroup\": \"True\", \"hovertemplate\": \"Unit Process Name=municipal_drinking<br>Case Study=%{x}<br>Annual O&M Costs ($MM/yr)=%{y}<extra></extra>\", \"legendgroup\": \"municipal_drinking\", \"marker\": {\"color\": \"#17BECF\"}, \"name\": \"municipal_drinking\", \"offsetgroup\": \"municipal_drinking\", \"orientation\": \"v\", \"showlegend\": true, \"textposition\": \"auto\", \"type\": \"bar\", \"x\": [\"kbhdp\", \"emwd\", \"irwin\"], \"xaxis\": \"x\", \"y\": [0.617403875707896, 0.469959733350483, 0.3680718811933168], \"yaxis\": \"y\"}, {\"alignmentgroup\": \"True\", \"hovertemplate\": \"Unit Process Name=surface_discharge<br>Case Study=%{x}<br>Annual O&M Costs ($MM/yr)=%{y}<extra></extra>\", \"legendgroup\": \"surface_discharge\", \"marker\": {\"color\": \"#1F77B4\"}, \"name\": \"surface_discharge\", \"offsetgroup\": \"surface_discharge\", \"orientation\": \"v\", \"showlegend\": true, \"textposition\": \"auto\", \"type\": \"bar\", \"x\": [\"kbhdp\", \"emwd\"], \"xaxis\": \"x\", \"y\": [0.0004031233129876, 0.0212062759653951], \"yaxis\": \"y\"}, {\"alignmentgroup\": \"True\", \"hovertemplate\": \"Unit Process Name=iron_and_manganese_removal<br>Case Study=%{x}<br>Annual O&M Costs ($MM/yr)=%{y}<extra></extra>\", \"legendgroup\": \"iron_and_manganese_removal\", \"marker\": {\"color\": \"#FF7F0E\"}, \"name\": \"iron_and_manganese_removal\", \"offsetgroup\": \"iron_and_manganese_removal\", \"orientation\": \"v\", \"showlegend\": true, \"textposition\": \"auto\", \"type\": \"bar\", \"x\": [\"emwd\"], \"xaxis\": \"x\", \"y\": [0.6529105471463185], \"yaxis\": \"y\"}, {\"alignmentgroup\": \"True\", \"hovertemplate\": \"Unit Process Name=cartridge_filtration_a<br>Case Study=%{x}<br>Annual O&M Costs ($MM/yr)=%{y}<extra></extra>\", \"legendgroup\": \"cartridge_filtration_a\", \"marker\": {\"color\": \"#2CA02C\"}, \"name\": \"cartridge_filtration_a\", \"offsetgroup\": \"cartridge_filtration_a\", \"orientation\": \"v\", \"showlegend\": true, \"textposition\": \"auto\", \"type\": \"bar\", \"x\": [\"emwd\"], \"xaxis\": \"x\", \"y\": [0.0053036637916908], \"yaxis\": \"y\"}, {\"alignmentgroup\": \"True\", \"hovertemplate\": \"Unit Process Name=ro_a1<br>Case Study=%{x}<br>Annual O&M Costs ($MM/yr)=%{y}<extra></extra>\", \"legendgroup\": \"ro_a1\", \"marker\": {\"color\": \"#D62728\"}, \"name\": \"ro_a1\", \"offsetgroup\": \"ro_a1\", \"orientation\": \"v\", \"showlegend\": true, \"textposition\": \"auto\", \"type\": \"bar\", \"x\": [\"emwd\"], \"xaxis\": \"x\", \"y\": [0.0262057475454784], \"yaxis\": \"y\"}, {\"alignmentgroup\": \"True\", \"hovertemplate\": \"Unit Process Name=ro_a2<br>Case Study=%{x}<br>Annual O&M Costs ($MM/yr)=%{y}<extra></extra>\", \"legendgroup\": \"ro_a2\", \"marker\": {\"color\": \"#9467BD\"}, \"name\": \"ro_a2\", \"offsetgroup\": \"ro_a2\", \"orientation\": \"v\", \"showlegend\": true, \"textposition\": \"auto\", \"type\": \"bar\", \"x\": [\"emwd\"], \"xaxis\": \"x\", \"y\": [0.0262057475454784], \"yaxis\": \"y\"}, {\"alignmentgroup\": \"True\", \"hovertemplate\": \"Unit Process Name=decarbonator_a<br>Case Study=%{x}<br>Annual O&M Costs ($MM/yr)=%{y}<extra></extra>\", \"legendgroup\": \"decarbonator_a\", \"marker\": {\"color\": \"#8C564B\"}, \"name\": \"decarbonator_a\", \"offsetgroup\": \"decarbonator_a\", \"orientation\": \"v\", \"showlegend\": true, \"textposition\": \"auto\", \"type\": \"bar\", \"x\": [\"emwd\"], \"xaxis\": \"x\", \"y\": [0.0003133064861727], \"yaxis\": \"y\"}, {\"alignmentgroup\": \"True\", \"hovertemplate\": \"Unit Process Name=cartridge_filtration_b<br>Case Study=%{x}<br>Annual O&M Costs ($MM/yr)=%{y}<extra></extra>\", \"legendgroup\": \"cartridge_filtration_b\", \"marker\": {\"color\": \"#E377C2\"}, \"name\": \"cartridge_filtration_b\", \"offsetgroup\": \"cartridge_filtration_b\", \"orientation\": \"v\", \"showlegend\": true, \"textposition\": \"auto\", \"type\": \"bar\", \"x\": [\"emwd\"], \"xaxis\": \"x\", \"y\": [0.025071289366405], \"yaxis\": \"y\"}, {\"alignmentgroup\": \"True\", \"hovertemplate\": \"Unit Process Name=ro_b1<br>Case Study=%{x}<br>Annual O&M Costs ($MM/yr)=%{y}<extra></extra>\", \"legendgroup\": \"ro_b1\", \"marker\": {\"color\": \"#7F7F7F\"}, \"name\": \"ro_b1\", \"offsetgroup\": \"ro_b1\", \"orientation\": \"v\", \"showlegend\": true, \"textposition\": \"auto\", \"type\": \"bar\", \"x\": [\"emwd\"], \"xaxis\": \"x\", \"y\": [0.3709743629564376], \"yaxis\": \"y\"}, {\"alignmentgroup\": \"True\", \"hovertemplate\": \"Unit Process Name=ro_b2<br>Case Study=%{x}<br>Annual O&M Costs ($MM/yr)=%{y}<extra></extra>\", \"legendgroup\": \"ro_b2\", \"marker\": {\"color\": \"#BCBD22\"}, \"name\": \"ro_b2\", \"offsetgroup\": \"ro_b2\", \"orientation\": \"v\", \"showlegend\": true, \"textposition\": \"auto\", \"type\": \"bar\", \"x\": [\"emwd\"], \"xaxis\": \"x\", \"y\": [0.3709743629564376], \"yaxis\": \"y\"}, {\"alignmentgroup\": \"True\", \"hovertemplate\": \"Unit Process Name=decarbonator_b<br>Case Study=%{x}<br>Annual O&M Costs ($MM/yr)=%{y}<extra></extra>\", \"legendgroup\": \"decarbonator_b\", \"marker\": {\"color\": \"#17BECF\"}, \"name\": \"decarbonator_b\", \"offsetgroup\": \"decarbonator_b\", \"orientation\": \"v\", \"showlegend\": true, \"textposition\": \"auto\", \"type\": \"bar\", \"x\": [\"emwd\"], \"xaxis\": \"x\", \"y\": [0.0011790975929467], \"yaxis\": \"y\"}, {\"alignmentgroup\": \"True\", \"hovertemplate\": \"Unit Process Name=onsite_storage<br>Case Study=%{x}<br>Annual O&M Costs ($MM/yr)=%{y}<extra></extra>\", \"legendgroup\": \"onsite_storage\", \"marker\": {\"color\": \"#1F77B4\"}, \"name\": \"onsite_storage\", \"offsetgroup\": \"onsite_storage\", \"orientation\": \"v\", \"showlegend\": true, \"textposition\": \"auto\", \"type\": \"bar\", \"x\": [\"irwin\"], \"xaxis\": \"x\", \"y\": [0.1284508566702211], \"yaxis\": \"y\"}, {\"alignmentgroup\": \"True\", \"hovertemplate\": \"Unit Process Name=hydrochloric_acid_addition<br>Case Study=%{x}<br>Annual O&M Costs ($MM/yr)=%{y}<extra></extra>\", \"legendgroup\": \"hydrochloric_acid_addition\", \"marker\": {\"color\": \"#FF7F0E\"}, \"name\": \"hydrochloric_acid_addition\", \"offsetgroup\": \"hydrochloric_acid_addition\", \"orientation\": \"v\", \"showlegend\": true, \"textposition\": \"auto\", \"type\": \"bar\", \"x\": [\"irwin\"], \"xaxis\": \"x\", \"y\": [0.0232203835714216], \"yaxis\": \"y\"}, {\"alignmentgroup\": \"True\", \"hovertemplate\": \"Unit Process Name=sodium_bisulfite_addition<br>Case Study=%{x}<br>Annual O&M Costs ($MM/yr)=%{y}<extra></extra>\", \"legendgroup\": \"sodium_bisulfite_addition\", \"marker\": {\"color\": \"#2CA02C\"}, \"name\": \"sodium_bisulfite_addition\", \"offsetgroup\": \"sodium_bisulfite_addition\", \"orientation\": \"v\", \"showlegend\": true, \"textposition\": \"auto\", \"type\": \"bar\", \"x\": [\"irwin\"], \"xaxis\": \"x\", \"y\": [0.0479897453057188], \"yaxis\": \"y\"}, {\"alignmentgroup\": \"True\", \"hovertemplate\": \"Unit Process Name=electrodialysis_reversal<br>Case Study=%{x}<br>Annual O&M Costs ($MM/yr)=%{y}<extra></extra>\", \"legendgroup\": \"electrodialysis_reversal\", \"marker\": {\"color\": \"#D62728\"}, \"name\": \"electrodialysis_reversal\", \"offsetgroup\": \"electrodialysis_reversal\", \"orientation\": \"v\", \"showlegend\": true, \"textposition\": \"auto\", \"type\": \"bar\", \"x\": [\"irwin\"], \"xaxis\": \"x\", \"y\": [0.8611715442286143], \"yaxis\": \"y\"}, {\"alignmentgroup\": \"True\", \"hovertemplate\": \"Unit Process Name=water_pumping_station<br>Case Study=%{x}<br>Annual O&M Costs ($MM/yr)=%{y}<extra></extra>\", \"legendgroup\": \"water_pumping_station\", \"marker\": {\"color\": \"#9467BD\"}, \"name\": \"water_pumping_station\", \"offsetgroup\": \"water_pumping_station\", \"orientation\": \"v\", \"showlegend\": true, \"textposition\": \"auto\", \"type\": \"bar\", \"x\": [\"irwin\"], \"xaxis\": \"x\", \"y\": [0.0012691549844348], \"yaxis\": \"y\"}, {\"alignmentgroup\": \"True\", \"hovertemplate\": \"Unit Process Name=lime_softening<br>Case Study=%{x}<br>Annual O&M Costs ($MM/yr)=%{y}<extra></extra>\", \"legendgroup\": \"lime_softening\", \"marker\": {\"color\": \"#8C564B\"}, \"name\": \"lime_softening\", \"offsetgroup\": \"lime_softening\", \"orientation\": \"v\", \"showlegend\": true, \"textposition\": \"auto\", \"type\": \"bar\", \"x\": [\"irwin\"], \"xaxis\": \"x\", \"y\": [0.0315778944981902], \"yaxis\": \"y\"}, {\"alignmentgroup\": \"True\", \"hovertemplate\": \"Unit Process Name=microfiltration<br>Case Study=%{x}<br>Annual O&M Costs ($MM/yr)=%{y}<extra></extra>\", \"legendgroup\": \"microfiltration\", \"marker\": {\"color\": \"#E377C2\"}, \"name\": \"microfiltration\", \"offsetgroup\": \"microfiltration\", \"orientation\": \"v\", \"showlegend\": true, \"textposition\": \"auto\", \"type\": \"bar\", \"x\": [\"irwin\"], \"xaxis\": \"x\", \"y\": [0.0582229890440754], \"yaxis\": \"y\"}, {\"alignmentgroup\": \"True\", \"hovertemplate\": \"Unit Process Name=reverse_osmosis<br>Case Study=%{x}<br>Annual O&M Costs ($MM/yr)=%{y}<extra></extra>\", \"legendgroup\": \"reverse_osmosis\", \"marker\": {\"color\": \"#7F7F7F\"}, \"name\": \"reverse_osmosis\", \"offsetgroup\": \"reverse_osmosis\", \"orientation\": \"v\", \"showlegend\": true, \"textposition\": \"auto\", \"type\": \"bar\", \"x\": [\"irwin\"], \"xaxis\": \"x\", \"y\": [0.094890193616943], \"yaxis\": \"y\"}, {\"alignmentgroup\": \"True\", \"hovertemplate\": \"Unit Process Name=irwin_brine_management<br>Case Study=%{x}<br>Annual O&M Costs ($MM/yr)=%{y}<extra></extra>\", \"legendgroup\": \"irwin_brine_management\", \"marker\": {\"color\": \"#BCBD22\"}, \"name\": \"irwin_brine_management\", \"offsetgroup\": \"irwin_brine_management\", \"orientation\": \"v\", \"showlegend\": true, \"textposition\": \"auto\", \"type\": \"bar\", \"x\": [\"irwin\"], \"xaxis\": \"x\", \"y\": [1.209867661174994], \"yaxis\": \"y\"}],                        {\"barmode\": \"relative\", \"legend\": {\"title\": {\"text\": \"Unit Process Name\"}, \"tracegroupgap\": 0}, \"margin\": {\"t\": 60}, \"template\": {\"data\": {\"bar\": [{\"error_x\": {\"color\": \"rgb(36,36,36)\"}, \"error_y\": {\"color\": \"rgb(36,36,36)\"}, \"marker\": {\"line\": {\"color\": \"white\", \"width\": 0.5}}, \"type\": \"bar\"}], \"barpolar\": [{\"marker\": {\"line\": {\"color\": \"white\", \"width\": 0.5}}, \"type\": \"barpolar\"}], \"carpet\": [{\"aaxis\": {\"endlinecolor\": \"rgb(36,36,36)\", \"gridcolor\": \"white\", \"linecolor\": \"white\", \"minorgridcolor\": \"white\", \"startlinecolor\": \"rgb(36,36,36)\"}, \"baxis\": {\"endlinecolor\": \"rgb(36,36,36)\", \"gridcolor\": \"white\", \"linecolor\": \"white\", \"minorgridcolor\": \"white\", \"startlinecolor\": \"rgb(36,36,36)\"}, \"type\": \"carpet\"}], \"choropleth\": [{\"colorbar\": {\"outlinewidth\": 1, \"tickcolor\": \"rgb(36,36,36)\", \"ticks\": \"outside\"}, \"type\": \"choropleth\"}], \"contour\": [{\"colorbar\": {\"outlinewidth\": 1, \"tickcolor\": \"rgb(36,36,36)\", \"ticks\": \"outside\"}, \"colorscale\": [[0.0, \"#440154\"], [0.1111111111111111, \"#482878\"], [0.2222222222222222, \"#3e4989\"], [0.3333333333333333, \"#31688e\"], [0.4444444444444444, \"#26828e\"], [0.5555555555555556, \"#1f9e89\"], [0.6666666666666666, \"#35b779\"], [0.7777777777777778, \"#6ece58\"], [0.8888888888888888, \"#b5de2b\"], [1.0, \"#fde725\"]], \"type\": \"contour\"}], \"contourcarpet\": [{\"colorbar\": {\"outlinewidth\": 1, \"tickcolor\": \"rgb(36,36,36)\", \"ticks\": \"outside\"}, \"type\": \"contourcarpet\"}], \"heatmap\": [{\"colorbar\": {\"outlinewidth\": 1, \"tickcolor\": \"rgb(36,36,36)\", \"ticks\": \"outside\"}, \"colorscale\": [[0.0, \"#440154\"], [0.1111111111111111, \"#482878\"], [0.2222222222222222, \"#3e4989\"], [0.3333333333333333, \"#31688e\"], [0.4444444444444444, \"#26828e\"], [0.5555555555555556, \"#1f9e89\"], [0.6666666666666666, \"#35b779\"], [0.7777777777777778, \"#6ece58\"], [0.8888888888888888, \"#b5de2b\"], [1.0, \"#fde725\"]], \"type\": \"heatmap\"}], \"heatmapgl\": [{\"colorbar\": {\"outlinewidth\": 1, \"tickcolor\": \"rgb(36,36,36)\", \"ticks\": \"outside\"}, \"colorscale\": [[0.0, \"#440154\"], [0.1111111111111111, \"#482878\"], [0.2222222222222222, \"#3e4989\"], [0.3333333333333333, \"#31688e\"], [0.4444444444444444, \"#26828e\"], [0.5555555555555556, \"#1f9e89\"], [0.6666666666666666, \"#35b779\"], [0.7777777777777778, \"#6ece58\"], [0.8888888888888888, \"#b5de2b\"], [1.0, \"#fde725\"]], \"type\": \"heatmapgl\"}], \"histogram\": [{\"marker\": {\"line\": {\"color\": \"white\", \"width\": 0.6}}, \"type\": \"histogram\"}], \"histogram2d\": [{\"colorbar\": {\"outlinewidth\": 1, \"tickcolor\": \"rgb(36,36,36)\", \"ticks\": \"outside\"}, \"colorscale\": [[0.0, \"#440154\"], [0.1111111111111111, \"#482878\"], [0.2222222222222222, \"#3e4989\"], [0.3333333333333333, \"#31688e\"], [0.4444444444444444, \"#26828e\"], [0.5555555555555556, \"#1f9e89\"], [0.6666666666666666, \"#35b779\"], [0.7777777777777778, \"#6ece58\"], [0.8888888888888888, \"#b5de2b\"], [1.0, \"#fde725\"]], \"type\": \"histogram2d\"}], \"histogram2dcontour\": [{\"colorbar\": {\"outlinewidth\": 1, \"tickcolor\": \"rgb(36,36,36)\", \"ticks\": \"outside\"}, \"colorscale\": [[0.0, \"#440154\"], [0.1111111111111111, \"#482878\"], [0.2222222222222222, \"#3e4989\"], [0.3333333333333333, \"#31688e\"], [0.4444444444444444, \"#26828e\"], [0.5555555555555556, \"#1f9e89\"], [0.6666666666666666, \"#35b779\"], [0.7777777777777778, \"#6ece58\"], [0.8888888888888888, \"#b5de2b\"], [1.0, \"#fde725\"]], \"type\": \"histogram2dcontour\"}], \"mesh3d\": [{\"colorbar\": {\"outlinewidth\": 1, \"tickcolor\": \"rgb(36,36,36)\", \"ticks\": \"outside\"}, \"type\": \"mesh3d\"}], \"parcoords\": [{\"line\": {\"colorbar\": {\"outlinewidth\": 1, \"tickcolor\": \"rgb(36,36,36)\", \"ticks\": \"outside\"}}, \"type\": \"parcoords\"}], \"pie\": [{\"automargin\": true, \"type\": \"pie\"}], \"scatter\": [{\"marker\": {\"colorbar\": {\"outlinewidth\": 1, \"tickcolor\": \"rgb(36,36,36)\", \"ticks\": \"outside\"}}, \"type\": \"scatter\"}], \"scatter3d\": [{\"line\": {\"colorbar\": {\"outlinewidth\": 1, \"tickcolor\": \"rgb(36,36,36)\", \"ticks\": \"outside\"}}, \"marker\": {\"colorbar\": {\"outlinewidth\": 1, \"tickcolor\": \"rgb(36,36,36)\", \"ticks\": \"outside\"}}, \"type\": \"scatter3d\"}], \"scattercarpet\": [{\"marker\": {\"colorbar\": {\"outlinewidth\": 1, \"tickcolor\": \"rgb(36,36,36)\", \"ticks\": \"outside\"}}, \"type\": \"scattercarpet\"}], \"scattergeo\": [{\"marker\": {\"colorbar\": {\"outlinewidth\": 1, \"tickcolor\": \"rgb(36,36,36)\", \"ticks\": \"outside\"}}, \"type\": \"scattergeo\"}], \"scattergl\": [{\"marker\": {\"colorbar\": {\"outlinewidth\": 1, \"tickcolor\": \"rgb(36,36,36)\", \"ticks\": \"outside\"}}, \"type\": \"scattergl\"}], \"scattermapbox\": [{\"marker\": {\"colorbar\": {\"outlinewidth\": 1, \"tickcolor\": \"rgb(36,36,36)\", \"ticks\": \"outside\"}}, \"type\": \"scattermapbox\"}], \"scatterpolar\": [{\"marker\": {\"colorbar\": {\"outlinewidth\": 1, \"tickcolor\": \"rgb(36,36,36)\", \"ticks\": \"outside\"}}, \"type\": \"scatterpolar\"}], \"scatterpolargl\": [{\"marker\": {\"colorbar\": {\"outlinewidth\": 1, \"tickcolor\": \"rgb(36,36,36)\", \"ticks\": \"outside\"}}, \"type\": \"scatterpolargl\"}], \"scatterternary\": [{\"marker\": {\"colorbar\": {\"outlinewidth\": 1, \"tickcolor\": \"rgb(36,36,36)\", \"ticks\": \"outside\"}}, \"type\": \"scatterternary\"}], \"surface\": [{\"colorbar\": {\"outlinewidth\": 1, \"tickcolor\": \"rgb(36,36,36)\", \"ticks\": \"outside\"}, \"colorscale\": [[0.0, \"#440154\"], [0.1111111111111111, \"#482878\"], [0.2222222222222222, \"#3e4989\"], [0.3333333333333333, \"#31688e\"], [0.4444444444444444, \"#26828e\"], [0.5555555555555556, \"#1f9e89\"], [0.6666666666666666, \"#35b779\"], [0.7777777777777778, \"#6ece58\"], [0.8888888888888888, \"#b5de2b\"], [1.0, \"#fde725\"]], \"type\": \"surface\"}], \"table\": [{\"cells\": {\"fill\": {\"color\": \"rgb(237,237,237)\"}, \"line\": {\"color\": \"white\"}}, \"header\": {\"fill\": {\"color\": \"rgb(217,217,217)\"}, \"line\": {\"color\": \"white\"}}, \"type\": \"table\"}]}, \"layout\": {\"annotationdefaults\": {\"arrowhead\": 0, \"arrowwidth\": 1}, \"autotypenumbers\": \"strict\", \"coloraxis\": {\"colorbar\": {\"outlinewidth\": 1, \"tickcolor\": \"rgb(36,36,36)\", \"ticks\": \"outside\"}}, \"colorscale\": {\"diverging\": [[0.0, \"rgb(103,0,31)\"], [0.1, \"rgb(178,24,43)\"], [0.2, \"rgb(214,96,77)\"], [0.3, \"rgb(244,165,130)\"], [0.4, \"rgb(253,219,199)\"], [0.5, \"rgb(247,247,247)\"], [0.6, \"rgb(209,229,240)\"], [0.7, \"rgb(146,197,222)\"], [0.8, \"rgb(67,147,195)\"], [0.9, \"rgb(33,102,172)\"], [1.0, \"rgb(5,48,97)\"]], \"sequential\": [[0.0, \"#440154\"], [0.1111111111111111, \"#482878\"], [0.2222222222222222, \"#3e4989\"], [0.3333333333333333, \"#31688e\"], [0.4444444444444444, \"#26828e\"], [0.5555555555555556, \"#1f9e89\"], [0.6666666666666666, \"#35b779\"], [0.7777777777777778, \"#6ece58\"], [0.8888888888888888, \"#b5de2b\"], [1.0, \"#fde725\"]], \"sequentialminus\": [[0.0, \"#440154\"], [0.1111111111111111, \"#482878\"], [0.2222222222222222, \"#3e4989\"], [0.3333333333333333, \"#31688e\"], [0.4444444444444444, \"#26828e\"], [0.5555555555555556, \"#1f9e89\"], [0.6666666666666666, \"#35b779\"], [0.7777777777777778, \"#6ece58\"], [0.8888888888888888, \"#b5de2b\"], [1.0, \"#fde725\"]]}, \"colorway\": [\"#1F77B4\", \"#FF7F0E\", \"#2CA02C\", \"#D62728\", \"#9467BD\", \"#8C564B\", \"#E377C2\", \"#7F7F7F\", \"#BCBD22\", \"#17BECF\"], \"font\": {\"color\": \"rgb(36,36,36)\"}, \"geo\": {\"bgcolor\": \"white\", \"lakecolor\": \"white\", \"landcolor\": \"white\", \"showlakes\": true, \"showland\": true, \"subunitcolor\": \"white\"}, \"hoverlabel\": {\"align\": \"left\"}, \"hovermode\": \"closest\", \"mapbox\": {\"style\": \"light\"}, \"paper_bgcolor\": \"white\", \"plot_bgcolor\": \"white\", \"polar\": {\"angularaxis\": {\"gridcolor\": \"rgb(232,232,232)\", \"linecolor\": \"rgb(36,36,36)\", \"showgrid\": false, \"showline\": true, \"ticks\": \"outside\"}, \"bgcolor\": \"white\", \"radialaxis\": {\"gridcolor\": \"rgb(232,232,232)\", \"linecolor\": \"rgb(36,36,36)\", \"showgrid\": false, \"showline\": true, \"ticks\": \"outside\"}}, \"scene\": {\"xaxis\": {\"backgroundcolor\": \"white\", \"gridcolor\": \"rgb(232,232,232)\", \"gridwidth\": 2, \"linecolor\": \"rgb(36,36,36)\", \"showbackground\": true, \"showgrid\": false, \"showline\": true, \"ticks\": \"outside\", \"zeroline\": false, \"zerolinecolor\": \"rgb(36,36,36)\"}, \"yaxis\": {\"backgroundcolor\": \"white\", \"gridcolor\": \"rgb(232,232,232)\", \"gridwidth\": 2, \"linecolor\": \"rgb(36,36,36)\", \"showbackground\": true, \"showgrid\": false, \"showline\": true, \"ticks\": \"outside\", \"zeroline\": false, \"zerolinecolor\": \"rgb(36,36,36)\"}, \"zaxis\": {\"backgroundcolor\": \"white\", \"gridcolor\": \"rgb(232,232,232)\", \"gridwidth\": 2, \"linecolor\": \"rgb(36,36,36)\", \"showbackground\": true, \"showgrid\": false, \"showline\": true, \"ticks\": \"outside\", \"zeroline\": false, \"zerolinecolor\": \"rgb(36,36,36)\"}}, \"shapedefaults\": {\"fillcolor\": \"black\", \"line\": {\"width\": 0}, \"opacity\": 0.3}, \"ternary\": {\"aaxis\": {\"gridcolor\": \"rgb(232,232,232)\", \"linecolor\": \"rgb(36,36,36)\", \"showgrid\": false, \"showline\": true, \"ticks\": \"outside\"}, \"baxis\": {\"gridcolor\": \"rgb(232,232,232)\", \"linecolor\": \"rgb(36,36,36)\", \"showgrid\": false, \"showline\": true, \"ticks\": \"outside\"}, \"bgcolor\": \"white\", \"caxis\": {\"gridcolor\": \"rgb(232,232,232)\", \"linecolor\": \"rgb(36,36,36)\", \"showgrid\": false, \"showline\": true, \"ticks\": \"outside\"}}, \"title\": {\"x\": 0.05}, \"xaxis\": {\"automargin\": true, \"gridcolor\": \"rgb(232,232,232)\", \"linecolor\": \"rgb(36,36,36)\", \"showgrid\": false, \"showline\": true, \"ticks\": \"outside\", \"title\": {\"standoff\": 15}, \"zeroline\": false, \"zerolinecolor\": \"rgb(36,36,36)\"}, \"yaxis\": {\"automargin\": true, \"gridcolor\": \"rgb(232,232,232)\", \"linecolor\": \"rgb(36,36,36)\", \"showgrid\": false, \"showline\": true, \"ticks\": \"outside\", \"title\": {\"standoff\": 15}, \"zeroline\": false, \"zerolinecolor\": \"rgb(36,36,36)\"}}}, \"xaxis\": {\"anchor\": \"y\", \"domain\": [0.0, 1.0], \"title\": {\"text\": \"Case Study\"}}, \"yaxis\": {\"anchor\": \"x\", \"domain\": [0.0, 1.0], \"title\": {\"text\": \"Annual O&M Costs ($MM/yr)\"}}},                        {\"responsive\": true}                    ).then(function(){\n",
       "                            \n",
       "var gd = document.getElementById('494ffe29-c3b2-4609-ab0c-6e424e4a9008');\n",
       "var x = new MutationObserver(function (mutations, observer) {{\n",
       "        var display = window.getComputedStyle(gd).display;\n",
       "        if (!display || display === 'none') {{\n",
       "            console.log([gd, 'removed!']);\n",
       "            Plotly.purge(gd);\n",
       "            observer.disconnect();\n",
       "        }}\n",
       "}});\n",
       "\n",
       "// Listen for the removal of the full notebook cells\n",
       "var notebookContainer = gd.closest('#notebook-container');\n",
       "if (notebookContainer) {{\n",
       "    x.observe(notebookContainer, {childList: true});\n",
       "}}\n",
       "\n",
       "// Listen for the clearing of the current output cell\n",
       "var outputEl = gd.closest('.output');\n",
       "if (outputEl) {{\n",
       "    x.observe(outputEl, {childList: true});\n",
       "}}\n",
       "\n",
       "                        })                };                });            </script>        </div>"
      ]
     },
     "metadata": {},
     "output_type": "display_data"
    }
   ],
   "source": [
    "fig = px.bar(sys_df, x=\"Case Study\", y=\"Value\", color=\"Unit Process Name\",\n",
    "              labels={\"Variable\": \"\",  \"Value\": \"Annual O&M Costs ($MM/yr)\"},\n",
    "            template=\"simple_white\")\n",
    "fig.show()"
   ]
  },
  {
   "cell_type": "code",
   "execution_count": 23,
   "metadata": {},
   "outputs": [],
   "source": [
    "sys_df = df[df[\"Unit Process Name\"] != \"System\"]\n",
    "sys_df = sys_df[sys_df[\"Variable\"] == \"Electricity Intensity System Treated\"]"
   ]
  },
  {
   "cell_type": "code",
   "execution_count": 24,
   "metadata": {},
   "outputs": [
    {
     "data": {
      "application/vnd.plotly.v1+json": {
       "config": {
        "plotlyServerURL": "https://plot.ly"
       },
       "data": [
        {
         "alignmentgroup": "True",
         "hovertemplate": "Unit Process Name=well_field<br>Case Study=%{x}<br>Electricity Intensity kwh/m3 of Treated Water=%{y}<extra></extra>",
         "legendgroup": "well_field",
         "marker": {
          "color": "#1F77B4"
         },
         "name": "well_field",
         "offsetgroup": "well_field",
         "orientation": "v",
         "showlegend": true,
         "textposition": "auto",
         "type": "bar",
         "x": [
          "kbhdp",
          "emwd",
          "irwin"
         ],
         "xaxis": "x",
         "y": [
          0,
          0,
          0
         ],
         "yaxis": "y"
        },
        {
         "alignmentgroup": "True",
         "hovertemplate": "Unit Process Name=media_filtration<br>Case Study=%{x}<br>Electricity Intensity kwh/m3 of Treated Water=%{y}<extra></extra>",
         "legendgroup": "media_filtration",
         "marker": {
          "color": "#FF7F0E"
         },
         "name": "media_filtration",
         "offsetgroup": "media_filtration",
         "orientation": "v",
         "showlegend": true,
         "textposition": "auto",
         "type": "bar",
         "x": [
          "kbhdp",
          "irwin"
         ],
         "xaxis": "x",
         "y": [
          0,
          0
         ],
         "yaxis": "y"
        },
        {
         "alignmentgroup": "True",
         "hovertemplate": "Unit Process Name=anti_scalant_addition<br>Case Study=%{x}<br>Electricity Intensity kwh/m3 of Treated Water=%{y}<extra></extra>",
         "legendgroup": "anti_scalant_addition",
         "marker": {
          "color": "#2CA02C"
         },
         "name": "anti_scalant_addition",
         "offsetgroup": "anti_scalant_addition",
         "orientation": "v",
         "showlegend": true,
         "textposition": "auto",
         "type": "bar",
         "x": [
          "kbhdp",
          "irwin"
         ],
         "xaxis": "x",
         "y": [
          3.666704400079692e-7,
          5.176247610657976e-7
         ],
         "yaxis": "y"
        },
        {
         "alignmentgroup": "True",
         "hovertemplate": "Unit Process Name=RO1<br>Case Study=%{x}<br>Electricity Intensity kwh/m3 of Treated Water=%{y}<extra></extra>",
         "legendgroup": "RO1",
         "marker": {
          "color": "#D62728"
         },
         "name": "RO1",
         "offsetgroup": "RO1",
         "orientation": "v",
         "showlegend": true,
         "textposition": "auto",
         "type": "bar",
         "x": [
          "kbhdp"
         ],
         "xaxis": "x",
         "y": [
          0.1672487272532118
         ],
         "yaxis": "y"
        },
        {
         "alignmentgroup": "True",
         "hovertemplate": "Unit Process Name=RO2<br>Case Study=%{x}<br>Electricity Intensity kwh/m3 of Treated Water=%{y}<extra></extra>",
         "legendgroup": "RO2",
         "marker": {
          "color": "#9467BD"
         },
         "name": "RO2",
         "offsetgroup": "RO2",
         "orientation": "v",
         "showlegend": true,
         "textposition": "auto",
         "type": "bar",
         "x": [
          "kbhdp"
         ],
         "xaxis": "x",
         "y": [
          0
         ],
         "yaxis": "y"
        },
        {
         "alignmentgroup": "True",
         "hovertemplate": "Unit Process Name=caustic_soda_addition<br>Case Study=%{x}<br>Electricity Intensity kwh/m3 of Treated Water=%{y}<extra></extra>",
         "legendgroup": "caustic_soda_addition",
         "marker": {
          "color": "#8C564B"
         },
         "name": "caustic_soda_addition",
         "offsetgroup": "caustic_soda_addition",
         "orientation": "v",
         "showlegend": true,
         "textposition": "auto",
         "type": "bar",
         "x": [
          "kbhdp"
         ],
         "xaxis": "x",
         "y": [
          0.000003991154119979245
         ],
         "yaxis": "y"
        },
        {
         "alignmentgroup": "True",
         "hovertemplate": "Unit Process Name=chlorination<br>Case Study=%{x}<br>Electricity Intensity kwh/m3 of Treated Water=%{y}<extra></extra>",
         "legendgroup": "chlorination",
         "marker": {
          "color": "#E377C2"
         },
         "name": "chlorination",
         "offsetgroup": "chlorination",
         "orientation": "v",
         "showlegend": true,
         "textposition": "auto",
         "type": "bar",
         "x": [
          "kbhdp",
          "emwd"
         ],
         "xaxis": "x",
         "y": [
          0.0000056907070413968985,
          0.000005690707041396898
         ],
         "yaxis": "y"
        },
        {
         "alignmentgroup": "True",
         "hovertemplate": "Unit Process Name=treated_storage<br>Case Study=%{x}<br>Electricity Intensity kwh/m3 of Treated Water=%{y}<extra></extra>",
         "legendgroup": "treated_storage",
         "marker": {
          "color": "#7F7F7F"
         },
         "name": "treated_storage",
         "offsetgroup": "treated_storage",
         "orientation": "v",
         "showlegend": true,
         "textposition": "auto",
         "type": "bar",
         "x": [
          "kbhdp",
          "emwd",
          "irwin"
         ],
         "xaxis": "x",
         "y": [
          0,
          0,
          0
         ],
         "yaxis": "y"
        },
        {
         "alignmentgroup": "True",
         "hovertemplate": "Unit Process Name=deep_well_injection<br>Case Study=%{x}<br>Electricity Intensity kwh/m3 of Treated Water=%{y}<extra></extra>",
         "legendgroup": "deep_well_injection",
         "marker": {
          "color": "#BCBD22"
         },
         "name": "deep_well_injection",
         "offsetgroup": "deep_well_injection",
         "orientation": "v",
         "showlegend": true,
         "textposition": "auto",
         "type": "bar",
         "x": [
          "kbhdp"
         ],
         "xaxis": "x",
         "y": [
          0.0838089804938091
         ],
         "yaxis": "y"
        },
        {
         "alignmentgroup": "True",
         "hovertemplate": "Unit Process Name=municipal_drinking<br>Case Study=%{x}<br>Electricity Intensity kwh/m3 of Treated Water=%{y}<extra></extra>",
         "legendgroup": "municipal_drinking",
         "marker": {
          "color": "#17BECF"
         },
         "name": "municipal_drinking",
         "offsetgroup": "municipal_drinking",
         "orientation": "v",
         "showlegend": true,
         "textposition": "auto",
         "type": "bar",
         "x": [
          "kbhdp",
          "emwd",
          "irwin"
         ],
         "xaxis": "x",
         "y": [
          0.3072266807974892,
          0.3072266807974891,
          0.307226680812719
         ],
         "yaxis": "y"
        },
        {
         "alignmentgroup": "True",
         "hovertemplate": "Unit Process Name=surface_discharge<br>Case Study=%{x}<br>Electricity Intensity kwh/m3 of Treated Water=%{y}<extra></extra>",
         "legendgroup": "surface_discharge",
         "marker": {
          "color": "#1F77B4"
         },
         "name": "surface_discharge",
         "offsetgroup": "surface_discharge",
         "orientation": "v",
         "showlegend": true,
         "textposition": "auto",
         "type": "bar",
         "x": [
          "kbhdp",
          "emwd"
         ],
         "xaxis": "x",
         "y": [
          0.00004570438322345548,
          0.0083034034647967
         ],
         "yaxis": "y"
        },
        {
         "alignmentgroup": "True",
         "hovertemplate": "Unit Process Name=iron_and_manganese_removal<br>Case Study=%{x}<br>Electricity Intensity kwh/m3 of Treated Water=%{y}<extra></extra>",
         "legendgroup": "iron_and_manganese_removal",
         "marker": {
          "color": "#FF7F0E"
         },
         "name": "iron_and_manganese_removal",
         "offsetgroup": "iron_and_manganese_removal",
         "orientation": "v",
         "showlegend": true,
         "textposition": "auto",
         "type": "bar",
         "x": [
          "emwd"
         ],
         "xaxis": "x",
         "y": [
          0.4106501332238368
         ],
         "yaxis": "y"
        },
        {
         "alignmentgroup": "True",
         "hovertemplate": "Unit Process Name=cartridge_filtration_a<br>Case Study=%{x}<br>Electricity Intensity kwh/m3 of Treated Water=%{y}<extra></extra>",
         "legendgroup": "cartridge_filtration_a",
         "marker": {
          "color": "#2CA02C"
         },
         "name": "cartridge_filtration_a",
         "offsetgroup": "cartridge_filtration_a",
         "orientation": "v",
         "showlegend": true,
         "textposition": "auto",
         "type": "bar",
         "x": [
          "emwd"
         ],
         "xaxis": "x",
         "y": [
          0
         ],
         "yaxis": "y"
        },
        {
         "alignmentgroup": "True",
         "hovertemplate": "Unit Process Name=ro_a1<br>Case Study=%{x}<br>Electricity Intensity kwh/m3 of Treated Water=%{y}<extra></extra>",
         "legendgroup": "ro_a1",
         "marker": {
          "color": "#D62728"
         },
         "name": "ro_a1",
         "offsetgroup": "ro_a1",
         "orientation": "v",
         "showlegend": true,
         "textposition": "auto",
         "type": "bar",
         "x": [
          "emwd"
         ],
         "xaxis": "x",
         "y": [
          0.0110610198746766
         ],
         "yaxis": "y"
        },
        {
         "alignmentgroup": "True",
         "hovertemplate": "Unit Process Name=ro_a2<br>Case Study=%{x}<br>Electricity Intensity kwh/m3 of Treated Water=%{y}<extra></extra>",
         "legendgroup": "ro_a2",
         "marker": {
          "color": "#9467BD"
         },
         "name": "ro_a2",
         "offsetgroup": "ro_a2",
         "orientation": "v",
         "showlegend": true,
         "textposition": "auto",
         "type": "bar",
         "x": [
          "emwd"
         ],
         "xaxis": "x",
         "y": [
          0.0110610198746766
         ],
         "yaxis": "y"
        },
        {
         "alignmentgroup": "True",
         "hovertemplate": "Unit Process Name=decarbonator_a<br>Case Study=%{x}<br>Electricity Intensity kwh/m3 of Treated Water=%{y}<extra></extra>",
         "legendgroup": "decarbonator_a",
         "marker": {
          "color": "#8C564B"
         },
         "name": "decarbonator_a",
         "offsetgroup": "decarbonator_a",
         "orientation": "v",
         "showlegend": true,
         "textposition": "auto",
         "type": "bar",
         "x": [
          "emwd"
         ],
         "xaxis": "x",
         "y": [
          0
         ],
         "yaxis": "y"
        },
        {
         "alignmentgroup": "True",
         "hovertemplate": "Unit Process Name=cartridge_filtration_b<br>Case Study=%{x}<br>Electricity Intensity kwh/m3 of Treated Water=%{y}<extra></extra>",
         "legendgroup": "cartridge_filtration_b",
         "marker": {
          "color": "#E377C2"
         },
         "name": "cartridge_filtration_b",
         "offsetgroup": "cartridge_filtration_b",
         "orientation": "v",
         "showlegend": true,
         "textposition": "auto",
         "type": "bar",
         "x": [
          "emwd"
         ],
         "xaxis": "x",
         "y": [
          0
         ],
         "yaxis": "y"
        },
        {
         "alignmentgroup": "True",
         "hovertemplate": "Unit Process Name=ro_b1<br>Case Study=%{x}<br>Electricity Intensity kwh/m3 of Treated Water=%{y}<extra></extra>",
         "legendgroup": "ro_b1",
         "marker": {
          "color": "#7F7F7F"
         },
         "name": "ro_b1",
         "offsetgroup": "ro_b1",
         "orientation": "v",
         "showlegend": true,
         "textposition": "auto",
         "type": "bar",
         "x": [
          "emwd"
         ],
         "xaxis": "x",
         "y": [
          0.156530190347697
         ],
         "yaxis": "y"
        },
        {
         "alignmentgroup": "True",
         "hovertemplate": "Unit Process Name=ro_b2<br>Case Study=%{x}<br>Electricity Intensity kwh/m3 of Treated Water=%{y}<extra></extra>",
         "legendgroup": "ro_b2",
         "marker": {
          "color": "#BCBD22"
         },
         "name": "ro_b2",
         "offsetgroup": "ro_b2",
         "orientation": "v",
         "showlegend": true,
         "textposition": "auto",
         "type": "bar",
         "x": [
          "emwd"
         ],
         "xaxis": "x",
         "y": [
          0.156530190347697
         ],
         "yaxis": "y"
        },
        {
         "alignmentgroup": "True",
         "hovertemplate": "Unit Process Name=decarbonator_b<br>Case Study=%{x}<br>Electricity Intensity kwh/m3 of Treated Water=%{y}<extra></extra>",
         "legendgroup": "decarbonator_b",
         "marker": {
          "color": "#17BECF"
         },
         "name": "decarbonator_b",
         "offsetgroup": "decarbonator_b",
         "orientation": "v",
         "showlegend": true,
         "textposition": "auto",
         "type": "bar",
         "x": [
          "emwd"
         ],
         "xaxis": "x",
         "y": [
          0
         ],
         "yaxis": "y"
        },
        {
         "alignmentgroup": "True",
         "hovertemplate": "Unit Process Name=onsite_storage<br>Case Study=%{x}<br>Electricity Intensity kwh/m3 of Treated Water=%{y}<extra></extra>",
         "legendgroup": "onsite_storage",
         "marker": {
          "color": "#1F77B4"
         },
         "name": "onsite_storage",
         "offsetgroup": "onsite_storage",
         "orientation": "v",
         "showlegend": true,
         "textposition": "auto",
         "type": "bar",
         "x": [
          "irwin"
         ],
         "xaxis": "x",
         "y": [
          0
         ],
         "yaxis": "y"
        },
        {
         "alignmentgroup": "True",
         "hovertemplate": "Unit Process Name=hydrochloric_acid_addition<br>Case Study=%{x}<br>Electricity Intensity kwh/m3 of Treated Water=%{y}<extra></extra>",
         "legendgroup": "hydrochloric_acid_addition",
         "marker": {
          "color": "#FF7F0E"
         },
         "name": "hydrochloric_acid_addition",
         "offsetgroup": "hydrochloric_acid_addition",
         "orientation": "v",
         "showlegend": true,
         "textposition": "auto",
         "type": "bar",
         "x": [
          "irwin"
         ],
         "xaxis": "x",
         "y": [
          7.094600478466761e-7
         ],
         "yaxis": "y"
        },
        {
         "alignmentgroup": "True",
         "hovertemplate": "Unit Process Name=sodium_bisulfite_addition<br>Case Study=%{x}<br>Electricity Intensity kwh/m3 of Treated Water=%{y}<extra></extra>",
         "legendgroup": "sodium_bisulfite_addition",
         "marker": {
          "color": "#2CA02C"
         },
         "name": "sodium_bisulfite_addition",
         "offsetgroup": "sodium_bisulfite_addition",
         "orientation": "v",
         "showlegend": true,
         "textposition": "auto",
         "type": "bar",
         "x": [
          "irwin"
         ],
         "xaxis": "x",
         "y": [
          7.141108536987324e-7
         ],
         "yaxis": "y"
        },
        {
         "alignmentgroup": "True",
         "hovertemplate": "Unit Process Name=electrodialysis_reversal<br>Case Study=%{x}<br>Electricity Intensity kwh/m3 of Treated Water=%{y}<extra></extra>",
         "legendgroup": "electrodialysis_reversal",
         "marker": {
          "color": "#D62728"
         },
         "name": "electrodialysis_reversal",
         "offsetgroup": "electrodialysis_reversal",
         "orientation": "v",
         "showlegend": true,
         "textposition": "auto",
         "type": "bar",
         "x": [
          "irwin"
         ],
         "xaxis": "x",
         "y": [
          0.3118516636487681
         ],
         "yaxis": "y"
        },
        {
         "alignmentgroup": "True",
         "hovertemplate": "Unit Process Name=water_pumping_station<br>Case Study=%{x}<br>Electricity Intensity kwh/m3 of Treated Water=%{y}<extra></extra>",
         "legendgroup": "water_pumping_station",
         "marker": {
          "color": "#9467BD"
         },
         "name": "water_pumping_station",
         "offsetgroup": "water_pumping_station",
         "orientation": "v",
         "showlegend": true,
         "textposition": "auto",
         "type": "bar",
         "x": [
          "irwin"
         ],
         "xaxis": "x",
         "y": [
          2.716648055186701e-8
         ],
         "yaxis": "y"
        },
        {
         "alignmentgroup": "True",
         "hovertemplate": "Unit Process Name=lime_softening<br>Case Study=%{x}<br>Electricity Intensity kwh/m3 of Treated Water=%{y}<extra></extra>",
         "legendgroup": "lime_softening",
         "marker": {
          "color": "#8C564B"
         },
         "name": "lime_softening",
         "offsetgroup": "lime_softening",
         "orientation": "v",
         "showlegend": true,
         "textposition": "auto",
         "type": "bar",
         "x": [
          "irwin"
         ],
         "xaxis": "x",
         "y": [
          4.5846077993428773e-7
         ],
         "yaxis": "y"
        },
        {
         "alignmentgroup": "True",
         "hovertemplate": "Unit Process Name=microfiltration<br>Case Study=%{x}<br>Electricity Intensity kwh/m3 of Treated Water=%{y}<extra></extra>",
         "legendgroup": "microfiltration",
         "marker": {
          "color": "#E377C2"
         },
         "name": "microfiltration",
         "offsetgroup": "microfiltration",
         "orientation": "v",
         "showlegend": true,
         "textposition": "auto",
         "type": "bar",
         "x": [
          "irwin"
         ],
         "xaxis": "x",
         "y": [
          0.0249263474866065
         ],
         "yaxis": "y"
        },
        {
         "alignmentgroup": "True",
         "hovertemplate": "Unit Process Name=reverse_osmosis<br>Case Study=%{x}<br>Electricity Intensity kwh/m3 of Treated Water=%{y}<extra></extra>",
         "legendgroup": "reverse_osmosis",
         "marker": {
          "color": "#7F7F7F"
         },
         "name": "reverse_osmosis",
         "offsetgroup": "reverse_osmosis",
         "orientation": "v",
         "showlegend": true,
         "textposition": "auto",
         "type": "bar",
         "x": [
          "irwin"
         ],
         "xaxis": "x",
         "y": [
          0.0478363880314651
         ],
         "yaxis": "y"
        },
        {
         "alignmentgroup": "True",
         "hovertemplate": "Unit Process Name=irwin_brine_management<br>Case Study=%{x}<br>Electricity Intensity kwh/m3 of Treated Water=%{y}<extra></extra>",
         "legendgroup": "irwin_brine_management",
         "marker": {
          "color": "#BCBD22"
         },
         "name": "irwin_brine_management",
         "offsetgroup": "irwin_brine_management",
         "orientation": "v",
         "showlegend": true,
         "textposition": "auto",
         "type": "bar",
         "x": [
          "irwin"
         ],
         "xaxis": "x",
         "y": [
          0
         ],
         "yaxis": "y"
        }
       ],
       "layout": {
        "barmode": "relative",
        "legend": {
         "title": {
          "text": "Unit Process Name"
         },
         "tracegroupgap": 0
        },
        "margin": {
         "t": 60
        },
        "template": {
         "data": {
          "bar": [
           {
            "error_x": {
             "color": "rgb(36,36,36)"
            },
            "error_y": {
             "color": "rgb(36,36,36)"
            },
            "marker": {
             "line": {
              "color": "white",
              "width": 0.5
             }
            },
            "type": "bar"
           }
          ],
          "barpolar": [
           {
            "marker": {
             "line": {
              "color": "white",
              "width": 0.5
             }
            },
            "type": "barpolar"
           }
          ],
          "carpet": [
           {
            "aaxis": {
             "endlinecolor": "rgb(36,36,36)",
             "gridcolor": "white",
             "linecolor": "white",
             "minorgridcolor": "white",
             "startlinecolor": "rgb(36,36,36)"
            },
            "baxis": {
             "endlinecolor": "rgb(36,36,36)",
             "gridcolor": "white",
             "linecolor": "white",
             "minorgridcolor": "white",
             "startlinecolor": "rgb(36,36,36)"
            },
            "type": "carpet"
           }
          ],
          "choropleth": [
           {
            "colorbar": {
             "outlinewidth": 1,
             "tickcolor": "rgb(36,36,36)",
             "ticks": "outside"
            },
            "type": "choropleth"
           }
          ],
          "contour": [
           {
            "colorbar": {
             "outlinewidth": 1,
             "tickcolor": "rgb(36,36,36)",
             "ticks": "outside"
            },
            "colorscale": [
             [
              0,
              "#440154"
             ],
             [
              0.1111111111111111,
              "#482878"
             ],
             [
              0.2222222222222222,
              "#3e4989"
             ],
             [
              0.3333333333333333,
              "#31688e"
             ],
             [
              0.4444444444444444,
              "#26828e"
             ],
             [
              0.5555555555555556,
              "#1f9e89"
             ],
             [
              0.6666666666666666,
              "#35b779"
             ],
             [
              0.7777777777777778,
              "#6ece58"
             ],
             [
              0.8888888888888888,
              "#b5de2b"
             ],
             [
              1,
              "#fde725"
             ]
            ],
            "type": "contour"
           }
          ],
          "contourcarpet": [
           {
            "colorbar": {
             "outlinewidth": 1,
             "tickcolor": "rgb(36,36,36)",
             "ticks": "outside"
            },
            "type": "contourcarpet"
           }
          ],
          "heatmap": [
           {
            "colorbar": {
             "outlinewidth": 1,
             "tickcolor": "rgb(36,36,36)",
             "ticks": "outside"
            },
            "colorscale": [
             [
              0,
              "#440154"
             ],
             [
              0.1111111111111111,
              "#482878"
             ],
             [
              0.2222222222222222,
              "#3e4989"
             ],
             [
              0.3333333333333333,
              "#31688e"
             ],
             [
              0.4444444444444444,
              "#26828e"
             ],
             [
              0.5555555555555556,
              "#1f9e89"
             ],
             [
              0.6666666666666666,
              "#35b779"
             ],
             [
              0.7777777777777778,
              "#6ece58"
             ],
             [
              0.8888888888888888,
              "#b5de2b"
             ],
             [
              1,
              "#fde725"
             ]
            ],
            "type": "heatmap"
           }
          ],
          "heatmapgl": [
           {
            "colorbar": {
             "outlinewidth": 1,
             "tickcolor": "rgb(36,36,36)",
             "ticks": "outside"
            },
            "colorscale": [
             [
              0,
              "#440154"
             ],
             [
              0.1111111111111111,
              "#482878"
             ],
             [
              0.2222222222222222,
              "#3e4989"
             ],
             [
              0.3333333333333333,
              "#31688e"
             ],
             [
              0.4444444444444444,
              "#26828e"
             ],
             [
              0.5555555555555556,
              "#1f9e89"
             ],
             [
              0.6666666666666666,
              "#35b779"
             ],
             [
              0.7777777777777778,
              "#6ece58"
             ],
             [
              0.8888888888888888,
              "#b5de2b"
             ],
             [
              1,
              "#fde725"
             ]
            ],
            "type": "heatmapgl"
           }
          ],
          "histogram": [
           {
            "marker": {
             "line": {
              "color": "white",
              "width": 0.6
             }
            },
            "type": "histogram"
           }
          ],
          "histogram2d": [
           {
            "colorbar": {
             "outlinewidth": 1,
             "tickcolor": "rgb(36,36,36)",
             "ticks": "outside"
            },
            "colorscale": [
             [
              0,
              "#440154"
             ],
             [
              0.1111111111111111,
              "#482878"
             ],
             [
              0.2222222222222222,
              "#3e4989"
             ],
             [
              0.3333333333333333,
              "#31688e"
             ],
             [
              0.4444444444444444,
              "#26828e"
             ],
             [
              0.5555555555555556,
              "#1f9e89"
             ],
             [
              0.6666666666666666,
              "#35b779"
             ],
             [
              0.7777777777777778,
              "#6ece58"
             ],
             [
              0.8888888888888888,
              "#b5de2b"
             ],
             [
              1,
              "#fde725"
             ]
            ],
            "type": "histogram2d"
           }
          ],
          "histogram2dcontour": [
           {
            "colorbar": {
             "outlinewidth": 1,
             "tickcolor": "rgb(36,36,36)",
             "ticks": "outside"
            },
            "colorscale": [
             [
              0,
              "#440154"
             ],
             [
              0.1111111111111111,
              "#482878"
             ],
             [
              0.2222222222222222,
              "#3e4989"
             ],
             [
              0.3333333333333333,
              "#31688e"
             ],
             [
              0.4444444444444444,
              "#26828e"
             ],
             [
              0.5555555555555556,
              "#1f9e89"
             ],
             [
              0.6666666666666666,
              "#35b779"
             ],
             [
              0.7777777777777778,
              "#6ece58"
             ],
             [
              0.8888888888888888,
              "#b5de2b"
             ],
             [
              1,
              "#fde725"
             ]
            ],
            "type": "histogram2dcontour"
           }
          ],
          "mesh3d": [
           {
            "colorbar": {
             "outlinewidth": 1,
             "tickcolor": "rgb(36,36,36)",
             "ticks": "outside"
            },
            "type": "mesh3d"
           }
          ],
          "parcoords": [
           {
            "line": {
             "colorbar": {
              "outlinewidth": 1,
              "tickcolor": "rgb(36,36,36)",
              "ticks": "outside"
             }
            },
            "type": "parcoords"
           }
          ],
          "pie": [
           {
            "automargin": true,
            "type": "pie"
           }
          ],
          "scatter": [
           {
            "marker": {
             "colorbar": {
              "outlinewidth": 1,
              "tickcolor": "rgb(36,36,36)",
              "ticks": "outside"
             }
            },
            "type": "scatter"
           }
          ],
          "scatter3d": [
           {
            "line": {
             "colorbar": {
              "outlinewidth": 1,
              "tickcolor": "rgb(36,36,36)",
              "ticks": "outside"
             }
            },
            "marker": {
             "colorbar": {
              "outlinewidth": 1,
              "tickcolor": "rgb(36,36,36)",
              "ticks": "outside"
             }
            },
            "type": "scatter3d"
           }
          ],
          "scattercarpet": [
           {
            "marker": {
             "colorbar": {
              "outlinewidth": 1,
              "tickcolor": "rgb(36,36,36)",
              "ticks": "outside"
             }
            },
            "type": "scattercarpet"
           }
          ],
          "scattergeo": [
           {
            "marker": {
             "colorbar": {
              "outlinewidth": 1,
              "tickcolor": "rgb(36,36,36)",
              "ticks": "outside"
             }
            },
            "type": "scattergeo"
           }
          ],
          "scattergl": [
           {
            "marker": {
             "colorbar": {
              "outlinewidth": 1,
              "tickcolor": "rgb(36,36,36)",
              "ticks": "outside"
             }
            },
            "type": "scattergl"
           }
          ],
          "scattermapbox": [
           {
            "marker": {
             "colorbar": {
              "outlinewidth": 1,
              "tickcolor": "rgb(36,36,36)",
              "ticks": "outside"
             }
            },
            "type": "scattermapbox"
           }
          ],
          "scatterpolar": [
           {
            "marker": {
             "colorbar": {
              "outlinewidth": 1,
              "tickcolor": "rgb(36,36,36)",
              "ticks": "outside"
             }
            },
            "type": "scatterpolar"
           }
          ],
          "scatterpolargl": [
           {
            "marker": {
             "colorbar": {
              "outlinewidth": 1,
              "tickcolor": "rgb(36,36,36)",
              "ticks": "outside"
             }
            },
            "type": "scatterpolargl"
           }
          ],
          "scatterternary": [
           {
            "marker": {
             "colorbar": {
              "outlinewidth": 1,
              "tickcolor": "rgb(36,36,36)",
              "ticks": "outside"
             }
            },
            "type": "scatterternary"
           }
          ],
          "surface": [
           {
            "colorbar": {
             "outlinewidth": 1,
             "tickcolor": "rgb(36,36,36)",
             "ticks": "outside"
            },
            "colorscale": [
             [
              0,
              "#440154"
             ],
             [
              0.1111111111111111,
              "#482878"
             ],
             [
              0.2222222222222222,
              "#3e4989"
             ],
             [
              0.3333333333333333,
              "#31688e"
             ],
             [
              0.4444444444444444,
              "#26828e"
             ],
             [
              0.5555555555555556,
              "#1f9e89"
             ],
             [
              0.6666666666666666,
              "#35b779"
             ],
             [
              0.7777777777777778,
              "#6ece58"
             ],
             [
              0.8888888888888888,
              "#b5de2b"
             ],
             [
              1,
              "#fde725"
             ]
            ],
            "type": "surface"
           }
          ],
          "table": [
           {
            "cells": {
             "fill": {
              "color": "rgb(237,237,237)"
             },
             "line": {
              "color": "white"
             }
            },
            "header": {
             "fill": {
              "color": "rgb(217,217,217)"
             },
             "line": {
              "color": "white"
             }
            },
            "type": "table"
           }
          ]
         },
         "layout": {
          "annotationdefaults": {
           "arrowhead": 0,
           "arrowwidth": 1
          },
          "autotypenumbers": "strict",
          "coloraxis": {
           "colorbar": {
            "outlinewidth": 1,
            "tickcolor": "rgb(36,36,36)",
            "ticks": "outside"
           }
          },
          "colorscale": {
           "diverging": [
            [
             0,
             "rgb(103,0,31)"
            ],
            [
             0.1,
             "rgb(178,24,43)"
            ],
            [
             0.2,
             "rgb(214,96,77)"
            ],
            [
             0.3,
             "rgb(244,165,130)"
            ],
            [
             0.4,
             "rgb(253,219,199)"
            ],
            [
             0.5,
             "rgb(247,247,247)"
            ],
            [
             0.6,
             "rgb(209,229,240)"
            ],
            [
             0.7,
             "rgb(146,197,222)"
            ],
            [
             0.8,
             "rgb(67,147,195)"
            ],
            [
             0.9,
             "rgb(33,102,172)"
            ],
            [
             1,
             "rgb(5,48,97)"
            ]
           ],
           "sequential": [
            [
             0,
             "#440154"
            ],
            [
             0.1111111111111111,
             "#482878"
            ],
            [
             0.2222222222222222,
             "#3e4989"
            ],
            [
             0.3333333333333333,
             "#31688e"
            ],
            [
             0.4444444444444444,
             "#26828e"
            ],
            [
             0.5555555555555556,
             "#1f9e89"
            ],
            [
             0.6666666666666666,
             "#35b779"
            ],
            [
             0.7777777777777778,
             "#6ece58"
            ],
            [
             0.8888888888888888,
             "#b5de2b"
            ],
            [
             1,
             "#fde725"
            ]
           ],
           "sequentialminus": [
            [
             0,
             "#440154"
            ],
            [
             0.1111111111111111,
             "#482878"
            ],
            [
             0.2222222222222222,
             "#3e4989"
            ],
            [
             0.3333333333333333,
             "#31688e"
            ],
            [
             0.4444444444444444,
             "#26828e"
            ],
            [
             0.5555555555555556,
             "#1f9e89"
            ],
            [
             0.6666666666666666,
             "#35b779"
            ],
            [
             0.7777777777777778,
             "#6ece58"
            ],
            [
             0.8888888888888888,
             "#b5de2b"
            ],
            [
             1,
             "#fde725"
            ]
           ]
          },
          "colorway": [
           "#1F77B4",
           "#FF7F0E",
           "#2CA02C",
           "#D62728",
           "#9467BD",
           "#8C564B",
           "#E377C2",
           "#7F7F7F",
           "#BCBD22",
           "#17BECF"
          ],
          "font": {
           "color": "rgb(36,36,36)"
          },
          "geo": {
           "bgcolor": "white",
           "lakecolor": "white",
           "landcolor": "white",
           "showlakes": true,
           "showland": true,
           "subunitcolor": "white"
          },
          "hoverlabel": {
           "align": "left"
          },
          "hovermode": "closest",
          "mapbox": {
           "style": "light"
          },
          "paper_bgcolor": "white",
          "plot_bgcolor": "white",
          "polar": {
           "angularaxis": {
            "gridcolor": "rgb(232,232,232)",
            "linecolor": "rgb(36,36,36)",
            "showgrid": false,
            "showline": true,
            "ticks": "outside"
           },
           "bgcolor": "white",
           "radialaxis": {
            "gridcolor": "rgb(232,232,232)",
            "linecolor": "rgb(36,36,36)",
            "showgrid": false,
            "showline": true,
            "ticks": "outside"
           }
          },
          "scene": {
           "xaxis": {
            "backgroundcolor": "white",
            "gridcolor": "rgb(232,232,232)",
            "gridwidth": 2,
            "linecolor": "rgb(36,36,36)",
            "showbackground": true,
            "showgrid": false,
            "showline": true,
            "ticks": "outside",
            "zeroline": false,
            "zerolinecolor": "rgb(36,36,36)"
           },
           "yaxis": {
            "backgroundcolor": "white",
            "gridcolor": "rgb(232,232,232)",
            "gridwidth": 2,
            "linecolor": "rgb(36,36,36)",
            "showbackground": true,
            "showgrid": false,
            "showline": true,
            "ticks": "outside",
            "zeroline": false,
            "zerolinecolor": "rgb(36,36,36)"
           },
           "zaxis": {
            "backgroundcolor": "white",
            "gridcolor": "rgb(232,232,232)",
            "gridwidth": 2,
            "linecolor": "rgb(36,36,36)",
            "showbackground": true,
            "showgrid": false,
            "showline": true,
            "ticks": "outside",
            "zeroline": false,
            "zerolinecolor": "rgb(36,36,36)"
           }
          },
          "shapedefaults": {
           "fillcolor": "black",
           "line": {
            "width": 0
           },
           "opacity": 0.3
          },
          "ternary": {
           "aaxis": {
            "gridcolor": "rgb(232,232,232)",
            "linecolor": "rgb(36,36,36)",
            "showgrid": false,
            "showline": true,
            "ticks": "outside"
           },
           "baxis": {
            "gridcolor": "rgb(232,232,232)",
            "linecolor": "rgb(36,36,36)",
            "showgrid": false,
            "showline": true,
            "ticks": "outside"
           },
           "bgcolor": "white",
           "caxis": {
            "gridcolor": "rgb(232,232,232)",
            "linecolor": "rgb(36,36,36)",
            "showgrid": false,
            "showline": true,
            "ticks": "outside"
           }
          },
          "title": {
           "x": 0.05
          },
          "xaxis": {
           "automargin": true,
           "gridcolor": "rgb(232,232,232)",
           "linecolor": "rgb(36,36,36)",
           "showgrid": false,
           "showline": true,
           "ticks": "outside",
           "title": {
            "standoff": 15
           },
           "zeroline": false,
           "zerolinecolor": "rgb(36,36,36)"
          },
          "yaxis": {
           "automargin": true,
           "gridcolor": "rgb(232,232,232)",
           "linecolor": "rgb(36,36,36)",
           "showgrid": false,
           "showline": true,
           "ticks": "outside",
           "title": {
            "standoff": 15
           },
           "zeroline": false,
           "zerolinecolor": "rgb(36,36,36)"
          }
         }
        },
        "xaxis": {
         "anchor": "y",
         "domain": [
          0,
          1
         ],
         "title": {
          "text": "Case Study"
         }
        },
        "yaxis": {
         "anchor": "x",
         "domain": [
          0,
          1
         ],
         "title": {
          "text": "Electricity Intensity kwh/m3 of Treated Water"
         }
        }
       }
      },
      "text/html": [
       "<div>                            <div id=\"27d30818-4118-4f47-b0e7-333bbb992006\" class=\"plotly-graph-div\" style=\"height:525px; width:100%;\"></div>            <script type=\"text/javascript\">                require([\"plotly\"], function(Plotly) {                    window.PLOTLYENV=window.PLOTLYENV || {};                                    if (document.getElementById(\"27d30818-4118-4f47-b0e7-333bbb992006\")) {                    Plotly.newPlot(                        \"27d30818-4118-4f47-b0e7-333bbb992006\",                        [{\"alignmentgroup\": \"True\", \"hovertemplate\": \"Unit Process Name=well_field<br>Case Study=%{x}<br>Electricity Intensity kwh/m3 of Treated Water=%{y}<extra></extra>\", \"legendgroup\": \"well_field\", \"marker\": {\"color\": \"#1F77B4\"}, \"name\": \"well_field\", \"offsetgroup\": \"well_field\", \"orientation\": \"v\", \"showlegend\": true, \"textposition\": \"auto\", \"type\": \"bar\", \"x\": [\"kbhdp\", \"emwd\", \"irwin\"], \"xaxis\": \"x\", \"y\": [0.0, 0.0, 0.0], \"yaxis\": \"y\"}, {\"alignmentgroup\": \"True\", \"hovertemplate\": \"Unit Process Name=media_filtration<br>Case Study=%{x}<br>Electricity Intensity kwh/m3 of Treated Water=%{y}<extra></extra>\", \"legendgroup\": \"media_filtration\", \"marker\": {\"color\": \"#FF7F0E\"}, \"name\": \"media_filtration\", \"offsetgroup\": \"media_filtration\", \"orientation\": \"v\", \"showlegend\": true, \"textposition\": \"auto\", \"type\": \"bar\", \"x\": [\"kbhdp\", \"irwin\"], \"xaxis\": \"x\", \"y\": [0.0, 0.0], \"yaxis\": \"y\"}, {\"alignmentgroup\": \"True\", \"hovertemplate\": \"Unit Process Name=anti_scalant_addition<br>Case Study=%{x}<br>Electricity Intensity kwh/m3 of Treated Water=%{y}<extra></extra>\", \"legendgroup\": \"anti_scalant_addition\", \"marker\": {\"color\": \"#2CA02C\"}, \"name\": \"anti_scalant_addition\", \"offsetgroup\": \"anti_scalant_addition\", \"orientation\": \"v\", \"showlegend\": true, \"textposition\": \"auto\", \"type\": \"bar\", \"x\": [\"kbhdp\", \"irwin\"], \"xaxis\": \"x\", \"y\": [3.666704400079692e-07, 5.176247610657976e-07], \"yaxis\": \"y\"}, {\"alignmentgroup\": \"True\", \"hovertemplate\": \"Unit Process Name=RO1<br>Case Study=%{x}<br>Electricity Intensity kwh/m3 of Treated Water=%{y}<extra></extra>\", \"legendgroup\": \"RO1\", \"marker\": {\"color\": \"#D62728\"}, \"name\": \"RO1\", \"offsetgroup\": \"RO1\", \"orientation\": \"v\", \"showlegend\": true, \"textposition\": \"auto\", \"type\": \"bar\", \"x\": [\"kbhdp\"], \"xaxis\": \"x\", \"y\": [0.1672487272532118], \"yaxis\": \"y\"}, {\"alignmentgroup\": \"True\", \"hovertemplate\": \"Unit Process Name=RO2<br>Case Study=%{x}<br>Electricity Intensity kwh/m3 of Treated Water=%{y}<extra></extra>\", \"legendgroup\": \"RO2\", \"marker\": {\"color\": \"#9467BD\"}, \"name\": \"RO2\", \"offsetgroup\": \"RO2\", \"orientation\": \"v\", \"showlegend\": true, \"textposition\": \"auto\", \"type\": \"bar\", \"x\": [\"kbhdp\"], \"xaxis\": \"x\", \"y\": [0.0], \"yaxis\": \"y\"}, {\"alignmentgroup\": \"True\", \"hovertemplate\": \"Unit Process Name=caustic_soda_addition<br>Case Study=%{x}<br>Electricity Intensity kwh/m3 of Treated Water=%{y}<extra></extra>\", \"legendgroup\": \"caustic_soda_addition\", \"marker\": {\"color\": \"#8C564B\"}, \"name\": \"caustic_soda_addition\", \"offsetgroup\": \"caustic_soda_addition\", \"orientation\": \"v\", \"showlegend\": true, \"textposition\": \"auto\", \"type\": \"bar\", \"x\": [\"kbhdp\"], \"xaxis\": \"x\", \"y\": [3.991154119979245e-06], \"yaxis\": \"y\"}, {\"alignmentgroup\": \"True\", \"hovertemplate\": \"Unit Process Name=chlorination<br>Case Study=%{x}<br>Electricity Intensity kwh/m3 of Treated Water=%{y}<extra></extra>\", \"legendgroup\": \"chlorination\", \"marker\": {\"color\": \"#E377C2\"}, \"name\": \"chlorination\", \"offsetgroup\": \"chlorination\", \"orientation\": \"v\", \"showlegend\": true, \"textposition\": \"auto\", \"type\": \"bar\", \"x\": [\"kbhdp\", \"emwd\"], \"xaxis\": \"x\", \"y\": [5.6907070413968985e-06, 5.690707041396898e-06], \"yaxis\": \"y\"}, {\"alignmentgroup\": \"True\", \"hovertemplate\": \"Unit Process Name=treated_storage<br>Case Study=%{x}<br>Electricity Intensity kwh/m3 of Treated Water=%{y}<extra></extra>\", \"legendgroup\": \"treated_storage\", \"marker\": {\"color\": \"#7F7F7F\"}, \"name\": \"treated_storage\", \"offsetgroup\": \"treated_storage\", \"orientation\": \"v\", \"showlegend\": true, \"textposition\": \"auto\", \"type\": \"bar\", \"x\": [\"kbhdp\", \"emwd\", \"irwin\"], \"xaxis\": \"x\", \"y\": [0.0, 0.0, 0.0], \"yaxis\": \"y\"}, {\"alignmentgroup\": \"True\", \"hovertemplate\": \"Unit Process Name=deep_well_injection<br>Case Study=%{x}<br>Electricity Intensity kwh/m3 of Treated Water=%{y}<extra></extra>\", \"legendgroup\": \"deep_well_injection\", \"marker\": {\"color\": \"#BCBD22\"}, \"name\": \"deep_well_injection\", \"offsetgroup\": \"deep_well_injection\", \"orientation\": \"v\", \"showlegend\": true, \"textposition\": \"auto\", \"type\": \"bar\", \"x\": [\"kbhdp\"], \"xaxis\": \"x\", \"y\": [0.0838089804938091], \"yaxis\": \"y\"}, {\"alignmentgroup\": \"True\", \"hovertemplate\": \"Unit Process Name=municipal_drinking<br>Case Study=%{x}<br>Electricity Intensity kwh/m3 of Treated Water=%{y}<extra></extra>\", \"legendgroup\": \"municipal_drinking\", \"marker\": {\"color\": \"#17BECF\"}, \"name\": \"municipal_drinking\", \"offsetgroup\": \"municipal_drinking\", \"orientation\": \"v\", \"showlegend\": true, \"textposition\": \"auto\", \"type\": \"bar\", \"x\": [\"kbhdp\", \"emwd\", \"irwin\"], \"xaxis\": \"x\", \"y\": [0.3072266807974892, 0.3072266807974891, 0.307226680812719], \"yaxis\": \"y\"}, {\"alignmentgroup\": \"True\", \"hovertemplate\": \"Unit Process Name=surface_discharge<br>Case Study=%{x}<br>Electricity Intensity kwh/m3 of Treated Water=%{y}<extra></extra>\", \"legendgroup\": \"surface_discharge\", \"marker\": {\"color\": \"#1F77B4\"}, \"name\": \"surface_discharge\", \"offsetgroup\": \"surface_discharge\", \"orientation\": \"v\", \"showlegend\": true, \"textposition\": \"auto\", \"type\": \"bar\", \"x\": [\"kbhdp\", \"emwd\"], \"xaxis\": \"x\", \"y\": [4.570438322345548e-05, 0.0083034034647967], \"yaxis\": \"y\"}, {\"alignmentgroup\": \"True\", \"hovertemplate\": \"Unit Process Name=iron_and_manganese_removal<br>Case Study=%{x}<br>Electricity Intensity kwh/m3 of Treated Water=%{y}<extra></extra>\", \"legendgroup\": \"iron_and_manganese_removal\", \"marker\": {\"color\": \"#FF7F0E\"}, \"name\": \"iron_and_manganese_removal\", \"offsetgroup\": \"iron_and_manganese_removal\", \"orientation\": \"v\", \"showlegend\": true, \"textposition\": \"auto\", \"type\": \"bar\", \"x\": [\"emwd\"], \"xaxis\": \"x\", \"y\": [0.4106501332238368], \"yaxis\": \"y\"}, {\"alignmentgroup\": \"True\", \"hovertemplate\": \"Unit Process Name=cartridge_filtration_a<br>Case Study=%{x}<br>Electricity Intensity kwh/m3 of Treated Water=%{y}<extra></extra>\", \"legendgroup\": \"cartridge_filtration_a\", \"marker\": {\"color\": \"#2CA02C\"}, \"name\": \"cartridge_filtration_a\", \"offsetgroup\": \"cartridge_filtration_a\", \"orientation\": \"v\", \"showlegend\": true, \"textposition\": \"auto\", \"type\": \"bar\", \"x\": [\"emwd\"], \"xaxis\": \"x\", \"y\": [0.0], \"yaxis\": \"y\"}, {\"alignmentgroup\": \"True\", \"hovertemplate\": \"Unit Process Name=ro_a1<br>Case Study=%{x}<br>Electricity Intensity kwh/m3 of Treated Water=%{y}<extra></extra>\", \"legendgroup\": \"ro_a1\", \"marker\": {\"color\": \"#D62728\"}, \"name\": \"ro_a1\", \"offsetgroup\": \"ro_a1\", \"orientation\": \"v\", \"showlegend\": true, \"textposition\": \"auto\", \"type\": \"bar\", \"x\": [\"emwd\"], \"xaxis\": \"x\", \"y\": [0.0110610198746766], \"yaxis\": \"y\"}, {\"alignmentgroup\": \"True\", \"hovertemplate\": \"Unit Process Name=ro_a2<br>Case Study=%{x}<br>Electricity Intensity kwh/m3 of Treated Water=%{y}<extra></extra>\", \"legendgroup\": \"ro_a2\", \"marker\": {\"color\": \"#9467BD\"}, \"name\": \"ro_a2\", \"offsetgroup\": \"ro_a2\", \"orientation\": \"v\", \"showlegend\": true, \"textposition\": \"auto\", \"type\": \"bar\", \"x\": [\"emwd\"], \"xaxis\": \"x\", \"y\": [0.0110610198746766], \"yaxis\": \"y\"}, {\"alignmentgroup\": \"True\", \"hovertemplate\": \"Unit Process Name=decarbonator_a<br>Case Study=%{x}<br>Electricity Intensity kwh/m3 of Treated Water=%{y}<extra></extra>\", \"legendgroup\": \"decarbonator_a\", \"marker\": {\"color\": \"#8C564B\"}, \"name\": \"decarbonator_a\", \"offsetgroup\": \"decarbonator_a\", \"orientation\": \"v\", \"showlegend\": true, \"textposition\": \"auto\", \"type\": \"bar\", \"x\": [\"emwd\"], \"xaxis\": \"x\", \"y\": [0.0], \"yaxis\": \"y\"}, {\"alignmentgroup\": \"True\", \"hovertemplate\": \"Unit Process Name=cartridge_filtration_b<br>Case Study=%{x}<br>Electricity Intensity kwh/m3 of Treated Water=%{y}<extra></extra>\", \"legendgroup\": \"cartridge_filtration_b\", \"marker\": {\"color\": \"#E377C2\"}, \"name\": \"cartridge_filtration_b\", \"offsetgroup\": \"cartridge_filtration_b\", \"orientation\": \"v\", \"showlegend\": true, \"textposition\": \"auto\", \"type\": \"bar\", \"x\": [\"emwd\"], \"xaxis\": \"x\", \"y\": [0.0], \"yaxis\": \"y\"}, {\"alignmentgroup\": \"True\", \"hovertemplate\": \"Unit Process Name=ro_b1<br>Case Study=%{x}<br>Electricity Intensity kwh/m3 of Treated Water=%{y}<extra></extra>\", \"legendgroup\": \"ro_b1\", \"marker\": {\"color\": \"#7F7F7F\"}, \"name\": \"ro_b1\", \"offsetgroup\": \"ro_b1\", \"orientation\": \"v\", \"showlegend\": true, \"textposition\": \"auto\", \"type\": \"bar\", \"x\": [\"emwd\"], \"xaxis\": \"x\", \"y\": [0.156530190347697], \"yaxis\": \"y\"}, {\"alignmentgroup\": \"True\", \"hovertemplate\": \"Unit Process Name=ro_b2<br>Case Study=%{x}<br>Electricity Intensity kwh/m3 of Treated Water=%{y}<extra></extra>\", \"legendgroup\": \"ro_b2\", \"marker\": {\"color\": \"#BCBD22\"}, \"name\": \"ro_b2\", \"offsetgroup\": \"ro_b2\", \"orientation\": \"v\", \"showlegend\": true, \"textposition\": \"auto\", \"type\": \"bar\", \"x\": [\"emwd\"], \"xaxis\": \"x\", \"y\": [0.156530190347697], \"yaxis\": \"y\"}, {\"alignmentgroup\": \"True\", \"hovertemplate\": \"Unit Process Name=decarbonator_b<br>Case Study=%{x}<br>Electricity Intensity kwh/m3 of Treated Water=%{y}<extra></extra>\", \"legendgroup\": \"decarbonator_b\", \"marker\": {\"color\": \"#17BECF\"}, \"name\": \"decarbonator_b\", \"offsetgroup\": \"decarbonator_b\", \"orientation\": \"v\", \"showlegend\": true, \"textposition\": \"auto\", \"type\": \"bar\", \"x\": [\"emwd\"], \"xaxis\": \"x\", \"y\": [0.0], \"yaxis\": \"y\"}, {\"alignmentgroup\": \"True\", \"hovertemplate\": \"Unit Process Name=onsite_storage<br>Case Study=%{x}<br>Electricity Intensity kwh/m3 of Treated Water=%{y}<extra></extra>\", \"legendgroup\": \"onsite_storage\", \"marker\": {\"color\": \"#1F77B4\"}, \"name\": \"onsite_storage\", \"offsetgroup\": \"onsite_storage\", \"orientation\": \"v\", \"showlegend\": true, \"textposition\": \"auto\", \"type\": \"bar\", \"x\": [\"irwin\"], \"xaxis\": \"x\", \"y\": [0.0], \"yaxis\": \"y\"}, {\"alignmentgroup\": \"True\", \"hovertemplate\": \"Unit Process Name=hydrochloric_acid_addition<br>Case Study=%{x}<br>Electricity Intensity kwh/m3 of Treated Water=%{y}<extra></extra>\", \"legendgroup\": \"hydrochloric_acid_addition\", \"marker\": {\"color\": \"#FF7F0E\"}, \"name\": \"hydrochloric_acid_addition\", \"offsetgroup\": \"hydrochloric_acid_addition\", \"orientation\": \"v\", \"showlegend\": true, \"textposition\": \"auto\", \"type\": \"bar\", \"x\": [\"irwin\"], \"xaxis\": \"x\", \"y\": [7.094600478466761e-07], \"yaxis\": \"y\"}, {\"alignmentgroup\": \"True\", \"hovertemplate\": \"Unit Process Name=sodium_bisulfite_addition<br>Case Study=%{x}<br>Electricity Intensity kwh/m3 of Treated Water=%{y}<extra></extra>\", \"legendgroup\": \"sodium_bisulfite_addition\", \"marker\": {\"color\": \"#2CA02C\"}, \"name\": \"sodium_bisulfite_addition\", \"offsetgroup\": \"sodium_bisulfite_addition\", \"orientation\": \"v\", \"showlegend\": true, \"textposition\": \"auto\", \"type\": \"bar\", \"x\": [\"irwin\"], \"xaxis\": \"x\", \"y\": [7.141108536987324e-07], \"yaxis\": \"y\"}, {\"alignmentgroup\": \"True\", \"hovertemplate\": \"Unit Process Name=electrodialysis_reversal<br>Case Study=%{x}<br>Electricity Intensity kwh/m3 of Treated Water=%{y}<extra></extra>\", \"legendgroup\": \"electrodialysis_reversal\", \"marker\": {\"color\": \"#D62728\"}, \"name\": \"electrodialysis_reversal\", \"offsetgroup\": \"electrodialysis_reversal\", \"orientation\": \"v\", \"showlegend\": true, \"textposition\": \"auto\", \"type\": \"bar\", \"x\": [\"irwin\"], \"xaxis\": \"x\", \"y\": [0.3118516636487681], \"yaxis\": \"y\"}, {\"alignmentgroup\": \"True\", \"hovertemplate\": \"Unit Process Name=water_pumping_station<br>Case Study=%{x}<br>Electricity Intensity kwh/m3 of Treated Water=%{y}<extra></extra>\", \"legendgroup\": \"water_pumping_station\", \"marker\": {\"color\": \"#9467BD\"}, \"name\": \"water_pumping_station\", \"offsetgroup\": \"water_pumping_station\", \"orientation\": \"v\", \"showlegend\": true, \"textposition\": \"auto\", \"type\": \"bar\", \"x\": [\"irwin\"], \"xaxis\": \"x\", \"y\": [2.716648055186701e-08], \"yaxis\": \"y\"}, {\"alignmentgroup\": \"True\", \"hovertemplate\": \"Unit Process Name=lime_softening<br>Case Study=%{x}<br>Electricity Intensity kwh/m3 of Treated Water=%{y}<extra></extra>\", \"legendgroup\": \"lime_softening\", \"marker\": {\"color\": \"#8C564B\"}, \"name\": \"lime_softening\", \"offsetgroup\": \"lime_softening\", \"orientation\": \"v\", \"showlegend\": true, \"textposition\": \"auto\", \"type\": \"bar\", \"x\": [\"irwin\"], \"xaxis\": \"x\", \"y\": [4.5846077993428773e-07], \"yaxis\": \"y\"}, {\"alignmentgroup\": \"True\", \"hovertemplate\": \"Unit Process Name=microfiltration<br>Case Study=%{x}<br>Electricity Intensity kwh/m3 of Treated Water=%{y}<extra></extra>\", \"legendgroup\": \"microfiltration\", \"marker\": {\"color\": \"#E377C2\"}, \"name\": \"microfiltration\", \"offsetgroup\": \"microfiltration\", \"orientation\": \"v\", \"showlegend\": true, \"textposition\": \"auto\", \"type\": \"bar\", \"x\": [\"irwin\"], \"xaxis\": \"x\", \"y\": [0.0249263474866065], \"yaxis\": \"y\"}, {\"alignmentgroup\": \"True\", \"hovertemplate\": \"Unit Process Name=reverse_osmosis<br>Case Study=%{x}<br>Electricity Intensity kwh/m3 of Treated Water=%{y}<extra></extra>\", \"legendgroup\": \"reverse_osmosis\", \"marker\": {\"color\": \"#7F7F7F\"}, \"name\": \"reverse_osmosis\", \"offsetgroup\": \"reverse_osmosis\", \"orientation\": \"v\", \"showlegend\": true, \"textposition\": \"auto\", \"type\": \"bar\", \"x\": [\"irwin\"], \"xaxis\": \"x\", \"y\": [0.0478363880314651], \"yaxis\": \"y\"}, {\"alignmentgroup\": \"True\", \"hovertemplate\": \"Unit Process Name=irwin_brine_management<br>Case Study=%{x}<br>Electricity Intensity kwh/m3 of Treated Water=%{y}<extra></extra>\", \"legendgroup\": \"irwin_brine_management\", \"marker\": {\"color\": \"#BCBD22\"}, \"name\": \"irwin_brine_management\", \"offsetgroup\": \"irwin_brine_management\", \"orientation\": \"v\", \"showlegend\": true, \"textposition\": \"auto\", \"type\": \"bar\", \"x\": [\"irwin\"], \"xaxis\": \"x\", \"y\": [0.0], \"yaxis\": \"y\"}],                        {\"barmode\": \"relative\", \"legend\": {\"title\": {\"text\": \"Unit Process Name\"}, \"tracegroupgap\": 0}, \"margin\": {\"t\": 60}, \"template\": {\"data\": {\"bar\": [{\"error_x\": {\"color\": \"rgb(36,36,36)\"}, \"error_y\": {\"color\": \"rgb(36,36,36)\"}, \"marker\": {\"line\": {\"color\": \"white\", \"width\": 0.5}}, \"type\": \"bar\"}], \"barpolar\": [{\"marker\": {\"line\": {\"color\": \"white\", \"width\": 0.5}}, \"type\": \"barpolar\"}], \"carpet\": [{\"aaxis\": {\"endlinecolor\": \"rgb(36,36,36)\", \"gridcolor\": \"white\", \"linecolor\": \"white\", \"minorgridcolor\": \"white\", \"startlinecolor\": \"rgb(36,36,36)\"}, \"baxis\": {\"endlinecolor\": \"rgb(36,36,36)\", \"gridcolor\": \"white\", \"linecolor\": \"white\", \"minorgridcolor\": \"white\", \"startlinecolor\": \"rgb(36,36,36)\"}, \"type\": \"carpet\"}], \"choropleth\": [{\"colorbar\": {\"outlinewidth\": 1, \"tickcolor\": \"rgb(36,36,36)\", \"ticks\": \"outside\"}, \"type\": \"choropleth\"}], \"contour\": [{\"colorbar\": {\"outlinewidth\": 1, \"tickcolor\": \"rgb(36,36,36)\", \"ticks\": \"outside\"}, \"colorscale\": [[0.0, \"#440154\"], [0.1111111111111111, \"#482878\"], [0.2222222222222222, \"#3e4989\"], [0.3333333333333333, \"#31688e\"], [0.4444444444444444, \"#26828e\"], [0.5555555555555556, \"#1f9e89\"], [0.6666666666666666, \"#35b779\"], [0.7777777777777778, \"#6ece58\"], [0.8888888888888888, \"#b5de2b\"], [1.0, \"#fde725\"]], \"type\": \"contour\"}], \"contourcarpet\": [{\"colorbar\": {\"outlinewidth\": 1, \"tickcolor\": \"rgb(36,36,36)\", \"ticks\": \"outside\"}, \"type\": \"contourcarpet\"}], \"heatmap\": [{\"colorbar\": {\"outlinewidth\": 1, \"tickcolor\": \"rgb(36,36,36)\", \"ticks\": \"outside\"}, \"colorscale\": [[0.0, \"#440154\"], [0.1111111111111111, \"#482878\"], [0.2222222222222222, \"#3e4989\"], [0.3333333333333333, \"#31688e\"], [0.4444444444444444, \"#26828e\"], [0.5555555555555556, \"#1f9e89\"], [0.6666666666666666, \"#35b779\"], [0.7777777777777778, \"#6ece58\"], [0.8888888888888888, \"#b5de2b\"], [1.0, \"#fde725\"]], \"type\": \"heatmap\"}], \"heatmapgl\": [{\"colorbar\": {\"outlinewidth\": 1, \"tickcolor\": \"rgb(36,36,36)\", \"ticks\": \"outside\"}, \"colorscale\": [[0.0, \"#440154\"], [0.1111111111111111, \"#482878\"], [0.2222222222222222, \"#3e4989\"], [0.3333333333333333, \"#31688e\"], [0.4444444444444444, \"#26828e\"], [0.5555555555555556, \"#1f9e89\"], [0.6666666666666666, \"#35b779\"], [0.7777777777777778, \"#6ece58\"], [0.8888888888888888, \"#b5de2b\"], [1.0, \"#fde725\"]], \"type\": \"heatmapgl\"}], \"histogram\": [{\"marker\": {\"line\": {\"color\": \"white\", \"width\": 0.6}}, \"type\": \"histogram\"}], \"histogram2d\": [{\"colorbar\": {\"outlinewidth\": 1, \"tickcolor\": \"rgb(36,36,36)\", \"ticks\": \"outside\"}, \"colorscale\": [[0.0, \"#440154\"], [0.1111111111111111, \"#482878\"], [0.2222222222222222, \"#3e4989\"], [0.3333333333333333, \"#31688e\"], [0.4444444444444444, \"#26828e\"], [0.5555555555555556, \"#1f9e89\"], [0.6666666666666666, \"#35b779\"], [0.7777777777777778, \"#6ece58\"], [0.8888888888888888, \"#b5de2b\"], [1.0, \"#fde725\"]], \"type\": \"histogram2d\"}], \"histogram2dcontour\": [{\"colorbar\": {\"outlinewidth\": 1, \"tickcolor\": \"rgb(36,36,36)\", \"ticks\": \"outside\"}, \"colorscale\": [[0.0, \"#440154\"], [0.1111111111111111, \"#482878\"], [0.2222222222222222, \"#3e4989\"], [0.3333333333333333, \"#31688e\"], [0.4444444444444444, \"#26828e\"], [0.5555555555555556, \"#1f9e89\"], [0.6666666666666666, \"#35b779\"], [0.7777777777777778, \"#6ece58\"], [0.8888888888888888, \"#b5de2b\"], [1.0, \"#fde725\"]], \"type\": \"histogram2dcontour\"}], \"mesh3d\": [{\"colorbar\": {\"outlinewidth\": 1, \"tickcolor\": \"rgb(36,36,36)\", \"ticks\": \"outside\"}, \"type\": \"mesh3d\"}], \"parcoords\": [{\"line\": {\"colorbar\": {\"outlinewidth\": 1, \"tickcolor\": \"rgb(36,36,36)\", \"ticks\": \"outside\"}}, \"type\": \"parcoords\"}], \"pie\": [{\"automargin\": true, \"type\": \"pie\"}], \"scatter\": [{\"marker\": {\"colorbar\": {\"outlinewidth\": 1, \"tickcolor\": \"rgb(36,36,36)\", \"ticks\": \"outside\"}}, \"type\": \"scatter\"}], \"scatter3d\": [{\"line\": {\"colorbar\": {\"outlinewidth\": 1, \"tickcolor\": \"rgb(36,36,36)\", \"ticks\": \"outside\"}}, \"marker\": {\"colorbar\": {\"outlinewidth\": 1, \"tickcolor\": \"rgb(36,36,36)\", \"ticks\": \"outside\"}}, \"type\": \"scatter3d\"}], \"scattercarpet\": [{\"marker\": {\"colorbar\": {\"outlinewidth\": 1, \"tickcolor\": \"rgb(36,36,36)\", \"ticks\": \"outside\"}}, \"type\": \"scattercarpet\"}], \"scattergeo\": [{\"marker\": {\"colorbar\": {\"outlinewidth\": 1, \"tickcolor\": \"rgb(36,36,36)\", \"ticks\": \"outside\"}}, \"type\": \"scattergeo\"}], \"scattergl\": [{\"marker\": {\"colorbar\": {\"outlinewidth\": 1, \"tickcolor\": \"rgb(36,36,36)\", \"ticks\": \"outside\"}}, \"type\": \"scattergl\"}], \"scattermapbox\": [{\"marker\": {\"colorbar\": {\"outlinewidth\": 1, \"tickcolor\": \"rgb(36,36,36)\", \"ticks\": \"outside\"}}, \"type\": \"scattermapbox\"}], \"scatterpolar\": [{\"marker\": {\"colorbar\": {\"outlinewidth\": 1, \"tickcolor\": \"rgb(36,36,36)\", \"ticks\": \"outside\"}}, \"type\": \"scatterpolar\"}], \"scatterpolargl\": [{\"marker\": {\"colorbar\": {\"outlinewidth\": 1, \"tickcolor\": \"rgb(36,36,36)\", \"ticks\": \"outside\"}}, \"type\": \"scatterpolargl\"}], \"scatterternary\": [{\"marker\": {\"colorbar\": {\"outlinewidth\": 1, \"tickcolor\": \"rgb(36,36,36)\", \"ticks\": \"outside\"}}, \"type\": \"scatterternary\"}], \"surface\": [{\"colorbar\": {\"outlinewidth\": 1, \"tickcolor\": \"rgb(36,36,36)\", \"ticks\": \"outside\"}, \"colorscale\": [[0.0, \"#440154\"], [0.1111111111111111, \"#482878\"], [0.2222222222222222, \"#3e4989\"], [0.3333333333333333, \"#31688e\"], [0.4444444444444444, \"#26828e\"], [0.5555555555555556, \"#1f9e89\"], [0.6666666666666666, \"#35b779\"], [0.7777777777777778, \"#6ece58\"], [0.8888888888888888, \"#b5de2b\"], [1.0, \"#fde725\"]], \"type\": \"surface\"}], \"table\": [{\"cells\": {\"fill\": {\"color\": \"rgb(237,237,237)\"}, \"line\": {\"color\": \"white\"}}, \"header\": {\"fill\": {\"color\": \"rgb(217,217,217)\"}, \"line\": {\"color\": \"white\"}}, \"type\": \"table\"}]}, \"layout\": {\"annotationdefaults\": {\"arrowhead\": 0, \"arrowwidth\": 1}, \"autotypenumbers\": \"strict\", \"coloraxis\": {\"colorbar\": {\"outlinewidth\": 1, \"tickcolor\": \"rgb(36,36,36)\", \"ticks\": \"outside\"}}, \"colorscale\": {\"diverging\": [[0.0, \"rgb(103,0,31)\"], [0.1, \"rgb(178,24,43)\"], [0.2, \"rgb(214,96,77)\"], [0.3, \"rgb(244,165,130)\"], [0.4, \"rgb(253,219,199)\"], [0.5, \"rgb(247,247,247)\"], [0.6, \"rgb(209,229,240)\"], [0.7, \"rgb(146,197,222)\"], [0.8, \"rgb(67,147,195)\"], [0.9, \"rgb(33,102,172)\"], [1.0, \"rgb(5,48,97)\"]], \"sequential\": [[0.0, \"#440154\"], [0.1111111111111111, \"#482878\"], [0.2222222222222222, \"#3e4989\"], [0.3333333333333333, \"#31688e\"], [0.4444444444444444, \"#26828e\"], [0.5555555555555556, \"#1f9e89\"], [0.6666666666666666, \"#35b779\"], [0.7777777777777778, \"#6ece58\"], [0.8888888888888888, \"#b5de2b\"], [1.0, \"#fde725\"]], \"sequentialminus\": [[0.0, \"#440154\"], [0.1111111111111111, \"#482878\"], [0.2222222222222222, \"#3e4989\"], [0.3333333333333333, \"#31688e\"], [0.4444444444444444, \"#26828e\"], [0.5555555555555556, \"#1f9e89\"], [0.6666666666666666, \"#35b779\"], [0.7777777777777778, \"#6ece58\"], [0.8888888888888888, \"#b5de2b\"], [1.0, \"#fde725\"]]}, \"colorway\": [\"#1F77B4\", \"#FF7F0E\", \"#2CA02C\", \"#D62728\", \"#9467BD\", \"#8C564B\", \"#E377C2\", \"#7F7F7F\", \"#BCBD22\", \"#17BECF\"], \"font\": {\"color\": \"rgb(36,36,36)\"}, \"geo\": {\"bgcolor\": \"white\", \"lakecolor\": \"white\", \"landcolor\": \"white\", \"showlakes\": true, \"showland\": true, \"subunitcolor\": \"white\"}, \"hoverlabel\": {\"align\": \"left\"}, \"hovermode\": \"closest\", \"mapbox\": {\"style\": \"light\"}, \"paper_bgcolor\": \"white\", \"plot_bgcolor\": \"white\", \"polar\": {\"angularaxis\": {\"gridcolor\": \"rgb(232,232,232)\", \"linecolor\": \"rgb(36,36,36)\", \"showgrid\": false, \"showline\": true, \"ticks\": \"outside\"}, \"bgcolor\": \"white\", \"radialaxis\": {\"gridcolor\": \"rgb(232,232,232)\", \"linecolor\": \"rgb(36,36,36)\", \"showgrid\": false, \"showline\": true, \"ticks\": \"outside\"}}, \"scene\": {\"xaxis\": {\"backgroundcolor\": \"white\", \"gridcolor\": \"rgb(232,232,232)\", \"gridwidth\": 2, \"linecolor\": \"rgb(36,36,36)\", \"showbackground\": true, \"showgrid\": false, \"showline\": true, \"ticks\": \"outside\", \"zeroline\": false, \"zerolinecolor\": \"rgb(36,36,36)\"}, \"yaxis\": {\"backgroundcolor\": \"white\", \"gridcolor\": \"rgb(232,232,232)\", \"gridwidth\": 2, \"linecolor\": \"rgb(36,36,36)\", \"showbackground\": true, \"showgrid\": false, \"showline\": true, \"ticks\": \"outside\", \"zeroline\": false, \"zerolinecolor\": \"rgb(36,36,36)\"}, \"zaxis\": {\"backgroundcolor\": \"white\", \"gridcolor\": \"rgb(232,232,232)\", \"gridwidth\": 2, \"linecolor\": \"rgb(36,36,36)\", \"showbackground\": true, \"showgrid\": false, \"showline\": true, \"ticks\": \"outside\", \"zeroline\": false, \"zerolinecolor\": \"rgb(36,36,36)\"}}, \"shapedefaults\": {\"fillcolor\": \"black\", \"line\": {\"width\": 0}, \"opacity\": 0.3}, \"ternary\": {\"aaxis\": {\"gridcolor\": \"rgb(232,232,232)\", \"linecolor\": \"rgb(36,36,36)\", \"showgrid\": false, \"showline\": true, \"ticks\": \"outside\"}, \"baxis\": {\"gridcolor\": \"rgb(232,232,232)\", \"linecolor\": \"rgb(36,36,36)\", \"showgrid\": false, \"showline\": true, \"ticks\": \"outside\"}, \"bgcolor\": \"white\", \"caxis\": {\"gridcolor\": \"rgb(232,232,232)\", \"linecolor\": \"rgb(36,36,36)\", \"showgrid\": false, \"showline\": true, \"ticks\": \"outside\"}}, \"title\": {\"x\": 0.05}, \"xaxis\": {\"automargin\": true, \"gridcolor\": \"rgb(232,232,232)\", \"linecolor\": \"rgb(36,36,36)\", \"showgrid\": false, \"showline\": true, \"ticks\": \"outside\", \"title\": {\"standoff\": 15}, \"zeroline\": false, \"zerolinecolor\": \"rgb(36,36,36)\"}, \"yaxis\": {\"automargin\": true, \"gridcolor\": \"rgb(232,232,232)\", \"linecolor\": \"rgb(36,36,36)\", \"showgrid\": false, \"showline\": true, \"ticks\": \"outside\", \"title\": {\"standoff\": 15}, \"zeroline\": false, \"zerolinecolor\": \"rgb(36,36,36)\"}}}, \"xaxis\": {\"anchor\": \"y\", \"domain\": [0.0, 1.0], \"title\": {\"text\": \"Case Study\"}}, \"yaxis\": {\"anchor\": \"x\", \"domain\": [0.0, 1.0], \"title\": {\"text\": \"Electricity Intensity kwh/m3 of Treated Water\"}}},                        {\"responsive\": true}                    ).then(function(){\n",
       "                            \n",
       "var gd = document.getElementById('27d30818-4118-4f47-b0e7-333bbb992006');\n",
       "var x = new MutationObserver(function (mutations, observer) {{\n",
       "        var display = window.getComputedStyle(gd).display;\n",
       "        if (!display || display === 'none') {{\n",
       "            console.log([gd, 'removed!']);\n",
       "            Plotly.purge(gd);\n",
       "            observer.disconnect();\n",
       "        }}\n",
       "}});\n",
       "\n",
       "// Listen for the removal of the full notebook cells\n",
       "var notebookContainer = gd.closest('#notebook-container');\n",
       "if (notebookContainer) {{\n",
       "    x.observe(notebookContainer, {childList: true});\n",
       "}}\n",
       "\n",
       "// Listen for the clearing of the current output cell\n",
       "var outputEl = gd.closest('.output');\n",
       "if (outputEl) {{\n",
       "    x.observe(outputEl, {childList: true});\n",
       "}}\n",
       "\n",
       "                        })                };                });            </script>        </div>"
      ]
     },
     "metadata": {},
     "output_type": "display_data"
    }
   ],
   "source": [
    "fig = px.bar(sys_df, x=\"Case Study\", y=\"Value\", color=\"Unit Process Name\",\n",
    "              labels={\"Variable\": \"\",  \"Value\": \"Electricity Intensity kwh/m3 of Treated Water\"},\n",
    "            template=\"simple_white\")\n",
    "fig.show()"
   ]
  },
  {
   "cell_type": "code",
   "execution_count": null,
   "metadata": {},
   "outputs": [],
   "source": []
  },
  {
   "cell_type": "code",
   "execution_count": null,
   "metadata": {},
   "outputs": [],
   "source": []
  },
  {
   "cell_type": "code",
   "execution_count": null,
   "metadata": {},
   "outputs": [],
   "source": []
  },
  {
   "cell_type": "code",
   "execution_count": null,
   "metadata": {},
   "outputs": [],
   "source": []
  },
  {
   "cell_type": "code",
   "execution_count": null,
   "metadata": {},
   "outputs": [],
   "source": []
  },
  {
   "cell_type": "code",
   "execution_count": null,
   "metadata": {},
   "outputs": [],
   "source": []
  },
  {
   "cell_type": "code",
   "execution_count": null,
   "metadata": {},
   "outputs": [],
   "source": []
  },
  {
   "cell_type": "code",
   "execution_count": null,
   "metadata": {},
   "outputs": [],
   "source": []
  },
  {
   "cell_type": "code",
   "execution_count": null,
   "metadata": {},
   "outputs": [],
   "source": []
  },
  {
   "cell_type": "code",
   "execution_count": null,
   "metadata": {},
   "outputs": [],
   "source": []
  },
  {
   "cell_type": "code",
   "execution_count": null,
   "metadata": {},
   "outputs": [],
   "source": []
  },
  {
   "cell_type": "code",
   "execution_count": null,
   "metadata": {},
   "outputs": [],
   "source": []
  },
  {
   "cell_type": "code",
   "execution_count": null,
   "metadata": {},
   "outputs": [],
   "source": []
  },
  {
   "cell_type": "code",
   "execution_count": null,
   "metadata": {},
   "outputs": [],
   "source": []
  },
  {
   "cell_type": "code",
   "execution_count": null,
   "metadata": {},
   "outputs": [],
   "source": []
  },
  {
   "cell_type": "code",
   "execution_count": null,
   "metadata": {},
   "outputs": [],
   "source": []
  },
  {
   "cell_type": "code",
   "execution_count": null,
   "metadata": {},
   "outputs": [],
   "source": []
  },
  {
   "cell_type": "code",
   "execution_count": null,
   "metadata": {},
   "outputs": [],
   "source": []
  },
  {
   "cell_type": "code",
   "execution_count": null,
   "metadata": {},
   "outputs": [],
   "source": []
  },
  {
   "cell_type": "code",
   "execution_count": null,
   "metadata": {},
   "outputs": [],
   "source": []
  }
 ],
 "metadata": {
  "kernelspec": {
   "name": "python383jvsc74a57bd0490aee52a60069d6e96fd8eb7d725cdc868de074e5268bfb1fe44bf14949247e",
   "display_name": "Python 3.8.3 64-bit (conda)"
  },
  "language_info": {
   "codemirror_mode": {
    "name": "ipython",
    "version": 3
   },
   "file_extension": ".py",
   "mimetype": "text/x-python",
   "name": "python",
   "nbconvert_exporter": "python",
   "pygments_lexer": "ipython3",
   "version": "3.8.3"
  }
 },
 "nbformat": 4,
 "nbformat_minor": 4
}