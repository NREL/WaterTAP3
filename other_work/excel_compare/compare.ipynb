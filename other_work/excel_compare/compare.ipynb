{
 "metadata": {
  "language_info": {
   "codemirror_mode": {
    "name": "ipython",
    "version": 3
   },
   "file_extension": ".py",
   "mimetype": "text/x-python",
   "name": "python",
   "nbconvert_exporter": "python",
   "pygments_lexer": "ipython3",
   "version": "3.8.3-final"
  },
  "orig_nbformat": 2,
  "kernelspec": {
   "name": "python3",
   "display_name": "Python 3",
   "language": "python"
  }
 },
 "nbformat": 4,
 "nbformat_minor": 2,
 "cells": [
  {
   "cell_type": "code",
   "execution_count": 2,
   "metadata": {},
   "outputs": [],
   "source": [
    "import numpy as np\n",
    "import pandas as pd\n",
    "import matplotlib.pyplot as plt\n",
    "import glob"
   ]
  },
  {
   "cell_type": "code",
   "execution_count": 11,
   "metadata": {},
   "outputs": [
    {
     "output_type": "execute_result",
     "data": {
      "text/plain": [
       "['CarlsbadCompare.csv',\n",
       " 'compare.ipynb',\n",
       " 'excel_result.xlsx',\n",
       " 'excel_to_python_names.csv',\n",
       " 'WT3Excel_Case_Study_Data_10Feb2021.xlsm']"
      ]
     },
     "metadata": {},
     "execution_count": 11
    }
   ],
   "source": [
    "glob.glob('*')"
   ]
  },
  {
   "cell_type": "code",
   "execution_count": 28,
   "metadata": {},
   "outputs": [],
   "source": [
    "excel = pd.read_excel('excel_result.xlsx')\n",
    "excel['Source'] = 'excel'"
   ]
  },
  {
   "cell_type": "code",
   "execution_count": 30,
   "metadata": {},
   "outputs": [
    {
     "output_type": "execute_result",
     "data": {
      "text/plain": [
       "         Case_Study  Scenario Train       Unit_Process  \\\n",
       "0          Carlsbad  Baseline     A  sw_onshore_intake   \n",
       "1          Carlsbad  Baseline     A  sw_onshore_intake   \n",
       "2          Carlsbad  Baseline     A  sw_onshore_intake   \n",
       "3          Carlsbad  Baseline     A  sw_onshore_intake   \n",
       "4          Carlsbad  Baseline     A  sw_onshore_intake   \n",
       "...             ...       ...   ...                ...   \n",
       "2373  Santa_Barbara  Baseline     C            ro_deep   \n",
       "2374  Santa_Barbara  Baseline     C            ro_deep   \n",
       "2375  Santa_Barbara  Baseline     C            ro_deep   \n",
       "2376  Santa_Barbara  Baseline     C            ro_deep   \n",
       "2377  Santa_Barbara  Baseline     C            ro_deep   \n",
       "\n",
       "                            Variable    Unit       Value Source  \n",
       "0     Fixed Capital Investment (FCI)     $MM   20.982722  excel  \n",
       "1                          Land_Cost     $MM    0.031474  excel  \n",
       "2                    Working Capital     $MM    1.049136  excel  \n",
       "3     Total Capital Investment (TCI)     $MM   22.063332  excel  \n",
       "4            Catalysts and Chemicals  $MM/yr    0.000000  excel  \n",
       "...                              ...     ...         ...    ...  \n",
       "2373     Labor_and_Other_Fixed_Costs     NaN    1.257370  excel  \n",
       "2374            Consumer_Price_Index     NaN    1.258749  excel  \n",
       "2375                Grid_Electricity     kWh    1.331162  excel  \n",
       "2376                     Inlet Water   m3/hr  333.900000  excel  \n",
       "2377                    Outlet Water   m3/hr  157.064803  excel  \n",
       "\n",
       "[2378 rows x 8 columns]"
      ],
      "text/html": "<div>\n<style scoped>\n    .dataframe tbody tr th:only-of-type {\n        vertical-align: middle;\n    }\n\n    .dataframe tbody tr th {\n        vertical-align: top;\n    }\n\n    .dataframe thead th {\n        text-align: right;\n    }\n</style>\n<table border=\"1\" class=\"dataframe\">\n  <thead>\n    <tr style=\"text-align: right;\">\n      <th></th>\n      <th>Case_Study</th>\n      <th>Scenario</th>\n      <th>Train</th>\n      <th>Unit_Process</th>\n      <th>Variable</th>\n      <th>Unit</th>\n      <th>Value</th>\n      <th>Source</th>\n    </tr>\n  </thead>\n  <tbody>\n    <tr>\n      <th>0</th>\n      <td>Carlsbad</td>\n      <td>Baseline</td>\n      <td>A</td>\n      <td>sw_onshore_intake</td>\n      <td>Fixed Capital Investment (FCI)</td>\n      <td>$MM</td>\n      <td>20.982722</td>\n      <td>excel</td>\n    </tr>\n    <tr>\n      <th>1</th>\n      <td>Carlsbad</td>\n      <td>Baseline</td>\n      <td>A</td>\n      <td>sw_onshore_intake</td>\n      <td>Land_Cost</td>\n      <td>$MM</td>\n      <td>0.031474</td>\n      <td>excel</td>\n    </tr>\n    <tr>\n      <th>2</th>\n      <td>Carlsbad</td>\n      <td>Baseline</td>\n      <td>A</td>\n      <td>sw_onshore_intake</td>\n      <td>Working Capital</td>\n      <td>$MM</td>\n      <td>1.049136</td>\n      <td>excel</td>\n    </tr>\n    <tr>\n      <th>3</th>\n      <td>Carlsbad</td>\n      <td>Baseline</td>\n      <td>A</td>\n      <td>sw_onshore_intake</td>\n      <td>Total Capital Investment (TCI)</td>\n      <td>$MM</td>\n      <td>22.063332</td>\n      <td>excel</td>\n    </tr>\n    <tr>\n      <th>4</th>\n      <td>Carlsbad</td>\n      <td>Baseline</td>\n      <td>A</td>\n      <td>sw_onshore_intake</td>\n      <td>Catalysts and Chemicals</td>\n      <td>$MM/yr</td>\n      <td>0.000000</td>\n      <td>excel</td>\n    </tr>\n    <tr>\n      <th>...</th>\n      <td>...</td>\n      <td>...</td>\n      <td>...</td>\n      <td>...</td>\n      <td>...</td>\n      <td>...</td>\n      <td>...</td>\n      <td>...</td>\n    </tr>\n    <tr>\n      <th>2373</th>\n      <td>Santa_Barbara</td>\n      <td>Baseline</td>\n      <td>C</td>\n      <td>ro_deep</td>\n      <td>Labor_and_Other_Fixed_Costs</td>\n      <td>NaN</td>\n      <td>1.257370</td>\n      <td>excel</td>\n    </tr>\n    <tr>\n      <th>2374</th>\n      <td>Santa_Barbara</td>\n      <td>Baseline</td>\n      <td>C</td>\n      <td>ro_deep</td>\n      <td>Consumer_Price_Index</td>\n      <td>NaN</td>\n      <td>1.258749</td>\n      <td>excel</td>\n    </tr>\n    <tr>\n      <th>2375</th>\n      <td>Santa_Barbara</td>\n      <td>Baseline</td>\n      <td>C</td>\n      <td>ro_deep</td>\n      <td>Grid_Electricity</td>\n      <td>kWh</td>\n      <td>1.331162</td>\n      <td>excel</td>\n    </tr>\n    <tr>\n      <th>2376</th>\n      <td>Santa_Barbara</td>\n      <td>Baseline</td>\n      <td>C</td>\n      <td>ro_deep</td>\n      <td>Inlet Water</td>\n      <td>m3/hr</td>\n      <td>333.900000</td>\n      <td>excel</td>\n    </tr>\n    <tr>\n      <th>2377</th>\n      <td>Santa_Barbara</td>\n      <td>Baseline</td>\n      <td>C</td>\n      <td>ro_deep</td>\n      <td>Outlet Water</td>\n      <td>m3/hr</td>\n      <td>157.064803</td>\n      <td>excel</td>\n    </tr>\n  </tbody>\n</table>\n<p>2378 rows × 8 columns</p>\n</div>"
     },
     "metadata": {},
     "execution_count": 30
    }
   ],
   "source": [
    "excel"
   ]
  },
  {
   "cell_type": "code",
   "execution_count": 29,
   "metadata": {},
   "outputs": [],
   "source": [
    "py = pd.read_csv('CarlsbadCompare.csv',index_col=0)\n",
    "py.rename(columns={\"Unit Process Name\": \"Unit_Process\", \"Case Study\": \"Case_Study\"}, inplace=True)\n",
    "py['Source'] = 'python'"
   ]
  },
  {
   "cell_type": "code",
   "execution_count": 31,
   "metadata": {},
   "outputs": [],
   "source": [
    "both = pd.concat([excel,py])\n",
    "pivot = pd.pivot_table(both, values='Value', \n",
    "                             index=['Case_Study','Scenario','Unit_Process','Variable','Unit'], \n",
    "                             columns=['Source']).reset_index()"
   ]
  },
  {
   "cell_type": "code",
   "execution_count": 33,
   "metadata": {},
   "outputs": [],
   "source": [
    "# compare = pivot[(pivot['Case_Study']=='Carlsbad')&(pivot['Scenario']=='Baseline')]\n",
    "# compare.to_csv('check.csv',index=False)"
   ]
  },
  {
   "cell_type": "code",
   "execution_count": 36,
   "metadata": {},
   "outputs": [],
   "source": [
    "pivot.to_csv('check_ful.csv',index=False)"
   ]
  },
  {
   "cell_type": "code",
   "execution_count": null,
   "metadata": {},
   "outputs": [],
   "source": []
  },
  {
   "cell_type": "code",
   "execution_count": null,
   "metadata": {},
   "outputs": [],
   "source": []
  },
  {
   "cell_type": "code",
   "execution_count": null,
   "metadata": {},
   "outputs": [],
   "source": []
  },
  {
   "cell_type": "code",
   "execution_count": 9,
   "metadata": {},
   "outputs": [
    {
     "output_type": "execute_result",
     "data": {
      "text/plain": [
       "                           Excel_variable            Python_variable    Unit\n",
       "0          Fixed Capital Investment (FCI)              fixed_cap_inv     $MM\n",
       "1                                    Land                  land_cost     $MM\n",
       "2                         Working Capital                working_cap     $MM\n",
       "3          Total Capital Investment (TCI)       total_cap_investment     $MM\n",
       "4                 Catalysts and Chemicals          cat_and_chem_cost  $MM/yr\n",
       "5                             Electricity           electricity_cost  $MM/yr\n",
       "6                Fuel and Other Utilities                     (none)  $MM/yr\n",
       "7                       Replacement Parts                     (none)  $MM/yr\n",
       "8                         Other Operating             other_var_cost  $MM/yr\n",
       "9                Total Variable Operating                     (none)  $MM/yr\n",
       "10                      Employee Salaries                   salaries  $MM/yr\n",
       "11                               Benefits                   benefits  $MM/yr\n",
       "12                            Maintenance                maintenance  $MM/yr\n",
       "13                             Laboratory                        lab  $MM/yr\n",
       "14                    Insurance and Taxes            insurance_taxes  $MM/yr\n",
       "15                 Total Fixed Operating         total_fixed_op_cost  $MM/yr\n",
       "16  Capacity_Basis_for_Fixed_Capital_Cost                     (none)       0\n",
       "17                Base_Fixed_Capital_Cost                     (none)     $MM\n",
       "18               Capital_Scaling_Exponent                     (none)       0\n",
       "19                   Base Employee Salary  base_employee_salary_cost  $MM/yr\n",
       "20         Fixed_Op_Cost_Scaling_Exponent  fixed_op_cost_scaling_exp       0\n",
       "21                             Basis_Year                  base_year       0\n",
       "22          Capital_and_Replacement_Parts      cap_replacement_parts       0\n",
       "23                Catalysts_and_Chemicals        catalysts_chemicals       0\n",
       "24            Labor_and_Other_Fixed_Costs      labor_and_other_fixed       0\n",
       "25                   Consumer_Price_Index       consumer_price_index       0\n",
       "26                Electricity consumption                electricity  kWh/m3\n",
       "27                            Inlet Water                flow_vol_in   m3/hr\n",
       "28                           Outlet Water               flow_vol_out   m3/hr\n",
       "29                             Total Cost                     (none)     $MM\n",
       "30         Fixed Capital Investment (FCI)   capital_investment_total     $MM\n",
       "31                Catalysts and Chemicals    cat_and_chem_cost_total     $MM\n",
       "32                            Electricity     electricity_cost_total     $MM\n",
       "33               Other Variable Operating       other_var_cost_total     $MM\n",
       "34                        Fixed Operating        fixed_op_cost_total     $MM\n",
       "35                        Total Operating       operating_cost_total     $MM\n",
       "36                     Capital Investment  capital_investment_annual  $MM/yr\n",
       "37                Catalysts and Chemicals   cat_and_chem_cost_annual  $MM/yr\n",
       "38                            Electricity    electricity_cost_annual  $MM/yr\n",
       "39               Other Variable Operating      other_var_cost_annual  $MM/yr\n",
       "40                        Fixed Operating       fixed_op_cost_annual  $MM/yr\n",
       "41                   Total Operating Cost      operating_cost_annual  $MM/yr\n",
       "42                         Levelized Cost                       LCOW    $/m3"
      ],
      "text/html": "<div>\n<style scoped>\n    .dataframe tbody tr th:only-of-type {\n        vertical-align: middle;\n    }\n\n    .dataframe tbody tr th {\n        vertical-align: top;\n    }\n\n    .dataframe thead th {\n        text-align: right;\n    }\n</style>\n<table border=\"1\" class=\"dataframe\">\n  <thead>\n    <tr style=\"text-align: right;\">\n      <th></th>\n      <th>Excel_variable</th>\n      <th>Python_variable</th>\n      <th>Unit</th>\n    </tr>\n  </thead>\n  <tbody>\n    <tr>\n      <th>0</th>\n      <td>Fixed Capital Investment (FCI)</td>\n      <td>fixed_cap_inv</td>\n      <td>$MM</td>\n    </tr>\n    <tr>\n      <th>1</th>\n      <td>Land</td>\n      <td>land_cost</td>\n      <td>$MM</td>\n    </tr>\n    <tr>\n      <th>2</th>\n      <td>Working Capital</td>\n      <td>working_cap</td>\n      <td>$MM</td>\n    </tr>\n    <tr>\n      <th>3</th>\n      <td>Total Capital Investment (TCI)</td>\n      <td>total_cap_investment</td>\n      <td>$MM</td>\n    </tr>\n    <tr>\n      <th>4</th>\n      <td>Catalysts and Chemicals</td>\n      <td>cat_and_chem_cost</td>\n      <td>$MM/yr</td>\n    </tr>\n    <tr>\n      <th>5</th>\n      <td>Electricity</td>\n      <td>electricity_cost</td>\n      <td>$MM/yr</td>\n    </tr>\n    <tr>\n      <th>6</th>\n      <td>Fuel and Other Utilities</td>\n      <td>(none)</td>\n      <td>$MM/yr</td>\n    </tr>\n    <tr>\n      <th>7</th>\n      <td>Replacement Parts</td>\n      <td>(none)</td>\n      <td>$MM/yr</td>\n    </tr>\n    <tr>\n      <th>8</th>\n      <td>Other Operating</td>\n      <td>other_var_cost</td>\n      <td>$MM/yr</td>\n    </tr>\n    <tr>\n      <th>9</th>\n      <td>Total Variable Operating</td>\n      <td>(none)</td>\n      <td>$MM/yr</td>\n    </tr>\n    <tr>\n      <th>10</th>\n      <td>Employee Salaries</td>\n      <td>salaries</td>\n      <td>$MM/yr</td>\n    </tr>\n    <tr>\n      <th>11</th>\n      <td>Benefits</td>\n      <td>benefits</td>\n      <td>$MM/yr</td>\n    </tr>\n    <tr>\n      <th>12</th>\n      <td>Maintenance</td>\n      <td>maintenance</td>\n      <td>$MM/yr</td>\n    </tr>\n    <tr>\n      <th>13</th>\n      <td>Laboratory</td>\n      <td>lab</td>\n      <td>$MM/yr</td>\n    </tr>\n    <tr>\n      <th>14</th>\n      <td>Insurance and Taxes</td>\n      <td>insurance_taxes</td>\n      <td>$MM/yr</td>\n    </tr>\n    <tr>\n      <th>15</th>\n      <td>Total Fixed Operating</td>\n      <td>total_fixed_op_cost</td>\n      <td>$MM/yr</td>\n    </tr>\n    <tr>\n      <th>16</th>\n      <td>Capacity_Basis_for_Fixed_Capital_Cost</td>\n      <td>(none)</td>\n      <td>0</td>\n    </tr>\n    <tr>\n      <th>17</th>\n      <td>Base_Fixed_Capital_Cost</td>\n      <td>(none)</td>\n      <td>$MM</td>\n    </tr>\n    <tr>\n      <th>18</th>\n      <td>Capital_Scaling_Exponent</td>\n      <td>(none)</td>\n      <td>0</td>\n    </tr>\n    <tr>\n      <th>19</th>\n      <td>Base Employee Salary</td>\n      <td>base_employee_salary_cost</td>\n      <td>$MM/yr</td>\n    </tr>\n    <tr>\n      <th>20</th>\n      <td>Fixed_Op_Cost_Scaling_Exponent</td>\n      <td>fixed_op_cost_scaling_exp</td>\n      <td>0</td>\n    </tr>\n    <tr>\n      <th>21</th>\n      <td>Basis_Year</td>\n      <td>base_year</td>\n      <td>0</td>\n    </tr>\n    <tr>\n      <th>22</th>\n      <td>Capital_and_Replacement_Parts</td>\n      <td>cap_replacement_parts</td>\n      <td>0</td>\n    </tr>\n    <tr>\n      <th>23</th>\n      <td>Catalysts_and_Chemicals</td>\n      <td>catalysts_chemicals</td>\n      <td>0</td>\n    </tr>\n    <tr>\n      <th>24</th>\n      <td>Labor_and_Other_Fixed_Costs</td>\n      <td>labor_and_other_fixed</td>\n      <td>0</td>\n    </tr>\n    <tr>\n      <th>25</th>\n      <td>Consumer_Price_Index</td>\n      <td>consumer_price_index</td>\n      <td>0</td>\n    </tr>\n    <tr>\n      <th>26</th>\n      <td>Electricity consumption</td>\n      <td>electricity</td>\n      <td>kWh/m3</td>\n    </tr>\n    <tr>\n      <th>27</th>\n      <td>Inlet Water</td>\n      <td>flow_vol_in</td>\n      <td>m3/hr</td>\n    </tr>\n    <tr>\n      <th>28</th>\n      <td>Outlet Water</td>\n      <td>flow_vol_out</td>\n      <td>m3/hr</td>\n    </tr>\n    <tr>\n      <th>29</th>\n      <td>Total Cost</td>\n      <td>(none)</td>\n      <td>$MM</td>\n    </tr>\n    <tr>\n      <th>30</th>\n      <td>Fixed Capital Investment (FCI)</td>\n      <td>capital_investment_total</td>\n      <td>$MM</td>\n    </tr>\n    <tr>\n      <th>31</th>\n      <td>Catalysts and Chemicals</td>\n      <td>cat_and_chem_cost_total</td>\n      <td>$MM</td>\n    </tr>\n    <tr>\n      <th>32</th>\n      <td>Electricity</td>\n      <td>electricity_cost_total</td>\n      <td>$MM</td>\n    </tr>\n    <tr>\n      <th>33</th>\n      <td>Other Variable Operating</td>\n      <td>other_var_cost_total</td>\n      <td>$MM</td>\n    </tr>\n    <tr>\n      <th>34</th>\n      <td>Fixed Operating</td>\n      <td>fixed_op_cost_total</td>\n      <td>$MM</td>\n    </tr>\n    <tr>\n      <th>35</th>\n      <td>Total Operating</td>\n      <td>operating_cost_total</td>\n      <td>$MM</td>\n    </tr>\n    <tr>\n      <th>36</th>\n      <td>Capital Investment</td>\n      <td>capital_investment_annual</td>\n      <td>$MM/yr</td>\n    </tr>\n    <tr>\n      <th>37</th>\n      <td>Catalysts and Chemicals</td>\n      <td>cat_and_chem_cost_annual</td>\n      <td>$MM/yr</td>\n    </tr>\n    <tr>\n      <th>38</th>\n      <td>Electricity</td>\n      <td>electricity_cost_annual</td>\n      <td>$MM/yr</td>\n    </tr>\n    <tr>\n      <th>39</th>\n      <td>Other Variable Operating</td>\n      <td>other_var_cost_annual</td>\n      <td>$MM/yr</td>\n    </tr>\n    <tr>\n      <th>40</th>\n      <td>Fixed Operating</td>\n      <td>fixed_op_cost_annual</td>\n      <td>$MM/yr</td>\n    </tr>\n    <tr>\n      <th>41</th>\n      <td>Total Operating Cost</td>\n      <td>operating_cost_annual</td>\n      <td>$MM/yr</td>\n    </tr>\n    <tr>\n      <th>42</th>\n      <td>Levelized Cost</td>\n      <td>LCOW</td>\n      <td>$/m3</td>\n    </tr>\n  </tbody>\n</table>\n</div>"
     },
     "metadata": {},
     "execution_count": 9
    }
   ],
   "source": [
    "name = pd.read_csv('excel_to_python_names.csv')\n",
    "name "
   ]
  },
  {
   "cell_type": "code",
   "execution_count": null,
   "metadata": {},
   "outputs": [],
   "source": []
  }
 ]
}