{
 "metadata": {
  "language_info": {
   "codemirror_mode": {
    "name": "ipython",
    "version": 3
   },
   "file_extension": ".py",
   "mimetype": "text/x-python",
   "name": "python",
   "nbconvert_exporter": "python",
   "pygments_lexer": "ipython3",
   "version": "3.8.3-final"
  },
  "orig_nbformat": 2,
  "kernelspec": {
   "name": "python3",
   "display_name": "Python 3",
   "language": "python"
  }
 },
 "nbformat": 4,
 "nbformat_minor": 2,
 "cells": [
  {
   "cell_type": "code",
   "execution_count": 16,
   "metadata": {},
   "outputs": [],
   "source": [
    "from jupyter_dash import JupyterDash\n",
    "import dash_daq as daq\n",
    "import dash_core_components as dcc\n",
    "import dash_html_components as html\n",
    "from dash.dependencies import Input, Output, State\n",
    "import plotly.express as px\n",
    "import plotly.graph_objects as go\n",
    "from plotly.subplots import make_subplots\n",
    "import pandas as pd\n",
    "\n",
    "import dash\n",
    "import dash_cytoscape as cyto\n",
    "import dash_html_components as html\n",
    "\n",
    "import networkx as nx\n",
    "from networkx.readwrite import json_graph\n",
    "import matplotlib.pyplot as plt\n",
    "import json"
   ]
  },
  {
   "cell_type": "code",
   "execution_count": 19,
   "metadata": {},
   "outputs": [],
   "source": [
    "filename = './example.json'\n",
    "\n",
    "with open(filename) as f:\n",
    "    js_graph = json.load(f)\n",
    "\n",
    "# transform dict\n",
    "node = js_graph['nodes']\n",
    "link = js_graph['links']\n",
    "for n in node:\n",
    "    n['label']= n['id']\n",
    "new_node = [{'data': i} for i in node]\n",
    "new_link = [{'data':i} for i in link]\n",
    "\n",
    "# get node order\n",
    "node_list = []\n",
    "for n in link:\n",
    "    a = n['source']\n",
    "    b = n['target']\n",
    "    if a not in node_list:\n",
    "        node_list.append(a)\n",
    "    elif b not in node_list:\n",
    "        node_list.append(b)\n",
    "    else:\n",
    "        pass\n",
    "\n",
    "# calculate pos - better solution: dfs algorithm\n",
    "x = 0; y = 0; c1 = 1\n",
    "pos = []\n",
    "for n in node_list: \n",
    "    if ('mixer' in n) or ('spliter' in n): # mix or seperate\n",
    "        x = x + c1*200 \n",
    "        pos.append([n,x,y])\n",
    "        x = x - c1*200\n",
    "        c1 = c1 * (-1)\n",
    "    elif ('discharge' in n) or ('landfill' in n) or ('drinking' in n): # end use\n",
    "        x = x + 200\n",
    "        pos.append([n,x,y])\n",
    "        x = x - 200\n",
    "    else:\n",
    "        y = y + 150\n",
    "        pos.append([n,x,y])\n",
    "\n",
    "# put pos into dict\n",
    "df = pd.DataFrame(pos,columns=['node','x','y'])\n",
    "for i in range(len(df)):\n",
    "    name = new_node[i]['data']['label']\n",
    "    row = df[df['node']==name]\n",
    "    x = row['x'].values[0]\n",
    "    y = row['y'].values[0]\n",
    "    new_node[i]['position'] = {'x': y,'y': x} # change to horizontal\n",
    "\n",
    "both = new_node + new_link"
   ]
  },
  {
   "cell_type": "code",
   "execution_count": 22,
   "metadata": {},
   "outputs": [
    {
     "output_type": "stream",
     "name": "stdout",
     "text": [
      "Dash app running on http://127.0.0.1:8051/\n"
     ]
    }
   ],
   "source": [
    "app = JupyterDash(__name__)\n",
    "\n",
    "app.layout = html.Div([\n",
    "    cyto.Cytoscape(\n",
    "        id='cytoscape-two-nodes',\n",
    "        layout={'name': 'preset'},\n",
    "        style={'width': '90%', 'height': '700px'},\n",
    "        elements=both,\n",
    "        stylesheet=[\n",
    "            {'selector': 'edge','style': {\n",
    "                'curve-style': 'bezier',\n",
    "                'arrow-scale': 2,\n",
    "                'target-arrow-shape': 'triangle'}},\n",
    "            {'selector': 'node','style': {\n",
    "                'label': 'data(id)',\n",
    "                'background-color': '#1E90FF'}},\n",
    "        ],\n",
    "    )\n",
    "])\n",
    "\n",
    "if __name__ == '__main__':\n",
    "    app.run_server(debug=True,port=8051)"
   ]
  },
  {
   "cell_type": "code",
   "execution_count": null,
   "metadata": {},
   "outputs": [],
   "source": []
  },
  {
   "cell_type": "code",
   "execution_count": null,
   "metadata": {},
   "outputs": [],
   "source": []
  },
  {
   "cell_type": "code",
   "execution_count": 19,
   "metadata": {},
   "outputs": [
    {
     "output_type": "display_data",
     "data": {
      "application/vnd.plotly.v1+json": {
       "config": {
        "plotlyServerURL": "https://plot.ly"
       },
       "data": [
        {
         "alignmentgroup": "True",
         "hovertemplate": "smoker=No<br>time=Lunch<br>day=Thur<br>sex=%{x}<br>total_bill=%{y}<extra></extra>",
         "legendgroup": "No",
         "marker": {
          "color": "#636efa"
         },
         "name": "No",
         "offsetgroup": "No",
         "orientation": "v",
         "showlegend": true,
         "textposition": "auto",
         "type": "bar",
         "x": [
          "Male",
          "Male",
          "Male",
          "Male",
          "Female",
          "Male",
          "Female",
          "Male",
          "Male",
          "Male",
          "Male",
          "Female",
          "Female",
          "Female",
          "Male",
          "Female",
          "Male",
          "Male",
          "Female",
          "Female",
          "Male",
          "Female",
          "Female",
          "Male",
          "Male",
          "Female",
          "Female",
          "Female",
          "Female",
          "Female",
          "Female",
          "Female",
          "Female",
          "Female",
          "Male",
          "Male",
          "Female",
          "Female",
          "Female",
          "Female",
          "Female",
          "Male",
          "Male",
          "Male"
         ],
         "xaxis": "x5",
         "y": [
          27.2,
          22.76,
          17.29,
          16.66,
          10.07,
          15.98,
          34.83,
          13.03,
          18.28,
          24.71,
          21.16,
          10.65,
          12.43,
          24.08,
          11.69,
          13.42,
          14.26,
          15.95,
          12.48,
          29.8,
          8.52,
          14.52,
          11.38,
          22.82,
          19.08,
          20.27,
          11.17,
          12.26,
          18.26,
          8.51,
          10.33,
          14.15,
          13.16,
          17.47,
          34.3,
          41.19,
          27.05,
          16.43,
          8.35,
          18.64,
          11.87,
          9.78,
          7.51,
          7.56
         ],
         "yaxis": "y5"
        },
        {
         "alignmentgroup": "True",
         "hovertemplate": "smoker=No<br>time=Lunch<br>day=Fri<br>sex=%{x}<br>total_bill=%{y}<extra></extra>",
         "legendgroup": "No",
         "marker": {
          "color": "#636efa"
         },
         "name": "No",
         "offsetgroup": "No",
         "orientation": "v",
         "showlegend": false,
         "textposition": "auto",
         "type": "bar",
         "x": [
          "Female"
         ],
         "xaxis": "x6",
         "y": [
          15.98
         ],
         "yaxis": "y6"
        },
        {
         "alignmentgroup": "True",
         "hovertemplate": "smoker=No<br>time=Dinner<br>day=Thur<br>sex=%{x}<br>total_bill=%{y}<extra></extra>",
         "legendgroup": "No",
         "marker": {
          "color": "#636efa"
         },
         "name": "No",
         "offsetgroup": "No",
         "orientation": "v",
         "showlegend": false,
         "textposition": "auto",
         "type": "bar",
         "x": [
          "Female"
         ],
         "xaxis": "x",
         "y": [
          18.78
         ],
         "yaxis": "y"
        },
        {
         "alignmentgroup": "True",
         "hovertemplate": "smoker=No<br>time=Dinner<br>day=Fri<br>sex=%{x}<br>total_bill=%{y}<extra></extra>",
         "legendgroup": "No",
         "marker": {
          "color": "#636efa"
         },
         "name": "No",
         "offsetgroup": "No",
         "orientation": "v",
         "showlegend": false,
         "textposition": "auto",
         "type": "bar",
         "x": [
          "Male",
          "Female",
          "Male"
         ],
         "xaxis": "x2",
         "y": [
          22.49,
          22.75,
          12.46
         ],
         "yaxis": "y2"
        },
        {
         "alignmentgroup": "True",
         "hovertemplate": "smoker=No<br>time=Dinner<br>day=Sat<br>sex=%{x}<br>total_bill=%{y}<extra></extra>",
         "legendgroup": "No",
         "marker": {
          "color": "#636efa"
         },
         "name": "No",
         "offsetgroup": "No",
         "orientation": "v",
         "showlegend": false,
         "textposition": "auto",
         "type": "bar",
         "x": [
          "Male",
          "Male",
          "Female",
          "Female",
          "Male",
          "Male",
          "Male",
          "Male",
          "Male",
          "Male",
          "Female",
          "Male",
          "Male",
          "Female",
          "Female",
          "Male",
          "Male",
          "Male",
          "Female",
          "Male",
          "Male",
          "Male",
          "Female",
          "Male",
          "Male",
          "Male",
          "Female",
          "Male",
          "Male",
          "Female",
          "Female",
          "Male",
          "Female",
          "Male",
          "Male",
          "Female",
          "Male",
          "Male",
          "Male",
          "Male",
          "Male",
          "Male",
          "Female",
          "Male",
          "Male"
         ],
         "xaxis": "x3",
         "y": [
          20.65,
          17.92,
          20.29,
          15.77,
          39.42,
          19.82,
          17.81,
          13.37,
          12.69,
          21.7,
          19.65,
          9.55,
          18.35,
          15.06,
          20.69,
          17.78,
          24.06,
          16.31,
          16.93,
          18.69,
          31.27,
          16.04,
          26.41,
          48.27,
          17.59,
          20.08,
          16.45,
          20.23,
          12.02,
          17.07,
          14.73,
          10.51,
          20.92,
          18.24,
          14,
          7.25,
          48.33,
          20.45,
          13.28,
          11.61,
          10.77,
          10.07,
          35.83,
          29.03,
          17.82
         ],
         "yaxis": "y3"
        },
        {
         "alignmentgroup": "True",
         "hovertemplate": "smoker=No<br>time=Dinner<br>day=Sun<br>sex=%{x}<br>total_bill=%{y}<extra></extra>",
         "legendgroup": "No",
         "marker": {
          "color": "#636efa"
         },
         "name": "No",
         "offsetgroup": "No",
         "orientation": "v",
         "showlegend": false,
         "textposition": "auto",
         "type": "bar",
         "x": [
          "Female",
          "Male",
          "Male",
          "Male",
          "Female",
          "Male",
          "Male",
          "Male",
          "Male",
          "Male",
          "Male",
          "Female",
          "Male",
          "Male",
          "Female",
          "Male",
          "Female",
          "Male",
          "Female",
          "Male",
          "Male",
          "Male",
          "Male",
          "Male",
          "Male",
          "Male",
          "Male",
          "Male",
          "Male",
          "Female",
          "Female",
          "Male",
          "Male",
          "Male",
          "Male",
          "Male",
          "Female",
          "Female",
          "Male",
          "Male",
          "Male",
          "Male",
          "Male",
          "Male",
          "Female",
          "Male",
          "Female",
          "Female",
          "Male",
          "Male",
          "Male",
          "Female",
          "Male",
          "Male",
          "Male",
          "Male",
          "Male"
         ],
         "xaxis": "x4",
         "y": [
          16.99,
          10.34,
          21.01,
          23.68,
          24.59,
          25.29,
          8.77,
          26.88,
          15.04,
          14.78,
          10.27,
          35.26,
          15.42,
          18.43,
          14.83,
          21.58,
          10.33,
          16.29,
          16.97,
          17.46,
          13.94,
          9.68,
          30.4,
          18.29,
          22.23,
          32.4,
          28.55,
          18.04,
          12.54,
          10.29,
          34.81,
          9.94,
          25.56,
          19.49,
          38.07,
          23.95,
          25.71,
          17.31,
          29.93,
          14.07,
          13.13,
          17.26,
          24.55,
          19.77,
          29.85,
          48.17,
          25,
          13.39,
          16.49,
          21.5,
          12.66,
          16.21,
          13.81,
          24.52,
          20.76,
          31.71,
          20.69
         ],
         "yaxis": "y4"
        },
        {
         "alignmentgroup": "True",
         "hovertemplate": "smoker=Yes<br>time=Lunch<br>day=Thur<br>sex=%{x}<br>total_bill=%{y}<extra></extra>",
         "legendgroup": "Yes",
         "marker": {
          "color": "#EF553B"
         },
         "name": "Yes",
         "offsetgroup": "Yes",
         "orientation": "v",
         "showlegend": true,
         "textposition": "auto",
         "type": "bar",
         "x": [
          "Male",
          "Male",
          "Male",
          "Female",
          "Male",
          "Male",
          "Male",
          "Male",
          "Female",
          "Female",
          "Male",
          "Male",
          "Female",
          "Female",
          "Female",
          "Male",
          "Female"
         ],
         "xaxis": "x5",
         "y": [
          19.44,
          32.68,
          16,
          19.81,
          28.44,
          15.48,
          16.58,
          10.34,
          43.11,
          13,
          13.51,
          18.71,
          12.74,
          13,
          16.4,
          20.53,
          16.47
         ],
         "yaxis": "y5"
        },
        {
         "alignmentgroup": "True",
         "hovertemplate": "smoker=Yes<br>time=Lunch<br>day=Fri<br>sex=%{x}<br>total_bill=%{y}<extra></extra>",
         "legendgroup": "Yes",
         "marker": {
          "color": "#EF553B"
         },
         "name": "Yes",
         "offsetgroup": "Yes",
         "orientation": "v",
         "showlegend": false,
         "textposition": "auto",
         "type": "bar",
         "x": [
          "Male",
          "Female",
          "Male",
          "Male",
          "Female",
          "Female"
         ],
         "xaxis": "x6",
         "y": [
          12.16,
          13.42,
          8.58,
          13.42,
          16.27,
          10.09
         ],
         "yaxis": "y6"
        },
        {
         "alignmentgroup": "True",
         "hovertemplate": "smoker=Yes<br>time=Dinner<br>day=Fri<br>sex=%{x}<br>total_bill=%{y}<extra></extra>",
         "legendgroup": "Yes",
         "marker": {
          "color": "#EF553B"
         },
         "name": "Yes",
         "offsetgroup": "Yes",
         "orientation": "v",
         "showlegend": false,
         "textposition": "auto",
         "type": "bar",
         "x": [
          "Male",
          "Female",
          "Female",
          "Male",
          "Male",
          "Male",
          "Male",
          "Female",
          "Female"
         ],
         "xaxis": "x2",
         "y": [
          28.97,
          5.75,
          16.32,
          40.17,
          27.28,
          12.03,
          21.01,
          11.35,
          15.38
         ],
         "yaxis": "y2"
        },
        {
         "alignmentgroup": "True",
         "hovertemplate": "smoker=Yes<br>time=Dinner<br>day=Sat<br>sex=%{x}<br>total_bill=%{y}<extra></extra>",
         "legendgroup": "Yes",
         "marker": {
          "color": "#EF553B"
         },
         "name": "Yes",
         "offsetgroup": "Yes",
         "orientation": "v",
         "showlegend": false,
         "textposition": "auto",
         "type": "bar",
         "x": [
          "Male",
          "Male",
          "Male",
          "Male",
          "Male",
          "Male",
          "Female",
          "Male",
          "Female",
          "Female",
          "Male",
          "Female",
          "Female",
          "Male",
          "Male",
          "Male",
          "Female",
          "Female",
          "Female",
          "Male",
          "Male",
          "Male",
          "Male",
          "Male",
          "Female",
          "Male",
          "Male",
          "Female",
          "Female",
          "Female",
          "Male",
          "Male",
          "Male",
          "Female",
          "Female",
          "Male",
          "Male",
          "Male",
          "Male",
          "Male",
          "Female",
          "Male"
         ],
         "xaxis": "x3",
         "y": [
          38.01,
          11.24,
          20.29,
          13.81,
          11.02,
          18.29,
          3.07,
          15.01,
          26.86,
          25.28,
          17.92,
          44.3,
          22.42,
          15.36,
          20.49,
          25.21,
          14.31,
          10.59,
          10.63,
          50.81,
          15.81,
          26.59,
          38.73,
          24.27,
          12.76,
          30.06,
          25.89,
          13.27,
          28.17,
          12.9,
          28.15,
          11.59,
          7.74,
          30.14,
          22.12,
          24.01,
          15.69,
          15.53,
          12.6,
          32.83,
          27.18,
          22.67
         ],
         "yaxis": "y3"
        },
        {
         "alignmentgroup": "True",
         "hovertemplate": "smoker=Yes<br>time=Dinner<br>day=Sun<br>sex=%{x}<br>total_bill=%{y}<extra></extra>",
         "legendgroup": "Yes",
         "marker": {
          "color": "#EF553B"
         },
         "name": "Yes",
         "offsetgroup": "Yes",
         "orientation": "v",
         "showlegend": false,
         "textposition": "auto",
         "type": "bar",
         "x": [
          "Female",
          "Male",
          "Male",
          "Male",
          "Male",
          "Male",
          "Male",
          "Female",
          "Male",
          "Male",
          "Male",
          "Male",
          "Male",
          "Male",
          "Female",
          "Male",
          "Female",
          "Male",
          "Male"
         ],
         "xaxis": "x4",
         "y": [
          17.51,
          7.25,
          31.85,
          16.82,
          32.9,
          17.89,
          14.48,
          9.6,
          34.63,
          34.65,
          23.33,
          45.35,
          23.17,
          40.55,
          20.9,
          30.46,
          18.15,
          23.1,
          15.69
         ],
         "yaxis": "y4"
        }
       ],
       "layout": {
        "annotations": [
         {
          "font": {},
          "showarrow": false,
          "text": "day=Thur",
          "x": 0.11499999999999999,
          "xanchor": "center",
          "xref": "paper",
          "y": 1,
          "yanchor": "bottom",
          "yref": "paper"
         },
         {
          "font": {},
          "showarrow": false,
          "text": "day=Fri",
          "x": 0.365,
          "xanchor": "center",
          "xref": "paper",
          "y": 1,
          "yanchor": "bottom",
          "yref": "paper"
         },
         {
          "font": {},
          "showarrow": false,
          "text": "day=Sat",
          "x": 0.615,
          "xanchor": "center",
          "xref": "paper",
          "y": 1,
          "yanchor": "bottom",
          "yref": "paper"
         },
         {
          "font": {},
          "showarrow": false,
          "text": "day=Sun",
          "x": 0.865,
          "xanchor": "center",
          "xref": "paper",
          "y": 1,
          "yanchor": "bottom",
          "yref": "paper"
         },
         {
          "font": {},
          "showarrow": false,
          "text": "time=Dinner",
          "textangle": 90,
          "x": 0.98,
          "xanchor": "left",
          "xref": "paper",
          "y": 0.2425,
          "yanchor": "middle",
          "yref": "paper"
         },
         {
          "font": {},
          "showarrow": false,
          "text": "time=Lunch",
          "textangle": 90,
          "x": 0.98,
          "xanchor": "left",
          "xref": "paper",
          "y": 0.7575000000000001,
          "yanchor": "middle",
          "yref": "paper"
         }
        ],
        "barmode": "group",
        "legend": {
         "title": {
          "text": "smoker"
         },
         "tracegroupgap": 0
        },
        "margin": {
         "t": 60
        },
        "template": {
         "data": {
          "bar": [
           {
            "error_x": {
             "color": "#2a3f5f"
            },
            "error_y": {
             "color": "#2a3f5f"
            },
            "marker": {
             "line": {
              "color": "#E5ECF6",
              "width": 0.5
             }
            },
            "type": "bar"
           }
          ],
          "barpolar": [
           {
            "marker": {
             "line": {
              "color": "#E5ECF6",
              "width": 0.5
             }
            },
            "type": "barpolar"
           }
          ],
          "carpet": [
           {
            "aaxis": {
             "endlinecolor": "#2a3f5f",
             "gridcolor": "white",
             "linecolor": "white",
             "minorgridcolor": "white",
             "startlinecolor": "#2a3f5f"
            },
            "baxis": {
             "endlinecolor": "#2a3f5f",
             "gridcolor": "white",
             "linecolor": "white",
             "minorgridcolor": "white",
             "startlinecolor": "#2a3f5f"
            },
            "type": "carpet"
           }
          ],
          "choropleth": [
           {
            "colorbar": {
             "outlinewidth": 0,
             "ticks": ""
            },
            "type": "choropleth"
           }
          ],
          "contour": [
           {
            "colorbar": {
             "outlinewidth": 0,
             "ticks": ""
            },
            "colorscale": [
             [
              0,
              "#0d0887"
             ],
             [
              0.1111111111111111,
              "#46039f"
             ],
             [
              0.2222222222222222,
              "#7201a8"
             ],
             [
              0.3333333333333333,
              "#9c179e"
             ],
             [
              0.4444444444444444,
              "#bd3786"
             ],
             [
              0.5555555555555556,
              "#d8576b"
             ],
             [
              0.6666666666666666,
              "#ed7953"
             ],
             [
              0.7777777777777778,
              "#fb9f3a"
             ],
             [
              0.8888888888888888,
              "#fdca26"
             ],
             [
              1,
              "#f0f921"
             ]
            ],
            "type": "contour"
           }
          ],
          "contourcarpet": [
           {
            "colorbar": {
             "outlinewidth": 0,
             "ticks": ""
            },
            "type": "contourcarpet"
           }
          ],
          "heatmap": [
           {
            "colorbar": {
             "outlinewidth": 0,
             "ticks": ""
            },
            "colorscale": [
             [
              0,
              "#0d0887"
             ],
             [
              0.1111111111111111,
              "#46039f"
             ],
             [
              0.2222222222222222,
              "#7201a8"
             ],
             [
              0.3333333333333333,
              "#9c179e"
             ],
             [
              0.4444444444444444,
              "#bd3786"
             ],
             [
              0.5555555555555556,
              "#d8576b"
             ],
             [
              0.6666666666666666,
              "#ed7953"
             ],
             [
              0.7777777777777778,
              "#fb9f3a"
             ],
             [
              0.8888888888888888,
              "#fdca26"
             ],
             [
              1,
              "#f0f921"
             ]
            ],
            "type": "heatmap"
           }
          ],
          "heatmapgl": [
           {
            "colorbar": {
             "outlinewidth": 0,
             "ticks": ""
            },
            "colorscale": [
             [
              0,
              "#0d0887"
             ],
             [
              0.1111111111111111,
              "#46039f"
             ],
             [
              0.2222222222222222,
              "#7201a8"
             ],
             [
              0.3333333333333333,
              "#9c179e"
             ],
             [
              0.4444444444444444,
              "#bd3786"
             ],
             [
              0.5555555555555556,
              "#d8576b"
             ],
             [
              0.6666666666666666,
              "#ed7953"
             ],
             [
              0.7777777777777778,
              "#fb9f3a"
             ],
             [
              0.8888888888888888,
              "#fdca26"
             ],
             [
              1,
              "#f0f921"
             ]
            ],
            "type": "heatmapgl"
           }
          ],
          "histogram": [
           {
            "marker": {
             "colorbar": {
              "outlinewidth": 0,
              "ticks": ""
             }
            },
            "type": "histogram"
           }
          ],
          "histogram2d": [
           {
            "colorbar": {
             "outlinewidth": 0,
             "ticks": ""
            },
            "colorscale": [
             [
              0,
              "#0d0887"
             ],
             [
              0.1111111111111111,
              "#46039f"
             ],
             [
              0.2222222222222222,
              "#7201a8"
             ],
             [
              0.3333333333333333,
              "#9c179e"
             ],
             [
              0.4444444444444444,
              "#bd3786"
             ],
             [
              0.5555555555555556,
              "#d8576b"
             ],
             [
              0.6666666666666666,
              "#ed7953"
             ],
             [
              0.7777777777777778,
              "#fb9f3a"
             ],
             [
              0.8888888888888888,
              "#fdca26"
             ],
             [
              1,
              "#f0f921"
             ]
            ],
            "type": "histogram2d"
           }
          ],
          "histogram2dcontour": [
           {
            "colorbar": {
             "outlinewidth": 0,
             "ticks": ""
            },
            "colorscale": [
             [
              0,
              "#0d0887"
             ],
             [
              0.1111111111111111,
              "#46039f"
             ],
             [
              0.2222222222222222,
              "#7201a8"
             ],
             [
              0.3333333333333333,
              "#9c179e"
             ],
             [
              0.4444444444444444,
              "#bd3786"
             ],
             [
              0.5555555555555556,
              "#d8576b"
             ],
             [
              0.6666666666666666,
              "#ed7953"
             ],
             [
              0.7777777777777778,
              "#fb9f3a"
             ],
             [
              0.8888888888888888,
              "#fdca26"
             ],
             [
              1,
              "#f0f921"
             ]
            ],
            "type": "histogram2dcontour"
           }
          ],
          "mesh3d": [
           {
            "colorbar": {
             "outlinewidth": 0,
             "ticks": ""
            },
            "type": "mesh3d"
           }
          ],
          "parcoords": [
           {
            "line": {
             "colorbar": {
              "outlinewidth": 0,
              "ticks": ""
             }
            },
            "type": "parcoords"
           }
          ],
          "pie": [
           {
            "automargin": true,
            "type": "pie"
           }
          ],
          "scatter": [
           {
            "marker": {
             "colorbar": {
              "outlinewidth": 0,
              "ticks": ""
             }
            },
            "type": "scatter"
           }
          ],
          "scatter3d": [
           {
            "line": {
             "colorbar": {
              "outlinewidth": 0,
              "ticks": ""
             }
            },
            "marker": {
             "colorbar": {
              "outlinewidth": 0,
              "ticks": ""
             }
            },
            "type": "scatter3d"
           }
          ],
          "scattercarpet": [
           {
            "marker": {
             "colorbar": {
              "outlinewidth": 0,
              "ticks": ""
             }
            },
            "type": "scattercarpet"
           }
          ],
          "scattergeo": [
           {
            "marker": {
             "colorbar": {
              "outlinewidth": 0,
              "ticks": ""
             }
            },
            "type": "scattergeo"
           }
          ],
          "scattergl": [
           {
            "marker": {
             "colorbar": {
              "outlinewidth": 0,
              "ticks": ""
             }
            },
            "type": "scattergl"
           }
          ],
          "scattermapbox": [
           {
            "marker": {
             "colorbar": {
              "outlinewidth": 0,
              "ticks": ""
             }
            },
            "type": "scattermapbox"
           }
          ],
          "scatterpolar": [
           {
            "marker": {
             "colorbar": {
              "outlinewidth": 0,
              "ticks": ""
             }
            },
            "type": "scatterpolar"
           }
          ],
          "scatterpolargl": [
           {
            "marker": {
             "colorbar": {
              "outlinewidth": 0,
              "ticks": ""
             }
            },
            "type": "scatterpolargl"
           }
          ],
          "scatterternary": [
           {
            "marker": {
             "colorbar": {
              "outlinewidth": 0,
              "ticks": ""
             }
            },
            "type": "scatterternary"
           }
          ],
          "surface": [
           {
            "colorbar": {
             "outlinewidth": 0,
             "ticks": ""
            },
            "colorscale": [
             [
              0,
              "#0d0887"
             ],
             [
              0.1111111111111111,
              "#46039f"
             ],
             [
              0.2222222222222222,
              "#7201a8"
             ],
             [
              0.3333333333333333,
              "#9c179e"
             ],
             [
              0.4444444444444444,
              "#bd3786"
             ],
             [
              0.5555555555555556,
              "#d8576b"
             ],
             [
              0.6666666666666666,
              "#ed7953"
             ],
             [
              0.7777777777777778,
              "#fb9f3a"
             ],
             [
              0.8888888888888888,
              "#fdca26"
             ],
             [
              1,
              "#f0f921"
             ]
            ],
            "type": "surface"
           }
          ],
          "table": [
           {
            "cells": {
             "fill": {
              "color": "#EBF0F8"
             },
             "line": {
              "color": "white"
             }
            },
            "header": {
             "fill": {
              "color": "#C8D4E3"
             },
             "line": {
              "color": "white"
             }
            },
            "type": "table"
           }
          ]
         },
         "layout": {
          "annotationdefaults": {
           "arrowcolor": "#2a3f5f",
           "arrowhead": 0,
           "arrowwidth": 1
          },
          "autotypenumbers": "strict",
          "coloraxis": {
           "colorbar": {
            "outlinewidth": 0,
            "ticks": ""
           }
          },
          "colorscale": {
           "diverging": [
            [
             0,
             "#8e0152"
            ],
            [
             0.1,
             "#c51b7d"
            ],
            [
             0.2,
             "#de77ae"
            ],
            [
             0.3,
             "#f1b6da"
            ],
            [
             0.4,
             "#fde0ef"
            ],
            [
             0.5,
             "#f7f7f7"
            ],
            [
             0.6,
             "#e6f5d0"
            ],
            [
             0.7,
             "#b8e186"
            ],
            [
             0.8,
             "#7fbc41"
            ],
            [
             0.9,
             "#4d9221"
            ],
            [
             1,
             "#276419"
            ]
           ],
           "sequential": [
            [
             0,
             "#0d0887"
            ],
            [
             0.1111111111111111,
             "#46039f"
            ],
            [
             0.2222222222222222,
             "#7201a8"
            ],
            [
             0.3333333333333333,
             "#9c179e"
            ],
            [
             0.4444444444444444,
             "#bd3786"
            ],
            [
             0.5555555555555556,
             "#d8576b"
            ],
            [
             0.6666666666666666,
             "#ed7953"
            ],
            [
             0.7777777777777778,
             "#fb9f3a"
            ],
            [
             0.8888888888888888,
             "#fdca26"
            ],
            [
             1,
             "#f0f921"
            ]
           ],
           "sequentialminus": [
            [
             0,
             "#0d0887"
            ],
            [
             0.1111111111111111,
             "#46039f"
            ],
            [
             0.2222222222222222,
             "#7201a8"
            ],
            [
             0.3333333333333333,
             "#9c179e"
            ],
            [
             0.4444444444444444,
             "#bd3786"
            ],
            [
             0.5555555555555556,
             "#d8576b"
            ],
            [
             0.6666666666666666,
             "#ed7953"
            ],
            [
             0.7777777777777778,
             "#fb9f3a"
            ],
            [
             0.8888888888888888,
             "#fdca26"
            ],
            [
             1,
             "#f0f921"
            ]
           ]
          },
          "colorway": [
           "#636efa",
           "#EF553B",
           "#00cc96",
           "#ab63fa",
           "#FFA15A",
           "#19d3f3",
           "#FF6692",
           "#B6E880",
           "#FF97FF",
           "#FECB52"
          ],
          "font": {
           "color": "#2a3f5f"
          },
          "geo": {
           "bgcolor": "white",
           "lakecolor": "white",
           "landcolor": "#E5ECF6",
           "showlakes": true,
           "showland": true,
           "subunitcolor": "white"
          },
          "hoverlabel": {
           "align": "left"
          },
          "hovermode": "closest",
          "mapbox": {
           "style": "light"
          },
          "paper_bgcolor": "white",
          "plot_bgcolor": "#E5ECF6",
          "polar": {
           "angularaxis": {
            "gridcolor": "white",
            "linecolor": "white",
            "ticks": ""
           },
           "bgcolor": "#E5ECF6",
           "radialaxis": {
            "gridcolor": "white",
            "linecolor": "white",
            "ticks": ""
           }
          },
          "scene": {
           "xaxis": {
            "backgroundcolor": "#E5ECF6",
            "gridcolor": "white",
            "gridwidth": 2,
            "linecolor": "white",
            "showbackground": true,
            "ticks": "",
            "zerolinecolor": "white"
           },
           "yaxis": {
            "backgroundcolor": "#E5ECF6",
            "gridcolor": "white",
            "gridwidth": 2,
            "linecolor": "white",
            "showbackground": true,
            "ticks": "",
            "zerolinecolor": "white"
           },
           "zaxis": {
            "backgroundcolor": "#E5ECF6",
            "gridcolor": "white",
            "gridwidth": 2,
            "linecolor": "white",
            "showbackground": true,
            "ticks": "",
            "zerolinecolor": "white"
           }
          },
          "shapedefaults": {
           "line": {
            "color": "#2a3f5f"
           }
          },
          "ternary": {
           "aaxis": {
            "gridcolor": "white",
            "linecolor": "white",
            "ticks": ""
           },
           "baxis": {
            "gridcolor": "white",
            "linecolor": "white",
            "ticks": ""
           },
           "bgcolor": "#E5ECF6",
           "caxis": {
            "gridcolor": "white",
            "linecolor": "white",
            "ticks": ""
           }
          },
          "title": {
           "x": 0.05
          },
          "xaxis": {
           "automargin": true,
           "gridcolor": "white",
           "linecolor": "white",
           "ticks": "",
           "title": {
            "standoff": 15
           },
           "zerolinecolor": "white",
           "zerolinewidth": 2
          },
          "yaxis": {
           "automargin": true,
           "gridcolor": "white",
           "linecolor": "white",
           "ticks": "",
           "title": {
            "standoff": 15
           },
           "zerolinecolor": "white",
           "zerolinewidth": 2
          }
         }
        },
        "xaxis": {
         "anchor": "y",
         "domain": [
          0,
          0.22999999999999998
         ],
         "title": {
          "text": "sex"
         }
        },
        "xaxis2": {
         "anchor": "y2",
         "domain": [
          0.24999999999999997,
          0.48
         ],
         "matches": "x",
         "title": {
          "text": "sex"
         }
        },
        "xaxis3": {
         "anchor": "y3",
         "domain": [
          0.49999999999999994,
          0.73
         ],
         "matches": "x",
         "title": {
          "text": "sex"
         }
        },
        "xaxis4": {
         "anchor": "y4",
         "domain": [
          0.75,
          0.98
         ],
         "matches": "x",
         "title": {
          "text": "sex"
         }
        },
        "xaxis5": {
         "anchor": "y5",
         "domain": [
          0,
          0.22999999999999998
         ],
         "matches": "x",
         "showticklabels": false
        },
        "xaxis6": {
         "anchor": "y6",
         "domain": [
          0.24999999999999997,
          0.48
         ],
         "matches": "x",
         "showticklabels": false
        },
        "xaxis7": {
         "anchor": "y7",
         "domain": [
          0.49999999999999994,
          0.73
         ],
         "matches": "x",
         "showticklabels": false
        },
        "xaxis8": {
         "anchor": "y8",
         "domain": [
          0.75,
          0.98
         ],
         "matches": "x",
         "showticklabels": false
        },
        "yaxis": {
         "anchor": "x",
         "domain": [
          0,
          0.485
         ],
         "title": {
          "text": "total_bill"
         }
        },
        "yaxis2": {
         "anchor": "x2",
         "domain": [
          0,
          0.485
         ],
         "matches": "y",
         "showticklabels": false
        },
        "yaxis3": {
         "anchor": "x3",
         "domain": [
          0,
          0.485
         ],
         "matches": "y",
         "showticklabels": false
        },
        "yaxis4": {
         "anchor": "x4",
         "domain": [
          0,
          0.485
         ],
         "matches": "y",
         "showticklabels": false
        },
        "yaxis5": {
         "anchor": "x5",
         "domain": [
          0.515,
          1
         ],
         "matches": "y",
         "title": {
          "text": "total_bill"
         }
        },
        "yaxis6": {
         "anchor": "x6",
         "domain": [
          0.515,
          1
         ],
         "matches": "y",
         "showticklabels": false
        },
        "yaxis7": {
         "anchor": "x7",
         "domain": [
          0.515,
          1
         ],
         "matches": "y",
         "showticklabels": false
        },
        "yaxis8": {
         "anchor": "x8",
         "domain": [
          0.515,
          1
         ],
         "matches": "y",
         "showticklabels": false
        }
       }
      }
     },
     "metadata": {}
    }
   ],
   "source": [
    "df = px.data.tips()\n",
    "fig = px.bar(df, x=\"sex\", y=\"total_bill\", color=\"smoker\", barmode=\"group\",\n",
    "             facet_row=\"time\", facet_col=\"day\",\n",
    "             category_orders={\"day\": [\"Thur\", \"Fri\", \"Sat\", \"Sun\"],\n",
    "                              \"time\": [\"Lunch\", \"Dinner\"]})\n",
    "fig.show()"
   ]
  },
  {
   "cell_type": "code",
   "execution_count": 49,
   "metadata": {},
   "outputs": [],
   "source": [
    "df2 = pd.read_csv('./CarlsbadCompare.csv',index_col=0)\n",
    "df3 = df2[df2['Metric'].isin(['Cost', 'Annual Cost'])]"
   ]
  },
  {
   "cell_type": "code",
   "execution_count": 109,
   "metadata": {},
   "outputs": [],
   "source": [
    "df3['id'] = df3['Case Study']+' - '+ df3['Scenario']\n",
    "pivot = pd.pivot_table(df3, values='Value', index=['Unit Process Name','Variable','Metric'], columns='id').reset_index()\n",
    "\n",
    "df1 = pivot[['Unit Process Name','Variable','Metric','Carlsbad - Baseline']]\n",
    "df2 = pivot[['Unit Process Name','Variable','Metric','Carlsbad - TwoPassRO']]\n",
    "df1.rename(columns={'Carlsbad - Baseline':'Value'},inplace=True)\n",
    "df2.rename(columns={'Carlsbad - TwoPassRO':'Value'},inplace=True)\n",
    "\n",
    "df1_c = df1[df1['Metric']=='Cost']\n",
    "df1_ac = df1[df1['Metric']=='Annual Cost']\n",
    "df2_c = df1[df2['Metric']=='Cost']\n",
    "df2_ac = df1[df2['Metric']=='Annual Cost']\n",
    "\n",
    "fig = make_subplots(specs=[[{\"secondary_y\": True}]])\n",
    "\n",
    "for var, group in df1_c.groupby('Variable'):\n",
    "    fig.add_trace(go.Bar(x=group['Unit Process Name'], y=group['Value'], width=0.1, name='s1 -%s - %s'%('metric 1',var), offset=-0.2))\n",
    "\n",
    "for var, group in df2_c.groupby('Variable'):\n",
    "    fig.add_trace(go.Bar(x=group['Unit Process Name'], y=group['Value'], width=0.1, base=0, name='s2 -%s - %s'%('metric 2',var), offset=-0.1))\n",
    "    \n",
    "for var, group in df1_ac.groupby('Variable'):\n",
    "    fig.add_trace(go.Bar(x=group['Unit Process Name'], y=group['Value'], width=0.1, name='s1 - %s - %s'%('metric 1',var), offset=0.05, marker_line_color='#595959', opacity=0.6), secondary_y=True)\n",
    "\n",
    "for var, group in df2_ac.groupby('Variable'):\n",
    "    fig.add_trace(go.Bar(x=group['Unit Process Name'], y=group['Value'], width=0.1, base=0, name='s2 -%s - %s'%('metric 2',var), offset=0.15, marker_line_color='#595959', opacity=0.6), secondary_y=True)\n",
    "\n",
    "fig.update_layout(barmode='stack', width=1600, height=400)\n",
    "fig.show()"
   ]
  },
  {
   "cell_type": "code",
   "execution_count": 1,
   "metadata": {},
   "outputs": [],
   "source": [
    "l1 = ['a','b','c','d']\n",
    "l2 = [6,7,8,9]\n",
    "\n",
    "d3 = dict(zip(l1,l2))"
   ]
  },
  {
   "cell_type": "code",
   "execution_count": 2,
   "metadata": {},
   "outputs": [
    {
     "output_type": "execute_result",
     "data": {
      "text/plain": [
       "{'a': 6, 'b': 7, 'c': 8, 'd': 9}"
      ]
     },
     "metadata": {},
     "execution_count": 2
    }
   ],
   "source": [
    "d3"
   ]
  },
  {
   "cell_type": "code",
   "execution_count": 3,
   "metadata": {},
   "outputs": [],
   "source": [
    "d4 = {'a': 1, 'b': 2, 'c': 3}"
   ]
  },
  {
   "cell_type": "code",
   "execution_count": 10,
   "metadata": {},
   "outputs": [
    {
     "output_type": "execute_result",
     "data": {
      "text/plain": [
       "[7, 11]"
      ]
     },
     "metadata": {},
     "execution_count": 10
    }
   ],
   "source": [
    "[d3[i]+d4[i] for i in ['a','c']]"
   ]
  },
  {
   "cell_type": "code",
   "execution_count": 8,
   "metadata": {},
   "outputs": [
    {
     "output_type": "execute_result",
     "data": {
      "text/plain": [
       "['a', 'b', 'c']"
      ]
     },
     "metadata": {},
     "execution_count": 8
    }
   ],
   "source": [
    "list(d4.keys())"
   ]
  },
  {
   "cell_type": "code",
   "execution_count": 11,
   "metadata": {},
   "outputs": [
    {
     "output_type": "execute_result",
     "data": {
      "text/plain": [
       "[7, 9, 11]"
      ]
     },
     "metadata": {},
     "execution_count": 11
    }
   ],
   "source": [
    "[d3[i] + d4[i] for i in list(d4.keys())]"
   ]
  },
  {
   "cell_type": "code",
   "execution_count": null,
   "metadata": {},
   "outputs": [],
   "source": []
  },
  {
   "cell_type": "code",
   "execution_count": 146,
   "metadata": {},
   "outputs": [
    {
     "output_type": "display_data",
     "data": {
      "application/vnd.plotly.v1+json": {
       "config": {
        "plotlyServerURL": "https://plot.ly"
       },
       "data": [
        {
         "name": "s1 -metric 1 - Fixed Capital Investment (FCI)",
         "offset": -0.1,
         "type": "bar",
         "width": 0.2,
         "x": [
          "ammonia_addition",
          "backwash_solids_handling",
          "cartridge_filtration",
          "chlorination_twb",
          "co2_addition",
          "coag_and_floc",
          "landfill",
          "lime_softening",
          "municipal_drinking",
          "ro_deep",
          "ro_deep_scnd_pass",
          "sodium_bisulfite_addition",
          "sulfuric_acid_addition",
          "surface_discharge",
          "sw_onshore_intake",
          "treated_storage_24_hr",
          "tri_media_filtration"
         ],
         "y": [
          0.809,
          14.723,
          11.987,
          9.427,
          7.744,
          11.766,
          0.007,
          52.714,
          4.364,
          264.575,
          null,
          0.419,
          0.418,
          28.559,
          20.98,
          12.115,
          12.751
         ]
        },
        {
         "name": "s1 -metric 1 - Land",
         "offset": -0.1,
         "type": "bar",
         "width": 0.2,
         "x": [
          "ammonia_addition",
          "backwash_solids_handling",
          "cartridge_filtration",
          "chlorination_twb",
          "co2_addition",
          "coag_and_floc",
          "landfill",
          "lime_softening",
          "municipal_drinking",
          "ro_deep",
          "ro_deep_scnd_pass",
          "sodium_bisulfite_addition",
          "sulfuric_acid_addition",
          "surface_discharge",
          "sw_onshore_intake",
          "treated_storage_24_hr",
          "tri_media_filtration"
         ],
         "y": [
          0.001,
          0.022,
          0.018,
          0.014,
          0.012,
          0.018,
          0,
          0.079,
          0.007,
          0.397,
          null,
          0.001,
          0.001,
          0.043,
          0.031,
          0.018,
          0.019
         ]
        },
        {
         "name": "s1 -metric 1 - System Catalysts and Chemicals",
         "offset": -0.1,
         "type": "bar",
         "width": 0.2,
         "x": [
          "System"
         ],
         "y": [
          61.09
         ]
        },
        {
         "name": "s1 -metric 1 - System Electricity",
         "offset": -0.1,
         "type": "bar",
         "width": 0.2,
         "x": [
          "System"
         ],
         "y": [
          890.635
         ]
        },
        {
         "name": "s1 -metric 1 - System Fixed Capital Investment (FCI)",
         "offset": -0.1,
         "type": "bar",
         "width": 0.2,
         "x": [
          "System"
         ],
         "y": [
          476.707
         ]
        },
        {
         "name": "s1 -metric 1 - System Fixed Operating",
         "offset": -0.1,
         "type": "bar",
         "width": 0.2,
         "x": [
          "System"
         ],
         "y": [
          134.79
         ]
        },
        {
         "name": "s1 -metric 1 - System Other Variable Operating",
         "offset": -0.1,
         "type": "bar",
         "width": 0.2,
         "x": [
          "System"
         ],
         "y": [
          0
         ]
        },
        {
         "name": "s1 -metric 1 - System Total Operating",
         "offset": -0.1,
         "type": "bar",
         "width": 0.2,
         "x": [
          "System"
         ],
         "y": [
          1221.305
         ]
        },
        {
         "name": "s1 -metric 1 - Total Capital Investment (TCI)",
         "offset": -0.1,
         "type": "bar",
         "width": 0.2,
         "x": [
          "ammonia_addition",
          "backwash_solids_handling",
          "cartridge_filtration",
          "chlorination_twb",
          "co2_addition",
          "coag_and_floc",
          "landfill",
          "lime_softening",
          "municipal_drinking",
          "ro_deep",
          "ro_deep_scnd_pass",
          "sodium_bisulfite_addition",
          "sulfuric_acid_addition",
          "surface_discharge",
          "sw_onshore_intake",
          "treated_storage_24_hr",
          "tri_media_filtration"
         ],
         "y": [
          0.851,
          15.482,
          12.605,
          9.912,
          8.143,
          12.372,
          0.008,
          55.429,
          4.589,
          278.2,
          null,
          0.44,
          0.44,
          30.03,
          22.061,
          12.739,
          13.408
         ]
        },
        {
         "name": "s1 -metric 1 - Total Unit Cost",
         "offset": -0.1,
         "type": "bar",
         "width": 0.2,
         "x": [
          "ammonia_addition",
          "backwash_solids_handling",
          "cartridge_filtration",
          "chlorination_twb",
          "co2_addition",
          "coag_and_floc",
          "landfill",
          "lime_softening",
          "municipal_drinking",
          "ro_deep",
          "ro_deep_scnd_pass",
          "sodium_bisulfite_addition",
          "sulfuric_acid_addition",
          "surface_discharge",
          "sw_onshore_intake",
          "treated_storage_24_hr",
          "tri_media_filtration"
         ],
         "y": [
          0.863,
          15.948,
          12.785,
          10.32,
          8.359,
          13.654,
          0.008,
          57.095,
          7.755,
          315.835,
          null,
          1.197,
          0.696,
          31.447,
          24.358,
          12.871,
          17.842
         ]
        },
        {
         "name": "s1 -metric 1 - Working Capital",
         "offset": -0.1,
         "type": "bar",
         "width": 0.2,
         "x": [
          "ammonia_addition",
          "backwash_solids_handling",
          "cartridge_filtration",
          "chlorination_twb",
          "co2_addition",
          "coag_and_floc",
          "landfill",
          "lime_softening",
          "municipal_drinking",
          "ro_deep",
          "ro_deep_scnd_pass",
          "sodium_bisulfite_addition",
          "sulfuric_acid_addition",
          "surface_discharge",
          "sw_onshore_intake",
          "treated_storage_24_hr",
          "tri_media_filtration"
         ],
         "y": [
          0.04,
          0.736,
          0.599,
          0.471,
          0.387,
          0.588,
          0,
          2.636,
          0.218,
          13.229,
          null,
          0.021,
          0.021,
          1.428,
          1.049,
          0.606,
          0.638
         ]
        },
        {
         "marker": {
          "color": "#1E90FF"
         },
         "mode": "markers",
         "name": "s1 - metric 1 - Base Employee Salary",
         "stackgroup": "True",
         "type": "scatter",
         "x": [
          "ammonia_addition",
          "backwash_solids_handling",
          "cartridge_filtration",
          "chlorination_twb",
          "co2_addition",
          "coag_and_floc",
          "landfill",
          "lime_softening",
          "municipal_drinking",
          "ro_deep",
          "ro_deep_scnd_pass",
          "sodium_bisulfite_addition",
          "sulfuric_acid_addition",
          "surface_discharge",
          "sw_onshore_intake",
          "treated_storage_24_hr",
          "tri_media_filtration"
         ],
         "xaxis": "x",
         "y": [
          0.001,
          0.012,
          0.011,
          0.009,
          0.008,
          0.012,
          0,
          0.053,
          0.004,
          0.222,
          null,
          0,
          0,
          0.029,
          0.02,
          0.01,
          0.012
         ],
         "yaxis": "y2"
        },
        {
         "marker": {
          "color": "#1E90FF"
         },
         "mode": "markers",
         "name": "s1 - metric 1 - Benefits",
         "stackgroup": "True",
         "type": "scatter",
         "x": [
          "ammonia_addition",
          "backwash_solids_handling",
          "cartridge_filtration",
          "chlorination_twb",
          "co2_addition",
          "coag_and_floc",
          "landfill",
          "lime_softening",
          "municipal_drinking",
          "ro_deep",
          "ro_deep_scnd_pass",
          "sodium_bisulfite_addition",
          "sulfuric_acid_addition",
          "surface_discharge",
          "sw_onshore_intake",
          "treated_storage_24_hr",
          "tri_media_filtration"
         ],
         "xaxis": "x",
         "y": [
          0.001,
          0.014,
          0.011,
          0.009,
          0.007,
          0.011,
          0,
          0.047,
          0.004,
          0.251,
          null,
          0,
          0,
          0.026,
          0.019,
          0.011,
          0.012
         ],
         "yaxis": "y2"
        },
        {
         "marker": {
          "color": "#1E90FF"
         },
         "mode": "markers",
         "name": "s1 - metric 1 - Catalysts and Chemicals",
         "stackgroup": "True",
         "type": "scatter",
         "x": [
          "ammonia_addition",
          "backwash_solids_handling",
          "cartridge_filtration",
          "chlorination_twb",
          "co2_addition",
          "coag_and_floc",
          "landfill",
          "lime_softening",
          "municipal_drinking",
          "ro_deep",
          "ro_deep_scnd_pass",
          "sodium_bisulfite_addition",
          "sulfuric_acid_addition",
          "surface_discharge",
          "sw_onshore_intake",
          "treated_storage_24_hr",
          "tri_media_filtration"
         ],
         "xaxis": "x",
         "y": [
          0,
          0,
          0,
          0.266,
          0,
          1.009,
          0,
          0.779,
          0,
          0,
          null,
          0.75,
          0.25,
          0,
          0,
          0,
          0
         ],
         "yaxis": "y2"
        },
        {
         "marker": {
          "color": "#1E90FF"
         },
         "mode": "markers",
         "name": "s1 - metric 1 - Electricity",
         "stackgroup": "True",
         "type": "scatter",
         "x": [
          "ammonia_addition",
          "backwash_solids_handling",
          "cartridge_filtration",
          "chlorination_twb",
          "co2_addition",
          "coag_and_floc",
          "landfill",
          "lime_softening",
          "municipal_drinking",
          "ro_deep",
          "ro_deep_scnd_pass",
          "sodium_bisulfite_addition",
          "sulfuric_acid_addition",
          "surface_discharge",
          "sw_onshore_intake",
          "treated_storage_24_hr",
          "tri_media_filtration"
         ],
         "xaxis": "x",
         "y": [
          0,
          0.245,
          0,
          0,
          0.101,
          0.098,
          0,
          0.101,
          3.101,
          33.665,
          null,
          0,
          0,
          0.992,
          1.985,
          0,
          4.243
         ],
         "yaxis": "y2"
        },
        {
         "marker": {
          "color": "#1E90FF"
         },
         "mode": "markers",
         "name": "s1 - metric 1 - Employee Salaries",
         "stackgroup": "True",
         "type": "scatter",
         "x": [
          "ammonia_addition",
          "backwash_solids_handling",
          "cartridge_filtration",
          "chlorination_twb",
          "co2_addition",
          "coag_and_floc",
          "landfill",
          "lime_softening",
          "municipal_drinking",
          "ro_deep",
          "ro_deep_scnd_pass",
          "sodium_bisulfite_addition",
          "sulfuric_acid_addition",
          "surface_discharge",
          "sw_onshore_intake",
          "treated_storage_24_hr",
          "tri_media_filtration"
         ],
         "xaxis": "x",
         "y": [
          0.001,
          0.016,
          0.013,
          0.01,
          0.008,
          0.012,
          0,
          0.053,
          0.004,
          0.279,
          null,
          0,
          0,
          0.029,
          0.021,
          0.012,
          0.013
         ],
         "yaxis": "y2"
        },
        {
         "marker": {
          "color": "#1E90FF"
         },
         "mode": "markers",
         "name": "s1 - metric 1 - Insurance and Taxes",
         "stackgroup": "True",
         "type": "scatter",
         "x": [
          "ammonia_addition",
          "backwash_solids_handling",
          "cartridge_filtration",
          "chlorination_twb",
          "co2_addition",
          "coag_and_floc",
          "landfill",
          "lime_softening",
          "municipal_drinking",
          "ro_deep",
          "ro_deep_scnd_pass",
          "sodium_bisulfite_addition",
          "sulfuric_acid_addition",
          "surface_discharge",
          "sw_onshore_intake",
          "treated_storage_24_hr",
          "tri_media_filtration"
         ],
         "xaxis": "x",
         "y": [
          0.002,
          0.029,
          0.024,
          0.019,
          0.015,
          0.024,
          0,
          0.105,
          0.009,
          0.529,
          null,
          0.001,
          0.001,
          0.057,
          0.042,
          0.024,
          0.026
         ],
         "yaxis": "y2"
        },
        {
         "marker": {
          "color": "#1E90FF"
         },
         "mode": "markers",
         "name": "s1 - metric 1 - Laboratory",
         "stackgroup": "True",
         "type": "scatter",
         "x": [
          "ammonia_addition",
          "backwash_solids_handling",
          "cartridge_filtration",
          "chlorination_twb",
          "co2_addition",
          "coag_and_floc",
          "landfill",
          "lime_softening",
          "municipal_drinking",
          "ro_deep",
          "ro_deep_scnd_pass",
          "sodium_bisulfite_addition",
          "sulfuric_acid_addition",
          "surface_discharge",
          "sw_onshore_intake",
          "treated_storage_24_hr",
          "tri_media_filtration"
         ],
         "xaxis": "x",
         "y": [
          0.002,
          0.044,
          0.036,
          0.028,
          0.023,
          0.035,
          0,
          0.158,
          0.013,
          0.794,
          null,
          0.001,
          0.001,
          0.086,
          0.063,
          0.036,
          0.038
         ],
         "yaxis": "y2"
        },
        {
         "marker": {
          "color": "#1E90FF"
         },
         "mode": "markers",
         "name": "s1 - metric 1 - Maintenance",
         "stackgroup": "True",
         "type": "scatter",
         "x": [
          "ammonia_addition",
          "backwash_solids_handling",
          "cartridge_filtration",
          "chlorination_twb",
          "co2_addition",
          "coag_and_floc",
          "landfill",
          "lime_softening",
          "municipal_drinking",
          "ro_deep",
          "ro_deep_scnd_pass",
          "sodium_bisulfite_addition",
          "sulfuric_acid_addition",
          "surface_discharge",
          "sw_onshore_intake",
          "treated_storage_24_hr",
          "tri_media_filtration"
         ],
         "xaxis": "x",
         "y": [
          0.006,
          0.118,
          0.096,
          0.075,
          0.062,
          0.094,
          0,
          0.422,
          0.035,
          2.117,
          null,
          0.003,
          0.003,
          0.228,
          0.168,
          0.049,
          0.102
         ],
         "yaxis": "y2"
        },
        {
         "marker": {
          "color": "#1E90FF"
         },
         "mode": "markers",
         "name": "s1 - metric 1 - Other Operating",
         "stackgroup": "True",
         "type": "scatter",
         "x": [
          "ammonia_addition",
          "backwash_solids_handling",
          "cartridge_filtration",
          "chlorination_twb",
          "co2_addition",
          "coag_and_floc",
          "landfill",
          "lime_softening",
          "municipal_drinking",
          "ro_deep",
          "ro_deep_scnd_pass",
          "sodium_bisulfite_addition",
          "sulfuric_acid_addition",
          "surface_discharge",
          "sw_onshore_intake",
          "treated_storage_24_hr",
          "tri_media_filtration"
         ],
         "xaxis": "x",
         "y": [
          0,
          0,
          0,
          0,
          0,
          0,
          0,
          0,
          0,
          0,
          null,
          0,
          0,
          0,
          0,
          0,
          0
         ],
         "yaxis": "y2"
        },
        {
         "marker": {
          "color": "#1E90FF"
         },
         "mode": "markers",
         "name": "s1 - metric 1 - System Capital Investment",
         "stackgroup": "True",
         "type": "scatter",
         "x": [
          "System"
         ],
         "xaxis": "x",
         "y": [
          476.707
         ],
         "yaxis": "y2"
        },
        {
         "marker": {
          "color": "#1E90FF"
         },
         "mode": "markers",
         "name": "s1 - metric 1 - System Catalysts and Chemicals",
         "stackgroup": "True",
         "type": "scatter",
         "x": [
          "System"
         ],
         "xaxis": "x",
         "y": [
          3.054
         ],
         "yaxis": "y2"
        },
        {
         "marker": {
          "color": "#1E90FF"
         },
         "mode": "markers",
         "name": "s1 - metric 1 - System Electricity",
         "stackgroup": "True",
         "type": "scatter",
         "x": [
          "System"
         ],
         "xaxis": "x",
         "y": [
          44.532
         ],
         "yaxis": "y2"
        },
        {
         "marker": {
          "color": "#1E90FF"
         },
         "mode": "markers",
         "name": "s1 - metric 1 - System Fixed Operating",
         "stackgroup": "True",
         "type": "scatter",
         "x": [
          "System"
         ],
         "xaxis": "x",
         "y": [
          6.74
         ],
         "yaxis": "y2"
        },
        {
         "marker": {
          "color": "#1E90FF"
         },
         "mode": "markers",
         "name": "s1 - metric 1 - System Other Variable Operating",
         "stackgroup": "True",
         "type": "scatter",
         "x": [
          "System"
         ],
         "xaxis": "x",
         "y": [
          0
         ],
         "yaxis": "y2"
        },
        {
         "marker": {
          "color": "#1E90FF"
         },
         "mode": "markers",
         "name": "s1 - metric 1 - System Total Operating Cost",
         "stackgroup": "True",
         "type": "scatter",
         "x": [
          "System"
         ],
         "xaxis": "x",
         "y": [
          61.065
         ],
         "yaxis": "y2"
        },
        {
         "marker": {
          "color": "#1E90FF"
         },
         "mode": "markers",
         "name": "s1 - metric 1 - Total Fixed Operating ",
         "stackgroup": "True",
         "type": "scatter",
         "x": [
          "ammonia_addition",
          "backwash_solids_handling",
          "cartridge_filtration",
          "chlorination_twb",
          "co2_addition",
          "coag_and_floc",
          "landfill",
          "lime_softening",
          "municipal_drinking",
          "ro_deep",
          "ro_deep_scnd_pass",
          "sodium_bisulfite_addition",
          "sulfuric_acid_addition",
          "surface_discharge",
          "sw_onshore_intake",
          "treated_storage_24_hr",
          "tri_media_filtration"
         ],
         "xaxis": "x",
         "y": [
          0.012,
          0.221,
          0.18,
          0.141,
          0.115,
          0.175,
          0,
          0.785,
          0.065,
          3.97,
          null,
          0.006,
          0.006,
          0.426,
          0.313,
          0.132,
          0.191
         ],
         "yaxis": "y2"
        },
        {
         "base": 0,
         "name": "s2 -metric 2 - Fixed Capital Investment (FCI)",
         "offset": 0.1,
         "type": "bar",
         "width": 0.2,
         "x": [
          "ammonia_addition",
          "backwash_solids_handling",
          "cartridge_filtration",
          "chlorination_twb",
          "co2_addition",
          "coag_and_floc",
          "landfill",
          "lime_softening",
          "municipal_drinking",
          "ro_deep",
          "ro_deep_scnd_pass",
          "sodium_bisulfite_addition",
          "sulfuric_acid_addition",
          "surface_discharge",
          "sw_onshore_intake",
          "treated_storage_24_hr",
          "tri_media_filtration"
         ],
         "y": [
          0.809,
          14.723,
          11.987,
          9.427,
          7.744,
          11.766,
          0.007,
          52.714,
          4.364,
          264.575,
          null,
          0.419,
          0.418,
          28.559,
          20.98,
          12.115,
          12.751
         ]
        },
        {
         "base": 0,
         "name": "s2 -metric 2 - Land",
         "offset": 0.1,
         "type": "bar",
         "width": 0.2,
         "x": [
          "ammonia_addition",
          "backwash_solids_handling",
          "cartridge_filtration",
          "chlorination_twb",
          "co2_addition",
          "coag_and_floc",
          "landfill",
          "lime_softening",
          "municipal_drinking",
          "ro_deep",
          "ro_deep_scnd_pass",
          "sodium_bisulfite_addition",
          "sulfuric_acid_addition",
          "surface_discharge",
          "sw_onshore_intake",
          "treated_storage_24_hr",
          "tri_media_filtration"
         ],
         "y": [
          0.001,
          0.022,
          0.018,
          0.014,
          0.012,
          0.018,
          0,
          0.079,
          0.007,
          0.397,
          null,
          0.001,
          0.001,
          0.043,
          0.031,
          0.018,
          0.019
         ]
        },
        {
         "base": 0,
         "name": "s2 -metric 2 - System Catalysts and Chemicals",
         "offset": 0.1,
         "type": "bar",
         "width": 0.2,
         "x": [
          "System"
         ],
         "y": [
          61.09
         ]
        },
        {
         "base": 0,
         "name": "s2 -metric 2 - System Electricity",
         "offset": 0.1,
         "type": "bar",
         "width": 0.2,
         "x": [
          "System"
         ],
         "y": [
          890.635
         ]
        },
        {
         "base": 0,
         "name": "s2 -metric 2 - System Fixed Capital Investment (FCI)",
         "offset": 0.1,
         "type": "bar",
         "width": 0.2,
         "x": [
          "System"
         ],
         "y": [
          476.707
         ]
        },
        {
         "base": 0,
         "name": "s2 -metric 2 - System Fixed Operating",
         "offset": 0.1,
         "type": "bar",
         "width": 0.2,
         "x": [
          "System"
         ],
         "y": [
          134.79
         ]
        },
        {
         "base": 0,
         "name": "s2 -metric 2 - System Other Variable Operating",
         "offset": 0.1,
         "type": "bar",
         "width": 0.2,
         "x": [
          "System"
         ],
         "y": [
          0
         ]
        },
        {
         "base": 0,
         "name": "s2 -metric 2 - System Total Operating",
         "offset": 0.1,
         "type": "bar",
         "width": 0.2,
         "x": [
          "System"
         ],
         "y": [
          1221.305
         ]
        },
        {
         "base": 0,
         "name": "s2 -metric 2 - Total Capital Investment (TCI)",
         "offset": 0.1,
         "type": "bar",
         "width": 0.2,
         "x": [
          "ammonia_addition",
          "backwash_solids_handling",
          "cartridge_filtration",
          "chlorination_twb",
          "co2_addition",
          "coag_and_floc",
          "landfill",
          "lime_softening",
          "municipal_drinking",
          "ro_deep",
          "ro_deep_scnd_pass",
          "sodium_bisulfite_addition",
          "sulfuric_acid_addition",
          "surface_discharge",
          "sw_onshore_intake",
          "treated_storage_24_hr",
          "tri_media_filtration"
         ],
         "y": [
          0.851,
          15.482,
          12.605,
          9.912,
          8.143,
          12.372,
          0.008,
          55.429,
          4.589,
          278.2,
          null,
          0.44,
          0.44,
          30.03,
          22.061,
          12.739,
          13.408
         ]
        },
        {
         "base": 0,
         "name": "s2 -metric 2 - Total Unit Cost",
         "offset": 0.1,
         "type": "bar",
         "width": 0.2,
         "x": [
          "ammonia_addition",
          "backwash_solids_handling",
          "cartridge_filtration",
          "chlorination_twb",
          "co2_addition",
          "coag_and_floc",
          "landfill",
          "lime_softening",
          "municipal_drinking",
          "ro_deep",
          "ro_deep_scnd_pass",
          "sodium_bisulfite_addition",
          "sulfuric_acid_addition",
          "surface_discharge",
          "sw_onshore_intake",
          "treated_storage_24_hr",
          "tri_media_filtration"
         ],
         "y": [
          0.863,
          15.948,
          12.785,
          10.32,
          8.359,
          13.654,
          0.008,
          57.095,
          7.755,
          315.835,
          null,
          1.197,
          0.696,
          31.447,
          24.358,
          12.871,
          17.842
         ]
        },
        {
         "base": 0,
         "name": "s2 -metric 2 - Working Capital",
         "offset": 0.1,
         "type": "bar",
         "width": 0.2,
         "x": [
          "ammonia_addition",
          "backwash_solids_handling",
          "cartridge_filtration",
          "chlorination_twb",
          "co2_addition",
          "coag_and_floc",
          "landfill",
          "lime_softening",
          "municipal_drinking",
          "ro_deep",
          "ro_deep_scnd_pass",
          "sodium_bisulfite_addition",
          "sulfuric_acid_addition",
          "surface_discharge",
          "sw_onshore_intake",
          "treated_storage_24_hr",
          "tri_media_filtration"
         ],
         "y": [
          0.04,
          0.736,
          0.599,
          0.471,
          0.387,
          0.588,
          0,
          2.636,
          0.218,
          13.229,
          null,
          0.021,
          0.021,
          1.428,
          1.049,
          0.606,
          0.638
         ]
        },
        {
         "marker": {
          "color": "#B22222"
         },
         "mode": "markers",
         "name": "s2 -metric 2 - Base Employee Salary",
         "stackgroup": "True",
         "type": "scatter",
         "x": [
          "ammonia_addition",
          "backwash_solids_handling",
          "cartridge_filtration",
          "chlorination_twb",
          "co2_addition",
          "coag_and_floc",
          "landfill",
          "lime_softening",
          "municipal_drinking",
          "ro_deep",
          "ro_deep_scnd_pass",
          "sodium_bisulfite_addition",
          "sulfuric_acid_addition",
          "surface_discharge",
          "sw_onshore_intake",
          "treated_storage_24_hr",
          "tri_media_filtration"
         ],
         "xaxis": "x",
         "y": [
          0.001,
          0.012,
          0.011,
          0.009,
          0.008,
          0.012,
          0,
          0.053,
          0.004,
          0.222,
          null,
          0,
          0,
          0.029,
          0.02,
          0.01,
          0.012
         ],
         "yaxis": "y2"
        },
        {
         "marker": {
          "color": "#B22222"
         },
         "mode": "markers",
         "name": "s2 -metric 2 - Benefits",
         "stackgroup": "True",
         "type": "scatter",
         "x": [
          "ammonia_addition",
          "backwash_solids_handling",
          "cartridge_filtration",
          "chlorination_twb",
          "co2_addition",
          "coag_and_floc",
          "landfill",
          "lime_softening",
          "municipal_drinking",
          "ro_deep",
          "ro_deep_scnd_pass",
          "sodium_bisulfite_addition",
          "sulfuric_acid_addition",
          "surface_discharge",
          "sw_onshore_intake",
          "treated_storage_24_hr",
          "tri_media_filtration"
         ],
         "xaxis": "x",
         "y": [
          0.001,
          0.014,
          0.011,
          0.009,
          0.007,
          0.011,
          0,
          0.047,
          0.004,
          0.251,
          null,
          0,
          0,
          0.026,
          0.019,
          0.011,
          0.012
         ],
         "yaxis": "y2"
        },
        {
         "marker": {
          "color": "#B22222"
         },
         "mode": "markers",
         "name": "s2 -metric 2 - Catalysts and Chemicals",
         "stackgroup": "True",
         "type": "scatter",
         "x": [
          "ammonia_addition",
          "backwash_solids_handling",
          "cartridge_filtration",
          "chlorination_twb",
          "co2_addition",
          "coag_and_floc",
          "landfill",
          "lime_softening",
          "municipal_drinking",
          "ro_deep",
          "ro_deep_scnd_pass",
          "sodium_bisulfite_addition",
          "sulfuric_acid_addition",
          "surface_discharge",
          "sw_onshore_intake",
          "treated_storage_24_hr",
          "tri_media_filtration"
         ],
         "xaxis": "x",
         "y": [
          0,
          0,
          0,
          0.266,
          0,
          1.009,
          0,
          0.779,
          0,
          0,
          null,
          0.75,
          0.25,
          0,
          0,
          0,
          0
         ],
         "yaxis": "y2"
        },
        {
         "marker": {
          "color": "#B22222"
         },
         "mode": "markers",
         "name": "s2 -metric 2 - Electricity",
         "stackgroup": "True",
         "type": "scatter",
         "x": [
          "ammonia_addition",
          "backwash_solids_handling",
          "cartridge_filtration",
          "chlorination_twb",
          "co2_addition",
          "coag_and_floc",
          "landfill",
          "lime_softening",
          "municipal_drinking",
          "ro_deep",
          "ro_deep_scnd_pass",
          "sodium_bisulfite_addition",
          "sulfuric_acid_addition",
          "surface_discharge",
          "sw_onshore_intake",
          "treated_storage_24_hr",
          "tri_media_filtration"
         ],
         "xaxis": "x",
         "y": [
          0,
          0.245,
          0,
          0,
          0.101,
          0.098,
          0,
          0.101,
          3.101,
          33.665,
          null,
          0,
          0,
          0.992,
          1.985,
          0,
          4.243
         ],
         "yaxis": "y2"
        },
        {
         "marker": {
          "color": "#B22222"
         },
         "mode": "markers",
         "name": "s2 -metric 2 - Employee Salaries",
         "stackgroup": "True",
         "type": "scatter",
         "x": [
          "ammonia_addition",
          "backwash_solids_handling",
          "cartridge_filtration",
          "chlorination_twb",
          "co2_addition",
          "coag_and_floc",
          "landfill",
          "lime_softening",
          "municipal_drinking",
          "ro_deep",
          "ro_deep_scnd_pass",
          "sodium_bisulfite_addition",
          "sulfuric_acid_addition",
          "surface_discharge",
          "sw_onshore_intake",
          "treated_storage_24_hr",
          "tri_media_filtration"
         ],
         "xaxis": "x",
         "y": [
          0.001,
          0.016,
          0.013,
          0.01,
          0.008,
          0.012,
          0,
          0.053,
          0.004,
          0.279,
          null,
          0,
          0,
          0.029,
          0.021,
          0.012,
          0.013
         ],
         "yaxis": "y2"
        },
        {
         "marker": {
          "color": "#B22222"
         },
         "mode": "markers",
         "name": "s2 -metric 2 - Insurance and Taxes",
         "stackgroup": "True",
         "type": "scatter",
         "x": [
          "ammonia_addition",
          "backwash_solids_handling",
          "cartridge_filtration",
          "chlorination_twb",
          "co2_addition",
          "coag_and_floc",
          "landfill",
          "lime_softening",
          "municipal_drinking",
          "ro_deep",
          "ro_deep_scnd_pass",
          "sodium_bisulfite_addition",
          "sulfuric_acid_addition",
          "surface_discharge",
          "sw_onshore_intake",
          "treated_storage_24_hr",
          "tri_media_filtration"
         ],
         "xaxis": "x",
         "y": [
          0.002,
          0.029,
          0.024,
          0.019,
          0.015,
          0.024,
          0,
          0.105,
          0.009,
          0.529,
          null,
          0.001,
          0.001,
          0.057,
          0.042,
          0.024,
          0.026
         ],
         "yaxis": "y2"
        },
        {
         "marker": {
          "color": "#B22222"
         },
         "mode": "markers",
         "name": "s2 -metric 2 - Laboratory",
         "stackgroup": "True",
         "type": "scatter",
         "x": [
          "ammonia_addition",
          "backwash_solids_handling",
          "cartridge_filtration",
          "chlorination_twb",
          "co2_addition",
          "coag_and_floc",
          "landfill",
          "lime_softening",
          "municipal_drinking",
          "ro_deep",
          "ro_deep_scnd_pass",
          "sodium_bisulfite_addition",
          "sulfuric_acid_addition",
          "surface_discharge",
          "sw_onshore_intake",
          "treated_storage_24_hr",
          "tri_media_filtration"
         ],
         "xaxis": "x",
         "y": [
          0.002,
          0.044,
          0.036,
          0.028,
          0.023,
          0.035,
          0,
          0.158,
          0.013,
          0.794,
          null,
          0.001,
          0.001,
          0.086,
          0.063,
          0.036,
          0.038
         ],
         "yaxis": "y2"
        },
        {
         "marker": {
          "color": "#B22222"
         },
         "mode": "markers",
         "name": "s2 -metric 2 - Maintenance",
         "stackgroup": "True",
         "type": "scatter",
         "x": [
          "ammonia_addition",
          "backwash_solids_handling",
          "cartridge_filtration",
          "chlorination_twb",
          "co2_addition",
          "coag_and_floc",
          "landfill",
          "lime_softening",
          "municipal_drinking",
          "ro_deep",
          "ro_deep_scnd_pass",
          "sodium_bisulfite_addition",
          "sulfuric_acid_addition",
          "surface_discharge",
          "sw_onshore_intake",
          "treated_storage_24_hr",
          "tri_media_filtration"
         ],
         "xaxis": "x",
         "y": [
          0.006,
          0.118,
          0.096,
          0.075,
          0.062,
          0.094,
          0,
          0.422,
          0.035,
          2.117,
          null,
          0.003,
          0.003,
          0.228,
          0.168,
          0.049,
          0.102
         ],
         "yaxis": "y2"
        },
        {
         "marker": {
          "color": "#B22222"
         },
         "mode": "markers",
         "name": "s2 -metric 2 - Other Operating",
         "stackgroup": "True",
         "type": "scatter",
         "x": [
          "ammonia_addition",
          "backwash_solids_handling",
          "cartridge_filtration",
          "chlorination_twb",
          "co2_addition",
          "coag_and_floc",
          "landfill",
          "lime_softening",
          "municipal_drinking",
          "ro_deep",
          "ro_deep_scnd_pass",
          "sodium_bisulfite_addition",
          "sulfuric_acid_addition",
          "surface_discharge",
          "sw_onshore_intake",
          "treated_storage_24_hr",
          "tri_media_filtration"
         ],
         "xaxis": "x",
         "y": [
          0,
          0,
          0,
          0,
          0,
          0,
          0,
          0,
          0,
          0,
          null,
          0,
          0,
          0,
          0,
          0,
          0
         ],
         "yaxis": "y2"
        },
        {
         "marker": {
          "color": "#B22222"
         },
         "mode": "markers",
         "name": "s2 -metric 2 - System Capital Investment",
         "stackgroup": "True",
         "type": "scatter",
         "x": [
          "System"
         ],
         "xaxis": "x",
         "y": [
          476.707
         ],
         "yaxis": "y2"
        },
        {
         "marker": {
          "color": "#B22222"
         },
         "mode": "markers",
         "name": "s2 -metric 2 - System Catalysts and Chemicals",
         "stackgroup": "True",
         "type": "scatter",
         "x": [
          "System"
         ],
         "xaxis": "x",
         "y": [
          3.054
         ],
         "yaxis": "y2"
        },
        {
         "marker": {
          "color": "#B22222"
         },
         "mode": "markers",
         "name": "s2 -metric 2 - System Electricity",
         "stackgroup": "True",
         "type": "scatter",
         "x": [
          "System"
         ],
         "xaxis": "x",
         "y": [
          44.532
         ],
         "yaxis": "y2"
        },
        {
         "marker": {
          "color": "#B22222"
         },
         "mode": "markers",
         "name": "s2 -metric 2 - System Fixed Operating",
         "stackgroup": "True",
         "type": "scatter",
         "x": [
          "System"
         ],
         "xaxis": "x",
         "y": [
          6.74
         ],
         "yaxis": "y2"
        },
        {
         "marker": {
          "color": "#B22222"
         },
         "mode": "markers",
         "name": "s2 -metric 2 - System Other Variable Operating",
         "stackgroup": "True",
         "type": "scatter",
         "x": [
          "System"
         ],
         "xaxis": "x",
         "y": [
          0
         ],
         "yaxis": "y2"
        },
        {
         "marker": {
          "color": "#B22222"
         },
         "mode": "markers",
         "name": "s2 -metric 2 - System Total Operating Cost",
         "stackgroup": "True",
         "type": "scatter",
         "x": [
          "System"
         ],
         "xaxis": "x",
         "y": [
          61.065
         ],
         "yaxis": "y2"
        },
        {
         "marker": {
          "color": "#B22222"
         },
         "mode": "markers",
         "name": "s2 -metric 2 - Total Fixed Operating ",
         "stackgroup": "True",
         "type": "scatter",
         "x": [
          "ammonia_addition",
          "backwash_solids_handling",
          "cartridge_filtration",
          "chlorination_twb",
          "co2_addition",
          "coag_and_floc",
          "landfill",
          "lime_softening",
          "municipal_drinking",
          "ro_deep",
          "ro_deep_scnd_pass",
          "sodium_bisulfite_addition",
          "sulfuric_acid_addition",
          "surface_discharge",
          "sw_onshore_intake",
          "treated_storage_24_hr",
          "tri_media_filtration"
         ],
         "xaxis": "x",
         "y": [
          0.012,
          0.221,
          0.18,
          0.141,
          0.115,
          0.175,
          0,
          0.785,
          0.065,
          3.97,
          null,
          0.006,
          0.006,
          0.426,
          0.313,
          0.132,
          0.191
         ],
         "yaxis": "y2"
        }
       ],
       "layout": {
        "barmode": "stack",
        "height": 400,
        "template": {
         "data": {
          "bar": [
           {
            "error_x": {
             "color": "#2a3f5f"
            },
            "error_y": {
             "color": "#2a3f5f"
            },
            "marker": {
             "line": {
              "color": "#E5ECF6",
              "width": 0.5
             }
            },
            "type": "bar"
           }
          ],
          "barpolar": [
           {
            "marker": {
             "line": {
              "color": "#E5ECF6",
              "width": 0.5
             }
            },
            "type": "barpolar"
           }
          ],
          "carpet": [
           {
            "aaxis": {
             "endlinecolor": "#2a3f5f",
             "gridcolor": "white",
             "linecolor": "white",
             "minorgridcolor": "white",
             "startlinecolor": "#2a3f5f"
            },
            "baxis": {
             "endlinecolor": "#2a3f5f",
             "gridcolor": "white",
             "linecolor": "white",
             "minorgridcolor": "white",
             "startlinecolor": "#2a3f5f"
            },
            "type": "carpet"
           }
          ],
          "choropleth": [
           {
            "colorbar": {
             "outlinewidth": 0,
             "ticks": ""
            },
            "type": "choropleth"
           }
          ],
          "contour": [
           {
            "colorbar": {
             "outlinewidth": 0,
             "ticks": ""
            },
            "colorscale": [
             [
              0,
              "#0d0887"
             ],
             [
              0.1111111111111111,
              "#46039f"
             ],
             [
              0.2222222222222222,
              "#7201a8"
             ],
             [
              0.3333333333333333,
              "#9c179e"
             ],
             [
              0.4444444444444444,
              "#bd3786"
             ],
             [
              0.5555555555555556,
              "#d8576b"
             ],
             [
              0.6666666666666666,
              "#ed7953"
             ],
             [
              0.7777777777777778,
              "#fb9f3a"
             ],
             [
              0.8888888888888888,
              "#fdca26"
             ],
             [
              1,
              "#f0f921"
             ]
            ],
            "type": "contour"
           }
          ],
          "contourcarpet": [
           {
            "colorbar": {
             "outlinewidth": 0,
             "ticks": ""
            },
            "type": "contourcarpet"
           }
          ],
          "heatmap": [
           {
            "colorbar": {
             "outlinewidth": 0,
             "ticks": ""
            },
            "colorscale": [
             [
              0,
              "#0d0887"
             ],
             [
              0.1111111111111111,
              "#46039f"
             ],
             [
              0.2222222222222222,
              "#7201a8"
             ],
             [
              0.3333333333333333,
              "#9c179e"
             ],
             [
              0.4444444444444444,
              "#bd3786"
             ],
             [
              0.5555555555555556,
              "#d8576b"
             ],
             [
              0.6666666666666666,
              "#ed7953"
             ],
             [
              0.7777777777777778,
              "#fb9f3a"
             ],
             [
              0.8888888888888888,
              "#fdca26"
             ],
             [
              1,
              "#f0f921"
             ]
            ],
            "type": "heatmap"
           }
          ],
          "heatmapgl": [
           {
            "colorbar": {
             "outlinewidth": 0,
             "ticks": ""
            },
            "colorscale": [
             [
              0,
              "#0d0887"
             ],
             [
              0.1111111111111111,
              "#46039f"
             ],
             [
              0.2222222222222222,
              "#7201a8"
             ],
             [
              0.3333333333333333,
              "#9c179e"
             ],
             [
              0.4444444444444444,
              "#bd3786"
             ],
             [
              0.5555555555555556,
              "#d8576b"
             ],
             [
              0.6666666666666666,
              "#ed7953"
             ],
             [
              0.7777777777777778,
              "#fb9f3a"
             ],
             [
              0.8888888888888888,
              "#fdca26"
             ],
             [
              1,
              "#f0f921"
             ]
            ],
            "type": "heatmapgl"
           }
          ],
          "histogram": [
           {
            "marker": {
             "colorbar": {
              "outlinewidth": 0,
              "ticks": ""
             }
            },
            "type": "histogram"
           }
          ],
          "histogram2d": [
           {
            "colorbar": {
             "outlinewidth": 0,
             "ticks": ""
            },
            "colorscale": [
             [
              0,
              "#0d0887"
             ],
             [
              0.1111111111111111,
              "#46039f"
             ],
             [
              0.2222222222222222,
              "#7201a8"
             ],
             [
              0.3333333333333333,
              "#9c179e"
             ],
             [
              0.4444444444444444,
              "#bd3786"
             ],
             [
              0.5555555555555556,
              "#d8576b"
             ],
             [
              0.6666666666666666,
              "#ed7953"
             ],
             [
              0.7777777777777778,
              "#fb9f3a"
             ],
             [
              0.8888888888888888,
              "#fdca26"
             ],
             [
              1,
              "#f0f921"
             ]
            ],
            "type": "histogram2d"
           }
          ],
          "histogram2dcontour": [
           {
            "colorbar": {
             "outlinewidth": 0,
             "ticks": ""
            },
            "colorscale": [
             [
              0,
              "#0d0887"
             ],
             [
              0.1111111111111111,
              "#46039f"
             ],
             [
              0.2222222222222222,
              "#7201a8"
             ],
             [
              0.3333333333333333,
              "#9c179e"
             ],
             [
              0.4444444444444444,
              "#bd3786"
             ],
             [
              0.5555555555555556,
              "#d8576b"
             ],
             [
              0.6666666666666666,
              "#ed7953"
             ],
             [
              0.7777777777777778,
              "#fb9f3a"
             ],
             [
              0.8888888888888888,
              "#fdca26"
             ],
             [
              1,
              "#f0f921"
             ]
            ],
            "type": "histogram2dcontour"
           }
          ],
          "mesh3d": [
           {
            "colorbar": {
             "outlinewidth": 0,
             "ticks": ""
            },
            "type": "mesh3d"
           }
          ],
          "parcoords": [
           {
            "line": {
             "colorbar": {
              "outlinewidth": 0,
              "ticks": ""
             }
            },
            "type": "parcoords"
           }
          ],
          "pie": [
           {
            "automargin": true,
            "type": "pie"
           }
          ],
          "scatter": [
           {
            "marker": {
             "colorbar": {
              "outlinewidth": 0,
              "ticks": ""
             }
            },
            "type": "scatter"
           }
          ],
          "scatter3d": [
           {
            "line": {
             "colorbar": {
              "outlinewidth": 0,
              "ticks": ""
             }
            },
            "marker": {
             "colorbar": {
              "outlinewidth": 0,
              "ticks": ""
             }
            },
            "type": "scatter3d"
           }
          ],
          "scattercarpet": [
           {
            "marker": {
             "colorbar": {
              "outlinewidth": 0,
              "ticks": ""
             }
            },
            "type": "scattercarpet"
           }
          ],
          "scattergeo": [
           {
            "marker": {
             "colorbar": {
              "outlinewidth": 0,
              "ticks": ""
             }
            },
            "type": "scattergeo"
           }
          ],
          "scattergl": [
           {
            "marker": {
             "colorbar": {
              "outlinewidth": 0,
              "ticks": ""
             }
            },
            "type": "scattergl"
           }
          ],
          "scattermapbox": [
           {
            "marker": {
             "colorbar": {
              "outlinewidth": 0,
              "ticks": ""
             }
            },
            "type": "scattermapbox"
           }
          ],
          "scatterpolar": [
           {
            "marker": {
             "colorbar": {
              "outlinewidth": 0,
              "ticks": ""
             }
            },
            "type": "scatterpolar"
           }
          ],
          "scatterpolargl": [
           {
            "marker": {
             "colorbar": {
              "outlinewidth": 0,
              "ticks": ""
             }
            },
            "type": "scatterpolargl"
           }
          ],
          "scatterternary": [
           {
            "marker": {
             "colorbar": {
              "outlinewidth": 0,
              "ticks": ""
             }
            },
            "type": "scatterternary"
           }
          ],
          "surface": [
           {
            "colorbar": {
             "outlinewidth": 0,
             "ticks": ""
            },
            "colorscale": [
             [
              0,
              "#0d0887"
             ],
             [
              0.1111111111111111,
              "#46039f"
             ],
             [
              0.2222222222222222,
              "#7201a8"
             ],
             [
              0.3333333333333333,
              "#9c179e"
             ],
             [
              0.4444444444444444,
              "#bd3786"
             ],
             [
              0.5555555555555556,
              "#d8576b"
             ],
             [
              0.6666666666666666,
              "#ed7953"
             ],
             [
              0.7777777777777778,
              "#fb9f3a"
             ],
             [
              0.8888888888888888,
              "#fdca26"
             ],
             [
              1,
              "#f0f921"
             ]
            ],
            "type": "surface"
           }
          ],
          "table": [
           {
            "cells": {
             "fill": {
              "color": "#EBF0F8"
             },
             "line": {
              "color": "white"
             }
            },
            "header": {
             "fill": {
              "color": "#C8D4E3"
             },
             "line": {
              "color": "white"
             }
            },
            "type": "table"
           }
          ]
         },
         "layout": {
          "annotationdefaults": {
           "arrowcolor": "#2a3f5f",
           "arrowhead": 0,
           "arrowwidth": 1
          },
          "autotypenumbers": "strict",
          "coloraxis": {
           "colorbar": {
            "outlinewidth": 0,
            "ticks": ""
           }
          },
          "colorscale": {
           "diverging": [
            [
             0,
             "#8e0152"
            ],
            [
             0.1,
             "#c51b7d"
            ],
            [
             0.2,
             "#de77ae"
            ],
            [
             0.3,
             "#f1b6da"
            ],
            [
             0.4,
             "#fde0ef"
            ],
            [
             0.5,
             "#f7f7f7"
            ],
            [
             0.6,
             "#e6f5d0"
            ],
            [
             0.7,
             "#b8e186"
            ],
            [
             0.8,
             "#7fbc41"
            ],
            [
             0.9,
             "#4d9221"
            ],
            [
             1,
             "#276419"
            ]
           ],
           "sequential": [
            [
             0,
             "#0d0887"
            ],
            [
             0.1111111111111111,
             "#46039f"
            ],
            [
             0.2222222222222222,
             "#7201a8"
            ],
            [
             0.3333333333333333,
             "#9c179e"
            ],
            [
             0.4444444444444444,
             "#bd3786"
            ],
            [
             0.5555555555555556,
             "#d8576b"
            ],
            [
             0.6666666666666666,
             "#ed7953"
            ],
            [
             0.7777777777777778,
             "#fb9f3a"
            ],
            [
             0.8888888888888888,
             "#fdca26"
            ],
            [
             1,
             "#f0f921"
            ]
           ],
           "sequentialminus": [
            [
             0,
             "#0d0887"
            ],
            [
             0.1111111111111111,
             "#46039f"
            ],
            [
             0.2222222222222222,
             "#7201a8"
            ],
            [
             0.3333333333333333,
             "#9c179e"
            ],
            [
             0.4444444444444444,
             "#bd3786"
            ],
            [
             0.5555555555555556,
             "#d8576b"
            ],
            [
             0.6666666666666666,
             "#ed7953"
            ],
            [
             0.7777777777777778,
             "#fb9f3a"
            ],
            [
             0.8888888888888888,
             "#fdca26"
            ],
            [
             1,
             "#f0f921"
            ]
           ]
          },
          "colorway": [
           "#636efa",
           "#EF553B",
           "#00cc96",
           "#ab63fa",
           "#FFA15A",
           "#19d3f3",
           "#FF6692",
           "#B6E880",
           "#FF97FF",
           "#FECB52"
          ],
          "font": {
           "color": "#2a3f5f"
          },
          "geo": {
           "bgcolor": "white",
           "lakecolor": "white",
           "landcolor": "#E5ECF6",
           "showlakes": true,
           "showland": true,
           "subunitcolor": "white"
          },
          "hoverlabel": {
           "align": "left"
          },
          "hovermode": "closest",
          "mapbox": {
           "style": "light"
          },
          "paper_bgcolor": "white",
          "plot_bgcolor": "#E5ECF6",
          "polar": {
           "angularaxis": {
            "gridcolor": "white",
            "linecolor": "white",
            "ticks": ""
           },
           "bgcolor": "#E5ECF6",
           "radialaxis": {
            "gridcolor": "white",
            "linecolor": "white",
            "ticks": ""
           }
          },
          "scene": {
           "xaxis": {
            "backgroundcolor": "#E5ECF6",
            "gridcolor": "white",
            "gridwidth": 2,
            "linecolor": "white",
            "showbackground": true,
            "ticks": "",
            "zerolinecolor": "white"
           },
           "yaxis": {
            "backgroundcolor": "#E5ECF6",
            "gridcolor": "white",
            "gridwidth": 2,
            "linecolor": "white",
            "showbackground": true,
            "ticks": "",
            "zerolinecolor": "white"
           },
           "zaxis": {
            "backgroundcolor": "#E5ECF6",
            "gridcolor": "white",
            "gridwidth": 2,
            "linecolor": "white",
            "showbackground": true,
            "ticks": "",
            "zerolinecolor": "white"
           }
          },
          "shapedefaults": {
           "line": {
            "color": "#2a3f5f"
           }
          },
          "ternary": {
           "aaxis": {
            "gridcolor": "white",
            "linecolor": "white",
            "ticks": ""
           },
           "baxis": {
            "gridcolor": "white",
            "linecolor": "white",
            "ticks": ""
           },
           "bgcolor": "#E5ECF6",
           "caxis": {
            "gridcolor": "white",
            "linecolor": "white",
            "ticks": ""
           }
          },
          "title": {
           "x": 0.05
          },
          "xaxis": {
           "automargin": true,
           "gridcolor": "white",
           "linecolor": "white",
           "ticks": "",
           "title": {
            "standoff": 15
           },
           "zerolinecolor": "white",
           "zerolinewidth": 2
          },
          "yaxis": {
           "automargin": true,
           "gridcolor": "white",
           "linecolor": "white",
           "ticks": "",
           "title": {
            "standoff": 15
           },
           "zerolinecolor": "white",
           "zerolinewidth": 2
          }
         }
        },
        "width": 1600,
        "xaxis": {
         "anchor": "y",
         "domain": [
          0,
          0.94
         ]
        },
        "yaxis": {
         "anchor": "x",
         "domain": [
          0,
          1
         ]
        },
        "yaxis2": {
         "anchor": "x",
         "overlaying": "y",
         "side": "right"
        }
       }
      }
     },
     "metadata": {}
    }
   ],
   "source": [
    "# fig = make_subplots(specs=[[{\"secondary_y\": True}]])\n",
    "\n",
    "# for var, group in df1_c.groupby('Variable'):\n",
    "#     fig.add_trace(go.Bar(x=group['Unit Process Name'], y=group['Value'], width=0.2, name='s1 -%s - %s'%('metric 1',var), offset=-0.1))\n",
    "\n",
    "# for var, group in df1_ac.groupby('Variable'):\n",
    "#     fig.add_trace(go.Scatter(x=group['Unit Process Name'], y=group['Value'], mode='markers', marker_color='#1E90FF', stackgroup=True, name='s1 - %s - %s'%('metric 1',var)), secondary_y=True)\n",
    "\n",
    "# for var, group in df2_c.groupby('Variable'):\n",
    "#     fig.add_trace(go.Bar(x=group['Unit Process Name'], y=group['Value'], width=0.2, base=0, name='s2 -%s - %s'%('metric 2',var), offset=0.1))\n",
    "\n",
    "# for var, group in df2_ac.groupby('Variable'):\n",
    "#     fig.add_trace(go.Scatter(x=group['Unit Process Name'], y=group['Value'], mode='markers', marker_color='#B22222', stackgroup=True, name='s2 -%s - %s'%('metric 2',var)), secondary_y=True)\n",
    "\n",
    "# fig.update_layout(barmode='stack', width=1600, height=400)\n",
    "# fig.show()"
   ]
  },
  {
   "cell_type": "code",
   "execution_count": 189,
   "metadata": {},
   "outputs": [],
   "source": [
    "test = pd.DataFrame(columns={'Unit_Process'})"
   ]
  },
  {
   "cell_type": "code",
   "execution_count": 191,
   "metadata": {},
   "outputs": [
    {
     "output_type": "execute_result",
     "data": {
      "text/plain": [
       "Series([], Name: Unit_Process, dtype: object)"
      ]
     },
     "metadata": {},
     "execution_count": 191
    }
   ],
   "source": [
    "test['Unit_Process']"
   ]
  },
  {
   "cell_type": "code",
   "execution_count": null,
   "metadata": {},
   "outputs": [],
   "source": []
  }
 ]
}